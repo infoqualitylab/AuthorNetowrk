{
 "cells": [
  {
   "cell_type": "code",
   "execution_count": 1,
   "id": "834a344e",
   "metadata": {},
   "outputs": [],
   "source": [
    "import pandas as pd"
   ]
  },
  {
   "cell_type": "code",
   "execution_count": 5,
   "id": "d84eb644",
   "metadata": {},
   "outputs": [],
   "source": [
    "data = pd.read_excel(io='raw_data/salt_cont_auth_updated_id.xlsx')"
   ]
  },
  {
   "cell_type": "code",
   "execution_count": 6,
   "id": "9071cb71",
   "metadata": {},
   "outputs": [
    {
     "data": {
      "text/html": [
       "<div>\n",
       "<style scoped>\n",
       "    .dataframe tbody tr th:only-of-type {\n",
       "        vertical-align: middle;\n",
       "    }\n",
       "\n",
       "    .dataframe tbody tr th {\n",
       "        vertical-align: top;\n",
       "    }\n",
       "\n",
       "    .dataframe thead th {\n",
       "        text-align: right;\n",
       "    }\n",
       "</style>\n",
       "<table border=\"1\" class=\"dataframe\">\n",
       "  <thead>\n",
       "    <tr style=\"text-align: right;\">\n",
       "      <th></th>\n",
       "      <th>ID</th>\n",
       "      <th>original_title</th>\n",
       "      <th>author_given_name</th>\n",
       "      <th>author_surname</th>\n",
       "      <th>author_id</th>\n",
       "      <th>organizational_author</th>\n",
       "      <th>manual</th>\n",
       "    </tr>\n",
       "  </thead>\n",
       "  <tbody>\n",
       "    <tr>\n",
       "      <th>0</th>\n",
       "      <td>1</td>\n",
       "      <td>Systematic review of long term effects of advi...</td>\n",
       "      <td>Lee</td>\n",
       "      <td>Hooper</td>\n",
       "      <td>5.720286e+10</td>\n",
       "      <td>NaN</td>\n",
       "      <td>False</td>\n",
       "    </tr>\n",
       "    <tr>\n",
       "      <th>1</th>\n",
       "      <td>1</td>\n",
       "      <td>Systematic review of long term effects of advi...</td>\n",
       "      <td>Christopher</td>\n",
       "      <td>Bartlett</td>\n",
       "      <td>5.719438e+10</td>\n",
       "      <td>NaN</td>\n",
       "      <td>False</td>\n",
       "    </tr>\n",
       "    <tr>\n",
       "      <th>2</th>\n",
       "      <td>1</td>\n",
       "      <td>Systematic review of long term effects of advi...</td>\n",
       "      <td>George Davey</td>\n",
       "      <td>Smith</td>\n",
       "      <td>3.535408e+10</td>\n",
       "      <td>NaN</td>\n",
       "      <td>False</td>\n",
       "    </tr>\n",
       "    <tr>\n",
       "      <th>3</th>\n",
       "      <td>1</td>\n",
       "      <td>Systematic review of long term effects of advi...</td>\n",
       "      <td>Shah</td>\n",
       "      <td>Ebrahim</td>\n",
       "      <td>7.102093e+09</td>\n",
       "      <td>NaN</td>\n",
       "      <td>False</td>\n",
       "    </tr>\n",
       "    <tr>\n",
       "      <th>4</th>\n",
       "      <td>2</td>\n",
       "      <td>Reduced dietary salt for prevention of cardiov...</td>\n",
       "      <td>L.</td>\n",
       "      <td>Hooper</td>\n",
       "      <td>5.720286e+10</td>\n",
       "      <td>NaN</td>\n",
       "      <td>False</td>\n",
       "    </tr>\n",
       "  </tbody>\n",
       "</table>\n",
       "</div>"
      ],
      "text/plain": [
       "   ID                                     original_title author_given_name  \\\n",
       "0   1  Systematic review of long term effects of advi...               Lee   \n",
       "1   1  Systematic review of long term effects of advi...       Christopher   \n",
       "2   1  Systematic review of long term effects of advi...      George Davey   \n",
       "3   1  Systematic review of long term effects of advi...              Shah   \n",
       "4   2  Reduced dietary salt for prevention of cardiov...                L.   \n",
       "\n",
       "  author_surname     author_id organizational_author  manual  \n",
       "0         Hooper  5.720286e+10                   NaN   False  \n",
       "1       Bartlett  5.719438e+10                   NaN   False  \n",
       "2          Smith  3.535408e+10                   NaN   False  \n",
       "3        Ebrahim  7.102093e+09                   NaN   False  \n",
       "4         Hooper  5.720286e+10                   NaN   False  "
      ]
     },
     "execution_count": 6,
     "metadata": {},
     "output_type": "execute_result"
    }
   ],
   "source": [
    "data.head(5)"
   ]
  },
  {
   "cell_type": "code",
   "execution_count": 11,
   "id": "8be41b6c",
   "metadata": {},
   "outputs": [
    {
     "data": {
      "text/plain": [
       "array([ 1,  2,  3,  4,  5,  6,  7,  8,  9, 10, 11, 12, 13, 14, 26, 27, 28,\n",
       "       29, 30, 31, 32, 33, 34, 35, 36, 37, 38, 39, 40, 41, 42, 43, 44, 45,\n",
       "       46, 47, 48, 49, 50, 51, 52, 53, 54, 55, 56, 57, 58, 59, 60, 61, 62,\n",
       "       63, 64, 65, 66, 67, 68, 69, 70, 71, 72, 73, 74, 75, 76, 77, 78, 79,\n",
       "       80, 81, 82, 83, 84, 85, 86, 87, 88, 89, 90, 91, 92, 93],\n",
       "      dtype=int64)"
      ]
     },
     "execution_count": 11,
     "metadata": {},
     "output_type": "execute_result"
    }
   ],
   "source": [
    "data.ID.sort_values().unique() # total number matches"
   ]
  },
  {
   "cell_type": "code",
   "execution_count": null,
   "id": "853ce96f",
   "metadata": {},
   "outputs": [],
   "source": []
  }
 ],
 "metadata": {
  "kernelspec": {
   "display_name": "Python 3 (ipykernel)",
   "language": "python",
   "name": "python3"
  },
  "language_info": {
   "codemirror_mode": {
    "name": "ipython",
    "version": 3
   },
   "file_extension": ".py",
   "mimetype": "text/x-python",
   "name": "python",
   "nbconvert_exporter": "python",
   "pygments_lexer": "ipython3",
   "version": "3.7.11"
  }
 },
 "nbformat": 4,
 "nbformat_minor": 5
}
