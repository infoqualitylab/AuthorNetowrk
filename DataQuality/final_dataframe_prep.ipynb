{
 "cells": [
  {
   "cell_type": "code",
   "execution_count": 27,
   "id": "834a344e",
   "metadata": {},
   "outputs": [],
   "source": [
    "import pandas as pd\n",
    "import numpy as np"
   ]
  },
  {
   "cell_type": "code",
   "execution_count": 34,
   "id": "4a82c338",
   "metadata": {},
   "outputs": [
    {
     "data": {
      "text/html": [
       "<div>\n",
       "<style scoped>\n",
       "    .dataframe tbody tr th:only-of-type {\n",
       "        vertical-align: middle;\n",
       "    }\n",
       "\n",
       "    .dataframe tbody tr th {\n",
       "        vertical-align: top;\n",
       "    }\n",
       "\n",
       "    .dataframe thead th {\n",
       "        text-align: right;\n",
       "    }\n",
       "</style>\n",
       "<table border=\"1\" class=\"dataframe\">\n",
       "  <thead>\n",
       "    <tr style=\"text-align: right;\">\n",
       "      <th></th>\n",
       "      <th>ID</th>\n",
       "      <th>paper assigned ID</th>\n",
       "      <th>Type</th>\n",
       "      <th>Study Groupings</th>\n",
       "      <th>Title</th>\n",
       "      <th>year</th>\n",
       "      <th>Attitude</th>\n",
       "      <th>Doi</th>\n",
       "      <th>Retracted (Y/N)</th>\n",
       "    </tr>\n",
       "  </thead>\n",
       "  <tbody>\n",
       "    <tr>\n",
       "      <th>0</th>\n",
       "      <td>1</td>\n",
       "      <td>Hooper2002</td>\n",
       "      <td>Systematic Review</td>\n",
       "      <td>NaN</td>\n",
       "      <td>Systematic review of long term effects of advi...</td>\n",
       "      <td>2002</td>\n",
       "      <td>inconclusive</td>\n",
       "      <td>10.1136/bmj.325.7365.628</td>\n",
       "      <td>NaN</td>\n",
       "    </tr>\n",
       "    <tr>\n",
       "      <th>1</th>\n",
       "      <td>2</td>\n",
       "      <td>Hooper2003</td>\n",
       "      <td>Systematic Review</td>\n",
       "      <td>NaN</td>\n",
       "      <td>Reduced dietary salt for prevention of cardiov...</td>\n",
       "      <td>2003</td>\n",
       "      <td>inconclusive</td>\n",
       "      <td>10.1002/14651858.CD003656</td>\n",
       "      <td>NaN</td>\n",
       "    </tr>\n",
       "    <tr>\n",
       "      <th>2</th>\n",
       "      <td>3</td>\n",
       "      <td>Hooper2004</td>\n",
       "      <td>Systematic Review</td>\n",
       "      <td>NaN</td>\n",
       "      <td>Advice to reduce dietary salt for prevention o...</td>\n",
       "      <td>2004</td>\n",
       "      <td>inconclusive</td>\n",
       "      <td>10.1002/14651858.CD003656.pub2</td>\n",
       "      <td>NaN</td>\n",
       "    </tr>\n",
       "    <tr>\n",
       "      <th>3</th>\n",
       "      <td>4</td>\n",
       "      <td>Strazzullo2009</td>\n",
       "      <td>Systematic Review</td>\n",
       "      <td>NaN</td>\n",
       "      <td>Salt intake, stroke, and cardiovascular diseas...</td>\n",
       "      <td>2009</td>\n",
       "      <td>for</td>\n",
       "      <td>10.1136/bmj.b4567</td>\n",
       "      <td>NaN</td>\n",
       "    </tr>\n",
       "    <tr>\n",
       "      <th>4</th>\n",
       "      <td>5</td>\n",
       "      <td>Taylor2011a</td>\n",
       "      <td>Systematic Review</td>\n",
       "      <td>NaN</td>\n",
       "      <td>Reduced dietary salt for the prevention of car...</td>\n",
       "      <td>2011</td>\n",
       "      <td>inconclusive</td>\n",
       "      <td>10.1038/ajh.2011.115</td>\n",
       "      <td>NaN</td>\n",
       "    </tr>\n",
       "  </tbody>\n",
       "</table>\n",
       "</div>"
      ],
      "text/plain": [
       "   ID paper assigned ID               Type Study Groupings  \\\n",
       "0   1        Hooper2002  Systematic Review             NaN   \n",
       "1   2        Hooper2003  Systematic Review             NaN   \n",
       "2   3        Hooper2004  Systematic Review             NaN   \n",
       "3   4    Strazzullo2009  Systematic Review             NaN   \n",
       "4   5       Taylor2011a  Systematic Review             NaN   \n",
       "\n",
       "                                               Title  year      Attitude  \\\n",
       "0  Systematic review of long term effects of advi...  2002  inconclusive   \n",
       "1  Reduced dietary salt for prevention of cardiov...  2003  inconclusive   \n",
       "2  Advice to reduce dietary salt for prevention o...  2004  inconclusive   \n",
       "3  Salt intake, stroke, and cardiovascular diseas...  2009           for   \n",
       "4  Reduced dietary salt for the prevention of car...  2011  inconclusive   \n",
       "\n",
       "                              Doi Retracted (Y/N)  \n",
       "0        10.1136/bmj.325.7365.628             NaN  \n",
       "1       10.1002/14651858.CD003656             NaN  \n",
       "2  10.1002/14651858.CD003656.pub2             NaN  \n",
       "3               10.1136/bmj.b4567             NaN  \n",
       "4            10.1038/ajh.2011.115             NaN  "
      ]
     },
     "execution_count": 34,
     "metadata": {},
     "output_type": "execute_result"
    }
   ],
   "source": [
    "# add article_list\n",
    "article_list = pd.read_csv(\"raw_data/Article_list.csv\")\n",
    "article_list.head(5)"
   ]
  },
  {
   "cell_type": "code",
   "execution_count": 6,
   "id": "d84eb644",
   "metadata": {},
   "outputs": [],
   "source": [
    "data = pd.read_csv('raw_data/salt_cont_auth_updated_hyper_tension.csv')"
   ]
  },
  {
   "cell_type": "code",
   "execution_count": 7,
   "id": "9071cb71",
   "metadata": {},
   "outputs": [
    {
     "data": {
      "text/html": [
       "<div>\n",
       "<style scoped>\n",
       "    .dataframe tbody tr th:only-of-type {\n",
       "        vertical-align: middle;\n",
       "    }\n",
       "\n",
       "    .dataframe tbody tr th {\n",
       "        vertical-align: top;\n",
       "    }\n",
       "\n",
       "    .dataframe thead th {\n",
       "        text-align: right;\n",
       "    }\n",
       "</style>\n",
       "<table border=\"1\" class=\"dataframe\">\n",
       "  <thead>\n",
       "    <tr style=\"text-align: right;\">\n",
       "      <th></th>\n",
       "      <th>ID</th>\n",
       "      <th>original_title</th>\n",
       "      <th>author_given_name</th>\n",
       "      <th>author_surname</th>\n",
       "      <th>author_id</th>\n",
       "      <th>organizational_author</th>\n",
       "      <th>manual</th>\n",
       "    </tr>\n",
       "  </thead>\n",
       "  <tbody>\n",
       "    <tr>\n",
       "      <th>0</th>\n",
       "      <td>1</td>\n",
       "      <td>Systematic review of long term effects of advi...</td>\n",
       "      <td>Lee</td>\n",
       "      <td>Hooper</td>\n",
       "      <td>57202855325</td>\n",
       "      <td>NaN</td>\n",
       "      <td>False</td>\n",
       "    </tr>\n",
       "    <tr>\n",
       "      <th>1</th>\n",
       "      <td>1</td>\n",
       "      <td>Systematic review of long term effects of advi...</td>\n",
       "      <td>Christopher</td>\n",
       "      <td>Bartlett</td>\n",
       "      <td>57194377301</td>\n",
       "      <td>NaN</td>\n",
       "      <td>False</td>\n",
       "    </tr>\n",
       "    <tr>\n",
       "      <th>2</th>\n",
       "      <td>1</td>\n",
       "      <td>Systematic review of long term effects of advi...</td>\n",
       "      <td>George Davey</td>\n",
       "      <td>Smith</td>\n",
       "      <td>35354080500</td>\n",
       "      <td>NaN</td>\n",
       "      <td>False</td>\n",
       "    </tr>\n",
       "    <tr>\n",
       "      <th>3</th>\n",
       "      <td>1</td>\n",
       "      <td>Systematic review of long term effects of advi...</td>\n",
       "      <td>Shah</td>\n",
       "      <td>Ebrahim</td>\n",
       "      <td>7102093023</td>\n",
       "      <td>NaN</td>\n",
       "      <td>False</td>\n",
       "    </tr>\n",
       "    <tr>\n",
       "      <th>4</th>\n",
       "      <td>2</td>\n",
       "      <td>Reduced dietary salt for prevention of cardiov...</td>\n",
       "      <td>L.</td>\n",
       "      <td>Hooper</td>\n",
       "      <td>57202855325</td>\n",
       "      <td>NaN</td>\n",
       "      <td>False</td>\n",
       "    </tr>\n",
       "  </tbody>\n",
       "</table>\n",
       "</div>"
      ],
      "text/plain": [
       "   ID                                     original_title author_given_name  \\\n",
       "0   1  Systematic review of long term effects of advi...               Lee   \n",
       "1   1  Systematic review of long term effects of advi...       Christopher   \n",
       "2   1  Systematic review of long term effects of advi...      George Davey   \n",
       "3   1  Systematic review of long term effects of advi...              Shah   \n",
       "4   2  Reduced dietary salt for prevention of cardiov...                L.   \n",
       "\n",
       "  author_surname    author_id organizational_author  manual  \n",
       "0         Hooper  57202855325                   NaN   False  \n",
       "1       Bartlett  57194377301                   NaN   False  \n",
       "2          Smith  35354080500                   NaN   False  \n",
       "3        Ebrahim   7102093023                   NaN   False  \n",
       "4         Hooper  57202855325                   NaN   False  "
      ]
     },
     "execution_count": 7,
     "metadata": {},
     "output_type": "execute_result"
    }
   ],
   "source": [
    "data.head(5)"
   ]
  },
  {
   "cell_type": "code",
   "execution_count": 8,
   "id": "8be41b6c",
   "metadata": {},
   "outputs": [
    {
     "data": {
      "text/plain": [
       "array([ 1,  2,  3,  4,  5,  6,  7,  8,  9, 10, 11, 12, 13, 14, 26, 27, 28,\n",
       "       29, 30, 31, 32, 33, 34, 35, 36, 37, 38, 39, 40, 41, 42, 43, 44, 45,\n",
       "       46, 47, 48, 49, 50, 51, 52, 53, 54, 55, 56, 57, 58, 59, 60, 61, 62,\n",
       "       63, 64, 65, 66, 67, 68, 69, 70, 71, 72, 73, 74, 75, 76, 77, 78, 79,\n",
       "       80, 81, 82, 83, 84, 85, 86, 87, 88, 89, 90, 91, 92, 93],\n",
       "      dtype=int64)"
      ]
     },
     "execution_count": 8,
     "metadata": {},
     "output_type": "execute_result"
    }
   ],
   "source": [
    "data.ID.sort_values().unique() # total number matches"
   ]
  },
  {
   "cell_type": "code",
   "execution_count": 9,
   "id": "853ce96f",
   "metadata": {},
   "outputs": [
    {
     "data": {
      "text/plain": [
       "82"
      ]
     },
     "execution_count": 9,
     "metadata": {},
     "output_type": "execute_result"
    }
   ],
   "source": [
    "len(data.ID.sort_values().unique())"
   ]
  },
  {
   "cell_type": "code",
   "execution_count": 13,
   "id": "426f0d12",
   "metadata": {},
   "outputs": [
    {
     "data": {
      "text/plain": [
       "array([ 1,  2,  3,  4,  5,  7,  9, 12, 13, 26, 27, 30, 31, 33, 34, 38, 39,\n",
       "       40, 41, 42, 43, 45, 47, 48, 49, 50, 51, 52, 53, 54, 55, 58, 59, 61,\n",
       "       62, 63, 64, 65, 66, 67, 68, 70, 71, 73, 74, 75, 76, 77, 78, 79, 80,\n",
       "       81, 82, 83, 84, 85, 87, 88, 89, 90, 92,  6, 11, 46, 56, 57, 69, 14,\n",
       "       28, 60, 86, 91, 93], dtype=int64)"
      ]
     },
     "execution_count": 13,
     "metadata": {},
     "output_type": "execute_result"
    }
   ],
   "source": [
    "data.loc[data['manual']== False ,'ID'].unique()"
   ]
  },
  {
   "cell_type": "code",
   "execution_count": 14,
   "id": "49c062e4",
   "metadata": {},
   "outputs": [
    {
     "data": {
      "text/plain": [
       "73"
      ]
     },
     "execution_count": 14,
     "metadata": {},
     "output_type": "execute_result"
    }
   ],
   "source": [
    "len(data.loc[data['manual']== False ,'ID'].unique())"
   ]
  },
  {
   "cell_type": "code",
   "execution_count": 15,
   "id": "1c1a02b3",
   "metadata": {},
   "outputs": [
    {
     "data": {
      "text/plain": [
       "9"
      ]
     },
     "execution_count": 15,
     "metadata": {},
     "output_type": "execute_result"
    }
   ],
   "source": [
    "len(data.loc[data['manual']== True ,'ID'].unique())"
   ]
  },
  {
   "cell_type": "code",
   "execution_count": 17,
   "id": "5d3d0d73",
   "metadata": {},
   "outputs": [
    {
     "data": {
      "text/plain": [
       "array([ 8, 10, 29, 32, 35, 36, 37, 44, 72], dtype=int64)"
      ]
     },
     "execution_count": 17,
     "metadata": {},
     "output_type": "execute_result"
    }
   ],
   "source": [
    "data.loc[data['manual']== True ,'ID'].sort_values().unique()"
   ]
  },
  {
   "cell_type": "markdown",
   "id": "067ac1fc",
   "metadata": {},
   "source": [
    "Note: Article 8, 10, 29, 32, 35, 36, 37, 44, and 72 are maunally scraped."
   ]
  },
  {
   "cell_type": "code",
   "execution_count": 19,
   "id": "42cf2217",
   "metadata": {},
   "outputs": [
    {
     "data": {
      "text/html": [
       "<div>\n",
       "<style scoped>\n",
       "    .dataframe tbody tr th:only-of-type {\n",
       "        vertical-align: middle;\n",
       "    }\n",
       "\n",
       "    .dataframe tbody tr th {\n",
       "        vertical-align: top;\n",
       "    }\n",
       "\n",
       "    .dataframe thead th {\n",
       "        text-align: right;\n",
       "    }\n",
       "</style>\n",
       "<table border=\"1\" class=\"dataframe\">\n",
       "  <thead>\n",
       "    <tr style=\"text-align: right;\">\n",
       "      <th></th>\n",
       "      <th>ID</th>\n",
       "      <th>original_title</th>\n",
       "      <th>scp_title</th>\n",
       "      <th>title_match(true/false)</th>\n",
       "      <th>author_given_name</th>\n",
       "      <th>author_surname</th>\n",
       "      <th>author_id</th>\n",
       "    </tr>\n",
       "  </thead>\n",
       "  <tbody>\n",
       "    <tr>\n",
       "      <th>0</th>\n",
       "      <td>1</td>\n",
       "      <td>Systematic review of long term effects of advi...</td>\n",
       "      <td>Systematic review of long term effects of advi...</td>\n",
       "      <td>True</td>\n",
       "      <td>Lee</td>\n",
       "      <td>Hooper</td>\n",
       "      <td>57202855325</td>\n",
       "    </tr>\n",
       "    <tr>\n",
       "      <th>1</th>\n",
       "      <td>1</td>\n",
       "      <td>Systematic review of long term effects of advi...</td>\n",
       "      <td>Systematic review of long term effects of advi...</td>\n",
       "      <td>True</td>\n",
       "      <td>Christopher</td>\n",
       "      <td>Bartlett</td>\n",
       "      <td>57194377301</td>\n",
       "    </tr>\n",
       "    <tr>\n",
       "      <th>2</th>\n",
       "      <td>1</td>\n",
       "      <td>Systematic review of long term effects of advi...</td>\n",
       "      <td>Systematic review of long term effects of advi...</td>\n",
       "      <td>True</td>\n",
       "      <td>George Davey</td>\n",
       "      <td>Smith</td>\n",
       "      <td>35354080500</td>\n",
       "    </tr>\n",
       "    <tr>\n",
       "      <th>3</th>\n",
       "      <td>1</td>\n",
       "      <td>Systematic review of long term effects of advi...</td>\n",
       "      <td>Systematic review of long term effects of advi...</td>\n",
       "      <td>True</td>\n",
       "      <td>Shah</td>\n",
       "      <td>Ebrahim</td>\n",
       "      <td>7102093023</td>\n",
       "    </tr>\n",
       "    <tr>\n",
       "      <th>4</th>\n",
       "      <td>2</td>\n",
       "      <td>Reduced dietary salt for prevention of cardiov...</td>\n",
       "      <td>Reduced dietary salt for prevention of cardiov...</td>\n",
       "      <td>True</td>\n",
       "      <td>L.</td>\n",
       "      <td>Hooper</td>\n",
       "      <td>57202855325</td>\n",
       "    </tr>\n",
       "  </tbody>\n",
       "</table>\n",
       "</div>"
      ],
      "text/plain": [
       "   ID                                     original_title  \\\n",
       "0   1  Systematic review of long term effects of advi...   \n",
       "1   1  Systematic review of long term effects of advi...   \n",
       "2   1  Systematic review of long term effects of advi...   \n",
       "3   1  Systematic review of long term effects of advi...   \n",
       "4   2  Reduced dietary salt for prevention of cardiov...   \n",
       "\n",
       "                                           scp_title  title_match(true/false)  \\\n",
       "0  Systematic review of long term effects of advi...                     True   \n",
       "1  Systematic review of long term effects of advi...                     True   \n",
       "2  Systematic review of long term effects of advi...                     True   \n",
       "3  Systematic review of long term effects of advi...                     True   \n",
       "4  Reduced dietary salt for prevention of cardiov...                     True   \n",
       "\n",
       "  author_given_name author_surname    author_id  \n",
       "0               Lee         Hooper  57202855325  \n",
       "1       Christopher       Bartlett  57194377301  \n",
       "2      George Davey          Smith  35354080500  \n",
       "3              Shah        Ebrahim   7102093023  \n",
       "4                L.         Hooper  57202855325  "
      ]
     },
     "execution_count": 19,
     "metadata": {},
     "output_type": "execute_result"
    }
   ],
   "source": [
    "output_1 = pd.read_csv(\"raw_data/output_2022-03-07-16-43-10.csv\")\n",
    "output_1.head(5)"
   ]
  },
  {
   "cell_type": "code",
   "execution_count": 21,
   "id": "fd37d017",
   "metadata": {},
   "outputs": [
    {
     "data": {
      "text/plain": [
       "array([ 1,  2,  3,  4,  5,  6,  7,  9, 11, 12, 13, 26, 27, 28, 30, 31, 33,\n",
       "       34, 38, 39, 40, 41, 42, 43, 45, 46, 47, 48, 49, 50, 51, 52, 53, 54,\n",
       "       55, 56, 57, 58, 59, 61, 62, 63, 64, 65, 66, 67, 68, 69, 70, 71, 73,\n",
       "       74, 75, 76, 77, 78, 79, 80, 81, 82, 83, 84, 85, 87, 88, 89, 90, 92],\n",
       "      dtype=int64)"
      ]
     },
     "execution_count": 21,
     "metadata": {},
     "output_type": "execute_result"
    }
   ],
   "source": [
    "output_1.ID.sort_values().unique()"
   ]
  },
  {
   "cell_type": "code",
   "execution_count": 22,
   "id": "8067b05c",
   "metadata": {},
   "outputs": [
    {
     "data": {
      "text/plain": [
       "68"
      ]
     },
     "execution_count": 22,
     "metadata": {},
     "output_type": "execute_result"
    }
   ],
   "source": [
    "len(output_1.ID.sort_values().unique())"
   ]
  },
  {
   "cell_type": "code",
   "execution_count": 53,
   "id": "bb1c5d05",
   "metadata": {},
   "outputs": [
    {
     "data": {
      "text/html": [
       "<div>\n",
       "<style scoped>\n",
       "    .dataframe tbody tr th:only-of-type {\n",
       "        vertical-align: middle;\n",
       "    }\n",
       "\n",
       "    .dataframe tbody tr th {\n",
       "        vertical-align: top;\n",
       "    }\n",
       "\n",
       "    .dataframe thead th {\n",
       "        text-align: right;\n",
       "    }\n",
       "</style>\n",
       "<table border=\"1\" class=\"dataframe\">\n",
       "  <thead>\n",
       "    <tr style=\"text-align: right;\">\n",
       "      <th></th>\n",
       "      <th>ID</th>\n",
       "      <th>title</th>\n",
       "      <th>author_given_name</th>\n",
       "      <th>author_surname</th>\n",
       "      <th>author_id</th>\n",
       "      <th>organizational_author</th>\n",
       "      <th>manual</th>\n",
       "    </tr>\n",
       "  </thead>\n",
       "  <tbody>\n",
       "    <tr>\n",
       "      <th>0</th>\n",
       "      <td>6</td>\n",
       "      <td>Reduced dietary salt for the prevention of car...</td>\n",
       "      <td>Rod S.</td>\n",
       "      <td>Taylor</td>\n",
       "      <td>55628530729</td>\n",
       "      <td>NaN</td>\n",
       "      <td>False</td>\n",
       "    </tr>\n",
       "    <tr>\n",
       "      <th>1</th>\n",
       "      <td>6</td>\n",
       "      <td>Reduced dietary salt for the prevention of car...</td>\n",
       "      <td>Kate E.</td>\n",
       "      <td>Ashton</td>\n",
       "      <td>26644694600</td>\n",
       "      <td>NaN</td>\n",
       "      <td>False</td>\n",
       "    </tr>\n",
       "    <tr>\n",
       "      <th>2</th>\n",
       "      <td>6</td>\n",
       "      <td>Reduced dietary salt for the prevention of car...</td>\n",
       "      <td>Tiffany</td>\n",
       "      <td>Moxham</td>\n",
       "      <td>26657630700</td>\n",
       "      <td>NaN</td>\n",
       "      <td>False</td>\n",
       "    </tr>\n",
       "    <tr>\n",
       "      <th>3</th>\n",
       "      <td>6</td>\n",
       "      <td>Reduced dietary salt for the prevention of car...</td>\n",
       "      <td>Lee</td>\n",
       "      <td>Hooper</td>\n",
       "      <td>57202855325</td>\n",
       "      <td>NaN</td>\n",
       "      <td>False</td>\n",
       "    </tr>\n",
       "    <tr>\n",
       "      <th>4</th>\n",
       "      <td>6</td>\n",
       "      <td>Reduced dietary salt for the prevention of car...</td>\n",
       "      <td>Shah</td>\n",
       "      <td>Ebrahim</td>\n",
       "      <td>56500020000</td>\n",
       "      <td>NaN</td>\n",
       "      <td>False</td>\n",
       "    </tr>\n",
       "  </tbody>\n",
       "</table>\n",
       "</div>"
      ],
      "text/plain": [
       "   ID                                              title author_given_name  \\\n",
       "0   6  Reduced dietary salt for the prevention of car...            Rod S.   \n",
       "1   6  Reduced dietary salt for the prevention of car...           Kate E.   \n",
       "2   6  Reduced dietary salt for the prevention of car...           Tiffany   \n",
       "3   6  Reduced dietary salt for the prevention of car...               Lee   \n",
       "4   6  Reduced dietary salt for the prevention of car...              Shah   \n",
       "\n",
       "  author_surname    author_id  organizational_author  manual  \n",
       "0         Taylor  55628530729                    NaN   False  \n",
       "1         Ashton  26644694600                    NaN   False  \n",
       "2         Moxham  26657630700                    NaN   False  \n",
       "3         Hooper  57202855325                    NaN   False  \n",
       "4        Ebrahim  56500020000                    NaN   False  "
      ]
     },
     "execution_count": 53,
     "metadata": {},
     "output_type": "execute_result"
    }
   ],
   "source": [
    "# prepare the two output for concatenation\n",
    "output_2 = pd.read_csv(\"raw_data/output_doi_2022-03-08-09-42-05.csv\")\n",
    "output_2 = article_list[['ID', 'Title']].merge(output_2, on='ID')\n",
    "output_2.rename(columns={\"Title\":\"title\"},inplace=True)\n",
    "output_2.head(5)\n",
    "output_2['organizational_author'] = np.nan\n",
    "output_2['manual'] = False\n",
    "output_2.head(5)"
   ]
  },
  {
   "cell_type": "code",
   "execution_count": 47,
   "id": "26799393",
   "metadata": {},
   "outputs": [
    {
     "data": {
      "text/plain": [
       "array([ 6, 11, 14, 28, 46, 56, 57, 60, 69, 86, 91, 93], dtype=int64)"
      ]
     },
     "execution_count": 47,
     "metadata": {},
     "output_type": "execute_result"
    }
   ],
   "source": [
    "output_2.ID.sort_values().unique()"
   ]
  },
  {
   "cell_type": "code",
   "execution_count": 48,
   "id": "44e3ccb6",
   "metadata": {},
   "outputs": [
    {
     "data": {
      "text/plain": [
       "12"
      ]
     },
     "execution_count": 48,
     "metadata": {},
     "output_type": "execute_result"
    }
   ],
   "source": [
    "len(output_2.ID.sort_values().unique())"
   ]
  },
  {
   "cell_type": "code",
   "execution_count": 112,
   "id": "67d8a06e",
   "metadata": {},
   "outputs": [
    {
     "data": {
      "text/html": [
       "<div>\n",
       "<style scoped>\n",
       "    .dataframe tbody tr th:only-of-type {\n",
       "        vertical-align: middle;\n",
       "    }\n",
       "\n",
       "    .dataframe tbody tr th {\n",
       "        vertical-align: top;\n",
       "    }\n",
       "\n",
       "    .dataframe thead th {\n",
       "        text-align: right;\n",
       "    }\n",
       "</style>\n",
       "<table border=\"1\" class=\"dataframe\">\n",
       "  <thead>\n",
       "    <tr style=\"text-align: right;\">\n",
       "      <th></th>\n",
       "      <th>ID</th>\n",
       "      <th>title</th>\n",
       "      <th>author_given_name</th>\n",
       "      <th>author_surname</th>\n",
       "      <th>author_id</th>\n",
       "      <th>organizational_author</th>\n",
       "      <th>manual</th>\n",
       "    </tr>\n",
       "  </thead>\n",
       "  <tbody>\n",
       "    <tr>\n",
       "      <th>0</th>\n",
       "      <td>1</td>\n",
       "      <td>Systematic review of long term effects of advi...</td>\n",
       "      <td>Lee</td>\n",
       "      <td>Hooper</td>\n",
       "      <td>57202855325</td>\n",
       "      <td>NaN</td>\n",
       "      <td>False</td>\n",
       "    </tr>\n",
       "    <tr>\n",
       "      <th>1</th>\n",
       "      <td>1</td>\n",
       "      <td>Systematic review of long term effects of advi...</td>\n",
       "      <td>Christopher</td>\n",
       "      <td>Bartlett</td>\n",
       "      <td>57194377301</td>\n",
       "      <td>NaN</td>\n",
       "      <td>False</td>\n",
       "    </tr>\n",
       "    <tr>\n",
       "      <th>2</th>\n",
       "      <td>1</td>\n",
       "      <td>Systematic review of long term effects of advi...</td>\n",
       "      <td>George Davey</td>\n",
       "      <td>Smith</td>\n",
       "      <td>35354080500</td>\n",
       "      <td>NaN</td>\n",
       "      <td>False</td>\n",
       "    </tr>\n",
       "    <tr>\n",
       "      <th>3</th>\n",
       "      <td>1</td>\n",
       "      <td>Systematic review of long term effects of advi...</td>\n",
       "      <td>Shah</td>\n",
       "      <td>Ebrahim</td>\n",
       "      <td>7102093023</td>\n",
       "      <td>NaN</td>\n",
       "      <td>False</td>\n",
       "    </tr>\n",
       "    <tr>\n",
       "      <th>4</th>\n",
       "      <td>2</td>\n",
       "      <td>Reduced dietary salt for prevention of cardiov...</td>\n",
       "      <td>L.</td>\n",
       "      <td>Hooper</td>\n",
       "      <td>57202855325</td>\n",
       "      <td>NaN</td>\n",
       "      <td>False</td>\n",
       "    </tr>\n",
       "  </tbody>\n",
       "</table>\n",
       "</div>"
      ],
      "text/plain": [
       "   ID                                              title author_given_name  \\\n",
       "0   1  Systematic review of long term effects of advi...               Lee   \n",
       "1   1  Systematic review of long term effects of advi...       Christopher   \n",
       "2   1  Systematic review of long term effects of advi...      George Davey   \n",
       "3   1  Systematic review of long term effects of advi...              Shah   \n",
       "4   2  Reduced dietary salt for prevention of cardiov...                L.   \n",
       "\n",
       "  author_surname    author_id  organizational_author  manual  \n",
       "0         Hooper  57202855325                    NaN   False  \n",
       "1       Bartlett  57194377301                    NaN   False  \n",
       "2          Smith  35354080500                    NaN   False  \n",
       "3        Ebrahim   7102093023                    NaN   False  \n",
       "4         Hooper  57202855325                    NaN   False  "
      ]
     },
     "execution_count": 112,
     "metadata": {},
     "output_type": "execute_result"
    }
   ],
   "source": [
    "output_1 = pd.read_csv(\"raw_data/output_2022-03-07-16-43-10.csv\")\n",
    "output_1.drop(columns=[\"scp_title\",\"title_match(true/false)\"], inplace=True)\n",
    "index_to_remove = output_1.index[output_1.ID.isin(list(output_2.ID.sort_values().unique()))]\n",
    "output_1.drop(index = index_to_remove, axis=0,inplace=True)\n",
    "output_1['organizational_author'] = np.nan\n",
    "output_1['manual'] = False\n",
    "output_1.rename(columns={\"original_title\":'title'}, inplace=True)\n",
    "output_1.head(5)"
   ]
  },
  {
   "cell_type": "code",
   "execution_count": 93,
   "id": "f9bd12dc",
   "metadata": {},
   "outputs": [
    {
     "data": {
      "text/plain": [
       "array([ 1,  2,  3,  4,  5,  7,  9, 12, 13, 26, 27, 30, 31, 33, 34, 38, 39,\n",
       "       40, 41, 42, 43, 45, 47, 48, 49, 50, 51, 52, 53, 54, 55, 58, 59, 61,\n",
       "       62, 63, 64, 65, 66, 67, 68, 70, 71, 73, 74, 75, 76, 77, 78, 79, 80,\n",
       "       81, 82, 83, 84, 85, 87, 88, 89, 90, 92], dtype=int64)"
      ]
     },
     "execution_count": 93,
     "metadata": {},
     "output_type": "execute_result"
    }
   ],
   "source": [
    "output_1.ID.sort_values().unique()"
   ]
  },
  {
   "cell_type": "code",
   "execution_count": 94,
   "id": "08733dc2",
   "metadata": {},
   "outputs": [
    {
     "data": {
      "text/plain": [
       "61"
      ]
     },
     "execution_count": 94,
     "metadata": {},
     "output_type": "execute_result"
    }
   ],
   "source": [
    "len(output_1.ID.sort_values().unique())"
   ]
  },
  {
   "cell_type": "code",
   "execution_count": 113,
   "id": "556f6074",
   "metadata": {},
   "outputs": [],
   "source": [
    "# concatenate two dataframes\n",
    "final_output = pd.concat([output_1,output_2],axis=0)"
   ]
  },
  {
   "cell_type": "code",
   "execution_count": 96,
   "id": "8b9aadd6",
   "metadata": {},
   "outputs": [
    {
     "data": {
      "text/plain": [
       "array([ 1,  2,  3,  4,  5,  6,  7,  9, 11, 12, 13, 14, 26, 27, 28, 30, 31,\n",
       "       33, 34, 38, 39, 40, 41, 42, 43, 45, 46, 47, 48, 49, 50, 51, 52, 53,\n",
       "       54, 55, 56, 57, 58, 59, 60, 61, 62, 63, 64, 65, 66, 67, 68, 69, 70,\n",
       "       71, 73, 74, 75, 76, 77, 78, 79, 80, 81, 82, 83, 84, 85, 86, 87, 88,\n",
       "       89, 90, 91, 92, 93], dtype=int64)"
      ]
     },
     "execution_count": 96,
     "metadata": {},
     "output_type": "execute_result"
    }
   ],
   "source": [
    "final_output.ID.sort_values().unique()"
   ]
  },
  {
   "cell_type": "code",
   "execution_count": 97,
   "id": "8d351085",
   "metadata": {},
   "outputs": [
    {
     "data": {
      "text/plain": [
       "73"
      ]
     },
     "execution_count": 97,
     "metadata": {},
     "output_type": "execute_result"
    }
   ],
   "source": [
    "len(final_output.ID.sort_values().unique())"
   ]
  },
  {
   "cell_type": "code",
   "execution_count": 98,
   "id": "7809114b",
   "metadata": {},
   "outputs": [
    {
     "data": {
      "text/plain": [
       "array([ 8, 10, 29, 32, 35, 36, 37, 44, 72], dtype=int64)"
      ]
     },
     "execution_count": 98,
     "metadata": {},
     "output_type": "execute_result"
    }
   ],
   "source": [
    "data.loc[data['manual']== True ,'ID'].sort_values().unique()"
   ]
  },
  {
   "cell_type": "code",
   "execution_count": 99,
   "id": "fcb1a8cf",
   "metadata": {},
   "outputs": [
    {
     "data": {
      "text/plain": [
       "9"
      ]
     },
     "execution_count": 99,
     "metadata": {},
     "output_type": "execute_result"
    }
   ],
   "source": [
    "len(data.loc[data['manual']== True ,'ID'].sort_values().unique())"
   ]
  },
  {
   "cell_type": "code",
   "execution_count": 110,
   "id": "c9bfe695",
   "metadata": {},
   "outputs": [
    {
     "data": {
      "text/html": [
       "<div>\n",
       "<style scoped>\n",
       "    .dataframe tbody tr th:only-of-type {\n",
       "        vertical-align: middle;\n",
       "    }\n",
       "\n",
       "    .dataframe tbody tr th {\n",
       "        vertical-align: top;\n",
       "    }\n",
       "\n",
       "    .dataframe thead th {\n",
       "        text-align: right;\n",
       "    }\n",
       "</style>\n",
       "<table border=\"1\" class=\"dataframe\">\n",
       "  <thead>\n",
       "    <tr style=\"text-align: right;\">\n",
       "      <th></th>\n",
       "      <th>ID</th>\n",
       "      <th>title</th>\n",
       "      <th>author_given_name</th>\n",
       "      <th>author_surname</th>\n",
       "      <th>author_id</th>\n",
       "      <th>organizational_author</th>\n",
       "      <th>manual</th>\n",
       "    </tr>\n",
       "  </thead>\n",
       "  <tbody>\n",
       "    <tr>\n",
       "      <th>529</th>\n",
       "      <td>8</td>\n",
       "      <td>Effect of reduced sodium intake on cardiovascu...</td>\n",
       "      <td>N</td>\n",
       "      <td>Aburto</td>\n",
       "      <td>8739842100</td>\n",
       "      <td>NaN</td>\n",
       "      <td>True</td>\n",
       "    </tr>\n",
       "    <tr>\n",
       "      <th>530</th>\n",
       "      <td>10</td>\n",
       "      <td>Low sodium versus normal sodium diets in systo...</td>\n",
       "      <td>JJ</td>\n",
       "      <td>DiNicolantonio</td>\n",
       "      <td>3</td>\n",
       "      <td>NaN</td>\n",
       "      <td>True</td>\n",
       "    </tr>\n",
       "    <tr>\n",
       "      <th>531</th>\n",
       "      <td>10</td>\n",
       "      <td>Low sodium versus normal sodium diets in systo...</td>\n",
       "      <td>P</td>\n",
       "      <td>DiPasquale</td>\n",
       "      <td>7006484941</td>\n",
       "      <td>NaN</td>\n",
       "      <td>True</td>\n",
       "    </tr>\n",
       "    <tr>\n",
       "      <th>532</th>\n",
       "      <td>10</td>\n",
       "      <td>Low sodium versus normal sodium diets in systo...</td>\n",
       "      <td>RS</td>\n",
       "      <td>Taylor</td>\n",
       "      <td>55628530729</td>\n",
       "      <td>NaN</td>\n",
       "      <td>True</td>\n",
       "    </tr>\n",
       "  </tbody>\n",
       "</table>\n",
       "</div>"
      ],
      "text/plain": [
       "     ID                                              title author_given_name  \\\n",
       "529   8  Effect of reduced sodium intake on cardiovascu...                 N   \n",
       "530  10  Low sodium versus normal sodium diets in systo...                JJ   \n",
       "531  10  Low sodium versus normal sodium diets in systo...                 P   \n",
       "532  10  Low sodium versus normal sodium diets in systo...                RS   \n",
       "\n",
       "     author_surname    author_id organizational_author  manual  \n",
       "529          Aburto   8739842100                   NaN    True  \n",
       "530  DiNicolantonio            3                   NaN    True  \n",
       "531      DiPasquale   7006484941                   NaN    True  \n",
       "532          Taylor  55628530729                   NaN    True  "
      ]
     },
     "execution_count": 110,
     "metadata": {},
     "output_type": "execute_result"
    }
   ],
   "source": [
    "# prepare the concatenate the manually retrieved data\n",
    "manual_data = data[data['manual']].copy()\n",
    "manual_data.rename(columns={\"original_title\": \"title\"},inplace=True)\n",
    "manual_data.head(4)"
   ]
  },
  {
   "cell_type": "code",
   "execution_count": 104,
   "id": "879ae1fa",
   "metadata": {},
   "outputs": [
    {
     "data": {
      "text/plain": [
       "9"
      ]
     },
     "execution_count": 104,
     "metadata": {},
     "output_type": "execute_result"
    }
   ],
   "source": [
    "len(manual_data.ID.sort_values().unique())"
   ]
  },
  {
   "cell_type": "code",
   "execution_count": 114,
   "id": "d0c9dada",
   "metadata": {},
   "outputs": [
    {
     "data": {
      "text/html": [
       "<div>\n",
       "<style scoped>\n",
       "    .dataframe tbody tr th:only-of-type {\n",
       "        vertical-align: middle;\n",
       "    }\n",
       "\n",
       "    .dataframe tbody tr th {\n",
       "        vertical-align: top;\n",
       "    }\n",
       "\n",
       "    .dataframe thead th {\n",
       "        text-align: right;\n",
       "    }\n",
       "</style>\n",
       "<table border=\"1\" class=\"dataframe\">\n",
       "  <thead>\n",
       "    <tr style=\"text-align: right;\">\n",
       "      <th></th>\n",
       "      <th>ID</th>\n",
       "      <th>title</th>\n",
       "      <th>author_given_name</th>\n",
       "      <th>author_surname</th>\n",
       "      <th>author_id</th>\n",
       "      <th>organizational_author</th>\n",
       "      <th>manual</th>\n",
       "    </tr>\n",
       "  </thead>\n",
       "  <tbody>\n",
       "    <tr>\n",
       "      <th>0</th>\n",
       "      <td>1</td>\n",
       "      <td>Systematic review of long term effects of advi...</td>\n",
       "      <td>Lee</td>\n",
       "      <td>Hooper</td>\n",
       "      <td>57202855325</td>\n",
       "      <td>NaN</td>\n",
       "      <td>False</td>\n",
       "    </tr>\n",
       "    <tr>\n",
       "      <th>1</th>\n",
       "      <td>1</td>\n",
       "      <td>Systematic review of long term effects of advi...</td>\n",
       "      <td>Christopher</td>\n",
       "      <td>Bartlett</td>\n",
       "      <td>57194377301</td>\n",
       "      <td>NaN</td>\n",
       "      <td>False</td>\n",
       "    </tr>\n",
       "    <tr>\n",
       "      <th>2</th>\n",
       "      <td>1</td>\n",
       "      <td>Systematic review of long term effects of advi...</td>\n",
       "      <td>George Davey</td>\n",
       "      <td>Smith</td>\n",
       "      <td>35354080500</td>\n",
       "      <td>NaN</td>\n",
       "      <td>False</td>\n",
       "    </tr>\n",
       "    <tr>\n",
       "      <th>3</th>\n",
       "      <td>1</td>\n",
       "      <td>Systematic review of long term effects of advi...</td>\n",
       "      <td>Shah</td>\n",
       "      <td>Ebrahim</td>\n",
       "      <td>7102093023</td>\n",
       "      <td>NaN</td>\n",
       "      <td>False</td>\n",
       "    </tr>\n",
       "    <tr>\n",
       "      <th>4</th>\n",
       "      <td>2</td>\n",
       "      <td>Reduced dietary salt for prevention of cardiov...</td>\n",
       "      <td>L.</td>\n",
       "      <td>Hooper</td>\n",
       "      <td>57202855325</td>\n",
       "      <td>NaN</td>\n",
       "      <td>False</td>\n",
       "    </tr>\n",
       "  </tbody>\n",
       "</table>\n",
       "</div>"
      ],
      "text/plain": [
       "   ID                                              title author_given_name  \\\n",
       "0   1  Systematic review of long term effects of advi...               Lee   \n",
       "1   1  Systematic review of long term effects of advi...       Christopher   \n",
       "2   1  Systematic review of long term effects of advi...      George Davey   \n",
       "3   1  Systematic review of long term effects of advi...              Shah   \n",
       "4   2  Reduced dietary salt for prevention of cardiov...                L.   \n",
       "\n",
       "  author_surname    author_id organizational_author  manual  \n",
       "0         Hooper  57202855325                   NaN   False  \n",
       "1       Bartlett  57194377301                   NaN   False  \n",
       "2          Smith  35354080500                   NaN   False  \n",
       "3        Ebrahim   7102093023                   NaN   False  \n",
       "4         Hooper  57202855325                   NaN   False  "
      ]
     },
     "execution_count": 114,
     "metadata": {},
     "output_type": "execute_result"
    }
   ],
   "source": [
    "# final concatenation\n",
    "final_dataframe = pd.concat([final_output,manual_data],axis=0)\n",
    "final_dataframe.head(5)"
   ]
  },
  {
   "cell_type": "code",
   "execution_count": 115,
   "id": "631c6f5f",
   "metadata": {},
   "outputs": [
    {
     "data": {
      "text/plain": [
       "array([ 1,  2,  3,  4,  5,  6,  7,  8,  9, 10, 11, 12, 13, 14, 26, 27, 28,\n",
       "       29, 30, 31, 32, 33, 34, 35, 36, 37, 38, 39, 40, 41, 42, 43, 44, 45,\n",
       "       46, 47, 48, 49, 50, 51, 52, 53, 54, 55, 56, 57, 58, 59, 60, 61, 62,\n",
       "       63, 64, 65, 66, 67, 68, 69, 70, 71, 72, 73, 74, 75, 76, 77, 78, 79,\n",
       "       80, 81, 82, 83, 84, 85, 86, 87, 88, 89, 90, 91, 92, 93],\n",
       "      dtype=int64)"
      ]
     },
     "execution_count": 115,
     "metadata": {},
     "output_type": "execute_result"
    }
   ],
   "source": [
    "final_dataframe.ID.sort_values().unique()"
   ]
  },
  {
   "cell_type": "code",
   "execution_count": 116,
   "id": "8545af49",
   "metadata": {},
   "outputs": [
    {
     "data": {
      "text/plain": [
       "82"
      ]
     },
     "execution_count": 116,
     "metadata": {},
     "output_type": "execute_result"
    }
   ],
   "source": [
    "len(final_dataframe.ID.sort_values().unique())"
   ]
  },
  {
   "cell_type": "code",
   "execution_count": 118,
   "id": "da4dfa4c",
   "metadata": {},
   "outputs": [],
   "source": [
    "final_dataframe.to_csv(\"salt_cont_author.csv\",index=False, encoding='UTF-8')"
   ]
  },
  {
   "cell_type": "code",
   "execution_count": null,
   "id": "65febaf6",
   "metadata": {},
   "outputs": [],
   "source": []
  }
 ],
 "metadata": {
  "kernelspec": {
   "display_name": "Python 3 (ipykernel)",
   "language": "python",
   "name": "python3"
  },
  "language_info": {
   "codemirror_mode": {
    "name": "ipython",
    "version": 3
   },
   "file_extension": ".py",
   "mimetype": "text/x-python",
   "name": "python",
   "nbconvert_exporter": "python",
   "pygments_lexer": "ipython3",
   "version": "3.7.11"
  }
 },
 "nbformat": 4,
 "nbformat_minor": 5
}
