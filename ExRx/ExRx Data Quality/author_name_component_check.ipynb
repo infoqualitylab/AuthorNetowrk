{
 "cells": [
  {
   "cell_type": "code",
   "execution_count": 1,
   "id": "4b1c1aac",
   "metadata": {},
   "outputs": [],
   "source": [
    "import pandas as pd\n",
    "import os\n",
    "import networkx as nx\n",
    "import itertools\n",
    "from netwulf import visualize\n",
    "from collections import Counter"
   ]
  },
  {
   "cell_type": "code",
   "execution_count": 2,
   "id": "64b0e1c6",
   "metadata": {},
   "outputs": [
    {
     "data": {
      "text/plain": [
       "'C:\\\\Users\\\\mansj\\\\IQL\\\\ExRx Data Quality'"
      ]
     },
     "execution_count": 2,
     "metadata": {},
     "output_type": "execute_result"
    }
   ],
   "source": [
    "os.getcwd()"
   ]
  },
  {
   "cell_type": "markdown",
   "id": "ec599dc9",
   "metadata": {},
   "source": [
    "Oversplitting issue on the final manually corrected file\n",
    "- Authors having same co-authors or connected in the graph component with same nodes"
   ]
  },
  {
   "cell_type": "code",
   "execution_count": 3,
   "id": "ac32b145",
   "metadata": {
    "scrolled": true
   },
   "outputs": [],
   "source": [
    "author_df = pd.read_csv(\"C:\\\\Users\\\\mansj\\\\IQL\\\\data\\\\databank_deposit_version_2\\\\exrx_author_final.csv\")"
   ]
  },
  {
   "cell_type": "markdown",
   "id": "536b08d4",
   "metadata": {},
   "source": [
    "Add full name column for further analysis"
   ]
  },
  {
   "cell_type": "code",
   "execution_count": 4,
   "id": "a53a5335",
   "metadata": {
    "scrolled": true
   },
   "outputs": [
    {
     "data": {
      "text/html": [
       "<div>\n",
       "<style scoped>\n",
       "    .dataframe tbody tr th:only-of-type {\n",
       "        vertical-align: middle;\n",
       "    }\n",
       "\n",
       "    .dataframe tbody tr th {\n",
       "        vertical-align: top;\n",
       "    }\n",
       "\n",
       "    .dataframe thead th {\n",
       "        text-align: right;\n",
       "    }\n",
       "</style>\n",
       "<table border=\"1\" class=\"dataframe\">\n",
       "  <thead>\n",
       "    <tr style=\"text-align: right;\">\n",
       "      <th></th>\n",
       "      <th>ID</th>\n",
       "      <th>Title</th>\n",
       "      <th>author_given_name</th>\n",
       "      <th>author_surname</th>\n",
       "      <th>author_id</th>\n",
       "      <th>full_name</th>\n",
       "    </tr>\n",
       "  </thead>\n",
       "  <tbody>\n",
       "    <tr>\n",
       "      <th>0</th>\n",
       "      <td>1</td>\n",
       "      <td>Physical activity in depressed elderly. a syst...</td>\n",
       "      <td>Gioia</td>\n",
       "      <td>Mura</td>\n",
       "      <td>7005321937</td>\n",
       "      <td>Gioia Mura</td>\n",
       "    </tr>\n",
       "    <tr>\n",
       "      <th>1</th>\n",
       "      <td>1</td>\n",
       "      <td>Physical activity in depressed elderly. a syst...</td>\n",
       "      <td>Mauro Giovanni</td>\n",
       "      <td>Carta</td>\n",
       "      <td>7006714673</td>\n",
       "      <td>Mauro Giovanni Carta</td>\n",
       "    </tr>\n",
       "    <tr>\n",
       "      <th>2</th>\n",
       "      <td>2</td>\n",
       "      <td>Exercise for depression</td>\n",
       "      <td>Gary. M.</td>\n",
       "      <td>Cooney</td>\n",
       "      <td>26028761700</td>\n",
       "      <td>Gary. M. Cooney</td>\n",
       "    </tr>\n",
       "    <tr>\n",
       "      <th>3</th>\n",
       "      <td>2</td>\n",
       "      <td>Exercise for depression</td>\n",
       "      <td>Kerry</td>\n",
       "      <td>Dwan</td>\n",
       "      <td>25027473800</td>\n",
       "      <td>Kerry Dwan</td>\n",
       "    </tr>\n",
       "    <tr>\n",
       "      <th>4</th>\n",
       "      <td>2</td>\n",
       "      <td>Exercise for depression</td>\n",
       "      <td>Carolyn A.</td>\n",
       "      <td>Greig</td>\n",
       "      <td>7003441733</td>\n",
       "      <td>Carolyn A. Greig</td>\n",
       "    </tr>\n",
       "  </tbody>\n",
       "</table>\n",
       "</div>"
      ],
      "text/plain": [
       "   ID                                              Title author_given_name  \\\n",
       "0   1  Physical activity in depressed elderly. a syst...             Gioia   \n",
       "1   1  Physical activity in depressed elderly. a syst...    Mauro Giovanni   \n",
       "2   2                            Exercise for depression          Gary. M.   \n",
       "3   2                            Exercise for depression             Kerry   \n",
       "4   2                            Exercise for depression        Carolyn A.   \n",
       "\n",
       "  author_surname    author_id             full_name  \n",
       "0           Mura   7005321937            Gioia Mura  \n",
       "1          Carta   7006714673  Mauro Giovanni Carta  \n",
       "2         Cooney  26028761700       Gary. M. Cooney  \n",
       "3           Dwan  25027473800            Kerry Dwan  \n",
       "4          Greig   7003441733      Carolyn A. Greig  "
      ]
     },
     "execution_count": 4,
     "metadata": {},
     "output_type": "execute_result"
    }
   ],
   "source": [
    "author_df[\"full_name\"] = author_df['author_given_name'] + \" \" + author_df['author_surname'].fillna('')\n",
    "author_df.head()"
   ]
  },
  {
   "cell_type": "code",
   "execution_count": 5,
   "id": "87a11a35",
   "metadata": {},
   "outputs": [
    {
     "data": {
      "text/html": [
       "<div>\n",
       "<style scoped>\n",
       "    .dataframe tbody tr th:only-of-type {\n",
       "        vertical-align: middle;\n",
       "    }\n",
       "\n",
       "    .dataframe tbody tr th {\n",
       "        vertical-align: top;\n",
       "    }\n",
       "\n",
       "    .dataframe thead th {\n",
       "        text-align: right;\n",
       "    }\n",
       "</style>\n",
       "<table border=\"1\" class=\"dataframe\">\n",
       "  <thead>\n",
       "    <tr style=\"text-align: right;\">\n",
       "      <th></th>\n",
       "      <th>ID</th>\n",
       "      <th>Title</th>\n",
       "      <th>author_given_name</th>\n",
       "      <th>author_surname</th>\n",
       "      <th>author_id</th>\n",
       "      <th>full_name</th>\n",
       "    </tr>\n",
       "  </thead>\n",
       "  <tbody>\n",
       "    <tr>\n",
       "      <th>46</th>\n",
       "      <td>11</td>\n",
       "      <td>Moderators of response in exercise treatment f...</td>\n",
       "      <td>A. L.</td>\n",
       "      <td>Dunn</td>\n",
       "      <td>7201720357</td>\n",
       "      <td>A. L. Dunn</td>\n",
       "    </tr>\n",
       "    <tr>\n",
       "      <th>146</th>\n",
       "      <td>26</td>\n",
       "      <td>Physical activity and incident depression: a m...</td>\n",
       "      <td>Andrea L.</td>\n",
       "      <td>Dunn</td>\n",
       "      <td>7201720357</td>\n",
       "      <td>Andrea L. Dunn</td>\n",
       "    </tr>\n",
       "    <tr>\n",
       "      <th>391</th>\n",
       "      <td>88</td>\n",
       "      <td>Exercise and depression: meeting standards to ...</td>\n",
       "      <td>A.</td>\n",
       "      <td>Dunn</td>\n",
       "      <td>7201720357</td>\n",
       "      <td>A. Dunn</td>\n",
       "    </tr>\n",
       "    <tr>\n",
       "      <th>429</th>\n",
       "      <td>95</td>\n",
       "      <td>The DOSE study: a clinical trial to examine ef...</td>\n",
       "      <td>Andrea L.</td>\n",
       "      <td>Dunn</td>\n",
       "      <td>7201720357</td>\n",
       "      <td>Andrea L. Dunn</td>\n",
       "    </tr>\n",
       "    <tr>\n",
       "      <th>484</th>\n",
       "      <td>106</td>\n",
       "      <td>Exercise treatment for depression: Efficacy an...</td>\n",
       "      <td>Andrea L.</td>\n",
       "      <td>Dunn</td>\n",
       "      <td>7201720357</td>\n",
       "      <td>Andrea L. Dunn</td>\n",
       "    </tr>\n",
       "    <tr>\n",
       "      <th>1094</th>\n",
       "      <td>219</td>\n",
       "      <td>Exercise as an augmentation treatment for nonr...</td>\n",
       "      <td>Andrea L.</td>\n",
       "      <td>Dunn</td>\n",
       "      <td>7201720357</td>\n",
       "      <td>Andrea L. Dunn</td>\n",
       "    </tr>\n",
       "    <tr>\n",
       "      <th>2502</th>\n",
       "      <td>108</td>\n",
       "      <td>The effect of exercise dose on quality of life...</td>\n",
       "      <td>AL</td>\n",
       "      <td>Dunn</td>\n",
       "      <td>7201720357</td>\n",
       "      <td>AL Dunn</td>\n",
       "    </tr>\n",
       "  </tbody>\n",
       "</table>\n",
       "</div>"
      ],
      "text/plain": [
       "       ID                                              Title  \\\n",
       "46     11  Moderators of response in exercise treatment f...   \n",
       "146    26  Physical activity and incident depression: a m...   \n",
       "391    88  Exercise and depression: meeting standards to ...   \n",
       "429    95  The DOSE study: a clinical trial to examine ef...   \n",
       "484   106  Exercise treatment for depression: Efficacy an...   \n",
       "1094  219  Exercise as an augmentation treatment for nonr...   \n",
       "2502  108  The effect of exercise dose on quality of life...   \n",
       "\n",
       "     author_given_name author_surname   author_id       full_name  \n",
       "46               A. L.           Dunn  7201720357      A. L. Dunn  \n",
       "146          Andrea L.           Dunn  7201720357  Andrea L. Dunn  \n",
       "391                 A.           Dunn  7201720357         A. Dunn  \n",
       "429          Andrea L.           Dunn  7201720357  Andrea L. Dunn  \n",
       "484          Andrea L.           Dunn  7201720357  Andrea L. Dunn  \n",
       "1094         Andrea L.           Dunn  7201720357  Andrea L. Dunn  \n",
       "2502                AL           Dunn  7201720357         AL Dunn  "
      ]
     },
     "execution_count": 5,
     "metadata": {},
     "output_type": "execute_result"
    }
   ],
   "source": [
    "#Author with same id have different names\n",
    "author_df[author_df.author_id == 7201720357]"
   ]
  },
  {
   "cell_type": "code",
   "execution_count": 6,
   "id": "f0bddb48",
   "metadata": {},
   "outputs": [
    {
     "data": {
      "text/html": [
       "<div>\n",
       "<style scoped>\n",
       "    .dataframe tbody tr th:only-of-type {\n",
       "        vertical-align: middle;\n",
       "    }\n",
       "\n",
       "    .dataframe tbody tr th {\n",
       "        vertical-align: top;\n",
       "    }\n",
       "\n",
       "    .dataframe thead th {\n",
       "        text-align: right;\n",
       "    }\n",
       "</style>\n",
       "<table border=\"1\" class=\"dataframe\">\n",
       "  <thead>\n",
       "    <tr style=\"text-align: right;\">\n",
       "      <th></th>\n",
       "      <th>full_name</th>\n",
       "    </tr>\n",
       "    <tr>\n",
       "      <th>author_id</th>\n",
       "      <th></th>\n",
       "    </tr>\n",
       "  </thead>\n",
       "  <tbody>\n",
       "    <tr>\n",
       "      <th>1</th>\n",
       "      <td>[Yunqiao Sun]</td>\n",
       "    </tr>\n",
       "    <tr>\n",
       "      <th>2</th>\n",
       "      <td>[Haiyan Yin]</td>\n",
       "    </tr>\n",
       "    <tr>\n",
       "      <th>3</th>\n",
       "      <td>[Baiqing Zhao]</td>\n",
       "    </tr>\n",
       "    <tr>\n",
       "      <th>4</th>\n",
       "      <td>[Yanqiang Liao]</td>\n",
       "    </tr>\n",
       "    <tr>\n",
       "      <th>5</th>\n",
       "      <td>[Qingkui Lin]</td>\n",
       "    </tr>\n",
       "  </tbody>\n",
       "</table>\n",
       "</div>"
      ],
      "text/plain": [
       "                 full_name\n",
       "author_id                 \n",
       "1            [Yunqiao Sun]\n",
       "2             [Haiyan Yin]\n",
       "3           [Baiqing Zhao]\n",
       "4          [Yanqiang Liao]\n",
       "5            [Qingkui Lin]"
      ]
     },
     "execution_count": 6,
     "metadata": {},
     "output_type": "execute_result"
    }
   ],
   "source": [
    "list_authors  = pd.DataFrame(author_df.groupby('author_id')['full_name'].apply(list))\n",
    "list_authors.head()"
   ]
  },
  {
   "cell_type": "code",
   "execution_count": 7,
   "id": "7bbd694d",
   "metadata": {},
   "outputs": [],
   "source": [
    "# Convert it to a list and then to a dictionary to replace the author names with one common name\n",
    "auth_list = list_authors.full_name.to_list()\n",
    "\n",
    "auth_dict = dict()\n",
    "\n",
    "for i in auth_list:\n",
    "    i = list(set(i))\n",
    "    if len(i) > 1:\n",
    "        auth_dict[i[0]] = i[1:]"
   ]
  },
  {
   "cell_type": "code",
   "execution_count": 8,
   "id": "cd9bc933",
   "metadata": {},
   "outputs": [],
   "source": [
    "#replaces the names of author with same id with the selected key in the dictionary\n",
    "def replace(auth_name, final_dict):\n",
    "    for k, v in final_dict.items():\n",
    "        if auth_name in v:\n",
    "            auth_name = k\n",
    "            \n",
    "    return auth_name\n",
    "    \n",
    "\n",
    "author_df.full_name = author_df.full_name.apply(lambda x : replace (x, auth_dict))"
   ]
  },
  {
   "cell_type": "code",
   "execution_count": 9,
   "id": "f24ac04c",
   "metadata": {},
   "outputs": [
    {
     "data": {
      "text/html": [
       "<div>\n",
       "<style scoped>\n",
       "    .dataframe tbody tr th:only-of-type {\n",
       "        vertical-align: middle;\n",
       "    }\n",
       "\n",
       "    .dataframe tbody tr th {\n",
       "        vertical-align: top;\n",
       "    }\n",
       "\n",
       "    .dataframe thead th {\n",
       "        text-align: right;\n",
       "    }\n",
       "</style>\n",
       "<table border=\"1\" class=\"dataframe\">\n",
       "  <thead>\n",
       "    <tr style=\"text-align: right;\">\n",
       "      <th></th>\n",
       "      <th>ID</th>\n",
       "      <th>Title</th>\n",
       "      <th>author_given_name</th>\n",
       "      <th>author_surname</th>\n",
       "      <th>author_id</th>\n",
       "      <th>full_name</th>\n",
       "    </tr>\n",
       "  </thead>\n",
       "  <tbody>\n",
       "    <tr>\n",
       "      <th>46</th>\n",
       "      <td>11</td>\n",
       "      <td>Moderators of response in exercise treatment f...</td>\n",
       "      <td>A. L.</td>\n",
       "      <td>Dunn</td>\n",
       "      <td>7201720357</td>\n",
       "      <td>A. L. Dunn</td>\n",
       "    </tr>\n",
       "    <tr>\n",
       "      <th>146</th>\n",
       "      <td>26</td>\n",
       "      <td>Physical activity and incident depression: a m...</td>\n",
       "      <td>Andrea L.</td>\n",
       "      <td>Dunn</td>\n",
       "      <td>7201720357</td>\n",
       "      <td>A. L. Dunn</td>\n",
       "    </tr>\n",
       "    <tr>\n",
       "      <th>391</th>\n",
       "      <td>88</td>\n",
       "      <td>Exercise and depression: meeting standards to ...</td>\n",
       "      <td>A.</td>\n",
       "      <td>Dunn</td>\n",
       "      <td>7201720357</td>\n",
       "      <td>A. L. Dunn</td>\n",
       "    </tr>\n",
       "    <tr>\n",
       "      <th>429</th>\n",
       "      <td>95</td>\n",
       "      <td>The DOSE study: a clinical trial to examine ef...</td>\n",
       "      <td>Andrea L.</td>\n",
       "      <td>Dunn</td>\n",
       "      <td>7201720357</td>\n",
       "      <td>A. L. Dunn</td>\n",
       "    </tr>\n",
       "    <tr>\n",
       "      <th>484</th>\n",
       "      <td>106</td>\n",
       "      <td>Exercise treatment for depression: Efficacy an...</td>\n",
       "      <td>Andrea L.</td>\n",
       "      <td>Dunn</td>\n",
       "      <td>7201720357</td>\n",
       "      <td>A. L. Dunn</td>\n",
       "    </tr>\n",
       "    <tr>\n",
       "      <th>1094</th>\n",
       "      <td>219</td>\n",
       "      <td>Exercise as an augmentation treatment for nonr...</td>\n",
       "      <td>Andrea L.</td>\n",
       "      <td>Dunn</td>\n",
       "      <td>7201720357</td>\n",
       "      <td>A. L. Dunn</td>\n",
       "    </tr>\n",
       "    <tr>\n",
       "      <th>2502</th>\n",
       "      <td>108</td>\n",
       "      <td>The effect of exercise dose on quality of life...</td>\n",
       "      <td>AL</td>\n",
       "      <td>Dunn</td>\n",
       "      <td>7201720357</td>\n",
       "      <td>A. L. Dunn</td>\n",
       "    </tr>\n",
       "  </tbody>\n",
       "</table>\n",
       "</div>"
      ],
      "text/plain": [
       "       ID                                              Title  \\\n",
       "46     11  Moderators of response in exercise treatment f...   \n",
       "146    26  Physical activity and incident depression: a m...   \n",
       "391    88  Exercise and depression: meeting standards to ...   \n",
       "429    95  The DOSE study: a clinical trial to examine ef...   \n",
       "484   106  Exercise treatment for depression: Efficacy an...   \n",
       "1094  219  Exercise as an augmentation treatment for nonr...   \n",
       "2502  108  The effect of exercise dose on quality of life...   \n",
       "\n",
       "     author_given_name author_surname   author_id   full_name  \n",
       "46               A. L.           Dunn  7201720357  A. L. Dunn  \n",
       "146          Andrea L.           Dunn  7201720357  A. L. Dunn  \n",
       "391                 A.           Dunn  7201720357  A. L. Dunn  \n",
       "429          Andrea L.           Dunn  7201720357  A. L. Dunn  \n",
       "484          Andrea L.           Dunn  7201720357  A. L. Dunn  \n",
       "1094         Andrea L.           Dunn  7201720357  A. L. Dunn  \n",
       "2502                AL           Dunn  7201720357  A. L. Dunn  "
      ]
     },
     "execution_count": 9,
     "metadata": {},
     "output_type": "execute_result"
    }
   ],
   "source": [
    "#Check if the author names are changed to one name\n",
    "author_df[author_df.author_id == 7201720357]"
   ]
  },
  {
   "cell_type": "code",
   "execution_count": 10,
   "id": "2b287c38",
   "metadata": {},
   "outputs": [
    {
     "data": {
      "text/html": [
       "<div>\n",
       "<style scoped>\n",
       "    .dataframe tbody tr th:only-of-type {\n",
       "        vertical-align: middle;\n",
       "    }\n",
       "\n",
       "    .dataframe tbody tr th {\n",
       "        vertical-align: top;\n",
       "    }\n",
       "\n",
       "    .dataframe thead th {\n",
       "        text-align: right;\n",
       "    }\n",
       "</style>\n",
       "<table border=\"1\" class=\"dataframe\">\n",
       "  <thead>\n",
       "    <tr style=\"text-align: right;\">\n",
       "      <th></th>\n",
       "      <th>author_id</th>\n",
       "      <th>full_name_x</th>\n",
       "      <th>full_name_y</th>\n",
       "    </tr>\n",
       "  </thead>\n",
       "  <tbody>\n",
       "  </tbody>\n",
       "</table>\n",
       "</div>"
      ],
      "text/plain": [
       "Empty DataFrame\n",
       "Columns: [author_id, full_name_x, full_name_y]\n",
       "Index: []"
      ]
     },
     "execution_count": 10,
     "metadata": {},
     "output_type": "execute_result"
    }
   ],
   "source": [
    "#Check if the author with same id are replaced with a common name\n",
    "id_df_1 = author_df[['author_id','full_name']]\n",
    "merged_df_1 = id_df_1.merge(id_df_1, how='left', left_on='author_id', right_on='author_id')\n",
    "auth_dict_1= merged_df_1[merged_df_1['full_name_x'] != merged_df_1['full_name_y']]\n",
    "auth_dict_1"
   ]
  },
  {
   "cell_type": "markdown",
   "id": "784e695a",
   "metadata": {},
   "source": [
    "#### Create a graph and check oversplitting in netwulf by hovering over the names in the same cluster"
   ]
  },
  {
   "cell_type": "code",
   "execution_count": 11,
   "id": "248d4f72",
   "metadata": {},
   "outputs": [],
   "source": [
    "author_df.to_csv(\"check_replaced_name.csv\")"
   ]
  },
  {
   "cell_type": "code",
   "execution_count": 12,
   "id": "ddb37aa8",
   "metadata": {},
   "outputs": [],
   "source": [
    "# Create the nodes and edges of the graph from the given dataframe by grouping on the paper ID\n",
    "G = nx.Graph()\n"
   ]
  },
  {
   "cell_type": "code",
   "execution_count": 13,
   "id": "f334cac3",
   "metadata": {},
   "outputs": [],
   "source": [
    "edges = pd.DataFrame(author_df.groupby('ID')['full_name'].apply(list))['full_name'].to_list()"
   ]
  },
  {
   "cell_type": "code",
   "execution_count": 14,
   "id": "f1f120b7",
   "metadata": {},
   "outputs": [],
   "source": [
    "new  = []\n",
    "for i in edges:\n",
    "    if len(i) >= 2:\n",
    "        for subset in itertools.combinations(i,2):\n",
    "            if len(subset) == 2:\n",
    "                new.append(subset)\n",
    "sorted_list = []\n",
    "for i in new:\n",
    "    sorted_list.append(tuple(sorted(list(i))))\n",
    "    \n",
    "count_auth = Counter(sorted_list)"
   ]
  },
  {
   "cell_type": "code",
   "execution_count": 15,
   "id": "684d0cd2",
   "metadata": {},
   "outputs": [],
   "source": [
    "for k, v in count_auth.items():\n",
    "    G.add_edge(k[0], k[1],  weight = v,  length = v)\n",
    "G.remove_nodes_from(list(nx.isolates(G)))"
   ]
  },
  {
   "cell_type": "code",
   "execution_count": 16,
   "id": "47c48b93",
   "metadata": {},
   "outputs": [
    {
     "data": {
      "image/png": "[encoded data removed]",
      "text/plain": [
       "<Figure size 288x288 with 1 Axes>"
      ]
     },
     "metadata": {
      "needs_background": "light"
     },
     "output_type": "display_data"
    }
   ],
   "source": [
    "styled_network, config = visualize(G)\n"
   ]
  },
  {
   "cell_type": "markdown",
   "id": "7f19c5be",
   "metadata": {},
   "source": [
    "Found one oversplitting issue for an author having the same connected nodes in the graph (Checked it through netwulf by hovering over the names).\n",
    "- Mueller, Hans-Josef and Müller, Hans-Josef\n",
    "\n",
    "Corrected this manually, exrx_author_final.csv"
   ]
  },
  {
   "cell_type": "code",
   "execution_count": null,
   "id": "ffaa02ca",
   "metadata": {},
   "outputs": [],
   "source": []
  }
 ],
 "metadata": {
  "kernelspec": {
   "display_name": "Python 3",
   "language": "python",
   "name": "python3"
  },
  "language_info": {
   "codemirror_mode": {
    "name": "ipython",
    "version": 3
   },
   "file_extension": ".py",
   "mimetype": "text/x-python",
   "name": "python",
   "nbconvert_exporter": "python",
   "pygments_lexer": "ipython3",
   "version": "3.8.8"
  }
 },
 "nbformat": 4,
 "nbformat_minor": 5
}
