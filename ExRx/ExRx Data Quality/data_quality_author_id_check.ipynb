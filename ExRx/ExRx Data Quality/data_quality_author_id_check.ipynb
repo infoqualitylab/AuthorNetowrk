{
 "cells": [
  {
   "cell_type": "markdown",
   "id": "e39908d2",
   "metadata": {},
   "source": [
    "### items to check\n",
    "- number of articles\n",
    "- number of authors\n",
    "- check under-splitting: different author share the same id -- id labeling mistake\n",
    "- check over-splitting: the same author have different ids"
   ]
  },
  {
   "cell_type": "code",
   "execution_count": 1,
   "id": "07bf2f0d",
   "metadata": {},
   "outputs": [],
   "source": [
    "import pandas as pd\n",
    "import os"
   ]
  },
  {
   "cell_type": "code",
   "execution_count": 2,
   "id": "7c471479",
   "metadata": {},
   "outputs": [
    {
     "data": {
      "text/plain": [
       "'C:\\\\Users\\\\mansj\\\\IQL\\\\ExRx Data Quality'"
      ]
     },
     "execution_count": 2,
     "metadata": {},
     "output_type": "execute_result"
    }
   ],
   "source": [
    "os.getcwd()"
   ]
  },
  {
   "cell_type": "code",
   "execution_count": 3,
   "id": "0742ed75",
   "metadata": {},
   "outputs": [],
   "source": [
    "author_data = pd.read_csv(r\"C:/Users/mansj/IQL/data/exrx_author.csv\", encoding=\"UTF-8\")"
   ]
  },
  {
   "cell_type": "code",
   "execution_count": 4,
   "id": "e61023b9",
   "metadata": {},
   "outputs": [
    {
     "data": {
      "text/html": [
       "<div>\n",
       "<style scoped>\n",
       "    .dataframe tbody tr th:only-of-type {\n",
       "        vertical-align: middle;\n",
       "    }\n",
       "\n",
       "    .dataframe tbody tr th {\n",
       "        vertical-align: top;\n",
       "    }\n",
       "\n",
       "    .dataframe thead th {\n",
       "        text-align: right;\n",
       "    }\n",
       "</style>\n",
       "<table border=\"1\" class=\"dataframe\">\n",
       "  <thead>\n",
       "    <tr style=\"text-align: right;\">\n",
       "      <th></th>\n",
       "      <th>ID</th>\n",
       "      <th>Title</th>\n",
       "      <th>author_given_name</th>\n",
       "      <th>author_surname</th>\n",
       "      <th>author_id</th>\n",
       "    </tr>\n",
       "  </thead>\n",
       "  <tbody>\n",
       "    <tr>\n",
       "      <th>0</th>\n",
       "      <td>1</td>\n",
       "      <td>Physical activity in depressed elderly. a syst...</td>\n",
       "      <td>Gioia</td>\n",
       "      <td>Mura</td>\n",
       "      <td>7005321937</td>\n",
       "    </tr>\n",
       "    <tr>\n",
       "      <th>1</th>\n",
       "      <td>1</td>\n",
       "      <td>Physical activity in depressed elderly. a syst...</td>\n",
       "      <td>Mauro Giovanni</td>\n",
       "      <td>Carta</td>\n",
       "      <td>7006714673</td>\n",
       "    </tr>\n",
       "    <tr>\n",
       "      <th>2</th>\n",
       "      <td>2</td>\n",
       "      <td>Exercise for depression</td>\n",
       "      <td>Gary. M.</td>\n",
       "      <td>Cooney</td>\n",
       "      <td>26028761700</td>\n",
       "    </tr>\n",
       "    <tr>\n",
       "      <th>3</th>\n",
       "      <td>2</td>\n",
       "      <td>Exercise for depression</td>\n",
       "      <td>Kerry</td>\n",
       "      <td>Dwan</td>\n",
       "      <td>25027473800</td>\n",
       "    </tr>\n",
       "    <tr>\n",
       "      <th>4</th>\n",
       "      <td>2</td>\n",
       "      <td>Exercise for depression</td>\n",
       "      <td>Carolyn A.</td>\n",
       "      <td>Greig</td>\n",
       "      <td>7003441733</td>\n",
       "    </tr>\n",
       "  </tbody>\n",
       "</table>\n",
       "</div>"
      ],
      "text/plain": [
       "   ID                                              Title author_given_name  \\\n",
       "0   1  Physical activity in depressed elderly. a syst...             Gioia   \n",
       "1   1  Physical activity in depressed elderly. a syst...    Mauro Giovanni   \n",
       "2   2                            Exercise for depression          Gary. M.   \n",
       "3   2                            Exercise for depression             Kerry   \n",
       "4   2                            Exercise for depression        Carolyn A.   \n",
       "\n",
       "  author_surname    author_id  \n",
       "0           Mura   7005321937  \n",
       "1          Carta   7006714673  \n",
       "2         Cooney  26028761700  \n",
       "3           Dwan  25027473800  \n",
       "4          Greig   7003441733  "
      ]
     },
     "execution_count": 4,
     "metadata": {},
     "output_type": "execute_result"
    }
   ],
   "source": [
    "author_data.head()"
   ]
  },
  {
   "cell_type": "code",
   "execution_count": 5,
   "id": "f29cfc1f",
   "metadata": {},
   "outputs": [
    {
     "data": {
      "text/plain": [
       "441"
      ]
     },
     "execution_count": 5,
     "metadata": {},
     "output_type": "execute_result"
    }
   ],
   "source": [
    "# total unique articles 441\n",
    "len(author_data.ID.unique())"
   ]
  },
  {
   "cell_type": "code",
   "execution_count": 6,
   "id": "70049e90",
   "metadata": {},
   "outputs": [
    {
     "data": {
      "text/plain": [
       "1961"
      ]
     },
     "execution_count": 6,
     "metadata": {},
     "output_type": "execute_result"
    }
   ],
   "source": [
    "# total unqiye author id's\n",
    "len(author_data.author_id.unique())"
   ]
  },
  {
   "cell_type": "markdown",
   "id": "5d27a951",
   "metadata": {},
   "source": [
    "## Check under-splitting"
   ]
  },
  {
   "cell_type": "code",
   "execution_count": 15,
   "id": "7a922838",
   "metadata": {},
   "outputs": [
    {
     "data": {
      "text/html": [
       "<div>\n",
       "<style scoped>\n",
       "    .dataframe tbody tr th:only-of-type {\n",
       "        vertical-align: middle;\n",
       "    }\n",
       "\n",
       "    .dataframe tbody tr th {\n",
       "        vertical-align: top;\n",
       "    }\n",
       "\n",
       "    .dataframe thead th {\n",
       "        text-align: right;\n",
       "    }\n",
       "</style>\n",
       "<table border=\"1\" class=\"dataframe\">\n",
       "  <thead>\n",
       "    <tr style=\"text-align: right;\">\n",
       "      <th></th>\n",
       "      <th>full_name</th>\n",
       "      <th>author_id</th>\n",
       "    </tr>\n",
       "  </thead>\n",
       "  <tbody>\n",
       "    <tr>\n",
       "      <th>0</th>\n",
       "      <td>Gioia Mura</td>\n",
       "      <td>7005321937</td>\n",
       "    </tr>\n",
       "    <tr>\n",
       "      <th>1</th>\n",
       "      <td>Mauro Giovanni Carta</td>\n",
       "      <td>7006714673</td>\n",
       "    </tr>\n",
       "    <tr>\n",
       "      <th>2</th>\n",
       "      <td>Gary. M. Cooney</td>\n",
       "      <td>26028761700</td>\n",
       "    </tr>\n",
       "    <tr>\n",
       "      <th>3</th>\n",
       "      <td>Kerry Dwan</td>\n",
       "      <td>25027473800</td>\n",
       "    </tr>\n",
       "    <tr>\n",
       "      <th>4</th>\n",
       "      <td>Carolyn A. Greig</td>\n",
       "      <td>7003441733</td>\n",
       "    </tr>\n",
       "    <tr>\n",
       "      <th>...</th>\n",
       "      <td>...</td>\n",
       "      <td>...</td>\n",
       "    </tr>\n",
       "    <tr>\n",
       "      <th>2501</th>\n",
       "      <td>MH Trivedi</td>\n",
       "      <td>7103153350</td>\n",
       "    </tr>\n",
       "    <tr>\n",
       "      <th>2502</th>\n",
       "      <td>AL Dunn</td>\n",
       "      <td>7201720357</td>\n",
       "    </tr>\n",
       "    <tr>\n",
       "      <th>2503</th>\n",
       "      <td>DI Galper</td>\n",
       "      <td>6603479223</td>\n",
       "    </tr>\n",
       "    <tr>\n",
       "      <th>2504</th>\n",
       "      <td>JB Kampert</td>\n",
       "      <td>6701722656</td>\n",
       "    </tr>\n",
       "    <tr>\n",
       "      <th>2505</th>\n",
       "      <td>TL Green</td>\n",
       "      <td>189</td>\n",
       "    </tr>\n",
       "  </tbody>\n",
       "</table>\n",
       "<p>2506 rows × 2 columns</p>\n",
       "</div>"
      ],
      "text/plain": [
       "                 full_name    author_id\n",
       "0               Gioia Mura   7005321937\n",
       "1     Mauro Giovanni Carta   7006714673\n",
       "2          Gary. M. Cooney  26028761700\n",
       "3               Kerry Dwan  25027473800\n",
       "4         Carolyn A. Greig   7003441733\n",
       "...                    ...          ...\n",
       "2501            MH Trivedi   7103153350\n",
       "2502               AL Dunn   7201720357\n",
       "2503             DI Galper   6603479223\n",
       "2504            JB Kampert   6701722656\n",
       "2505              TL Green          189\n",
       "\n",
       "[2506 rows x 2 columns]"
      ]
     },
     "execution_count": 15,
     "metadata": {},
     "output_type": "execute_result"
    }
   ],
   "source": [
    "full_name = author_data.author_given_name + \" \" + author_data.author_surname\n",
    "name_df = pd.DataFrame(data = {'full_name':author_data.author_given_name + \" \" + author_data.author_surname,\n",
    "                               'author_id':author_data.author_id})\n",
    "name_df\n"
   ]
  },
  {
   "cell_type": "code",
   "execution_count": 8,
   "id": "3001a653",
   "metadata": {},
   "outputs": [
    {
     "data": {
      "text/plain": [
       "2079"
      ]
     },
     "execution_count": 8,
     "metadata": {},
     "output_type": "execute_result"
    }
   ],
   "source": [
    "len(name_df.drop_duplicates())"
   ]
  },
  {
   "cell_type": "code",
   "execution_count": 11,
   "id": "9afb474e",
   "metadata": {},
   "outputs": [],
   "source": [
    "check_u_split = name_df.groupby(\"author_id\").count()\n",
    "check_u_split[check_u_split[\"full_name\"]>1].rename(columns = {\"full_name\":\"no_of_names\"}).reset_index().merge(name_df, \n",
    "                                                                                                              on=\"author_id\").drop_duplicates().to_csv(\"check_split.csv\")"
   ]
  },
  {
   "cell_type": "markdown",
   "id": "cc78ae8b",
   "metadata": {},
   "source": [
    "### No undersplitting found"
   ]
  },
  {
   "cell_type": "markdown",
   "id": "2d16436a",
   "metadata": {},
   "source": [
    "## Check under-splitting"
   ]
  },
  {
   "cell_type": "code",
   "execution_count": 24,
   "id": "0c3c7901",
   "metadata": {},
   "outputs": [
    {
     "data": {
      "text/html": [
       "<div>\n",
       "<style scoped>\n",
       "    .dataframe tbody tr th:only-of-type {\n",
       "        vertical-align: middle;\n",
       "    }\n",
       "\n",
       "    .dataframe tbody tr th {\n",
       "        vertical-align: top;\n",
       "    }\n",
       "\n",
       "    .dataframe thead th {\n",
       "        text-align: right;\n",
       "    }\n",
       "</style>\n",
       "<table border=\"1\" class=\"dataframe\">\n",
       "  <thead>\n",
       "    <tr style=\"text-align: right;\">\n",
       "      <th></th>\n",
       "      <th>full_name</th>\n",
       "      <th>no_of_ids</th>\n",
       "      <th>author_id</th>\n",
       "    </tr>\n",
       "  </thead>\n",
       "  <tbody>\n",
       "    <tr>\n",
       "      <th>0</th>\n",
       "      <td>Suhui Ma</td>\n",
       "      <td>2</td>\n",
       "      <td>46</td>\n",
       "    </tr>\n",
       "    <tr>\n",
       "      <th>1</th>\n",
       "      <td>Suhui Ma</td>\n",
       "      <td>2</td>\n",
       "      <td>49863886900</td>\n",
       "    </tr>\n",
       "    <tr>\n",
       "      <th>2</th>\n",
       "      <td>Suhui Ma</td>\n",
       "      <td>2</td>\n",
       "      <td>46</td>\n",
       "    </tr>\n",
       "    <tr>\n",
       "      <th>3</th>\n",
       "      <td>Anders Hovland</td>\n",
       "      <td>2</td>\n",
       "      <td>190</td>\n",
       "    </tr>\n",
       "    <tr>\n",
       "      <th>4</th>\n",
       "      <td>Anders Hovland</td>\n",
       "      <td>2</td>\n",
       "      <td>199</td>\n",
       "    </tr>\n",
       "    <tr>\n",
       "      <th>5</th>\n",
       "      <td>Changxiang Chen</td>\n",
       "      <td>2</td>\n",
       "      <td>53864637600</td>\n",
       "    </tr>\n",
       "    <tr>\n",
       "      <th>6</th>\n",
       "      <td>Changxiang Chen</td>\n",
       "      <td>2</td>\n",
       "      <td>45</td>\n",
       "    </tr>\n",
       "    <tr>\n",
       "      <th>7</th>\n",
       "      <td>Tamara B. Harris</td>\n",
       "      <td>2</td>\n",
       "      <td>57220774479</td>\n",
       "    </tr>\n",
       "    <tr>\n",
       "      <th>8</th>\n",
       "      <td>Tamara B. Harris</td>\n",
       "      <td>2</td>\n",
       "      <td>35375662400</td>\n",
       "    </tr>\n",
       "    <tr>\n",
       "      <th>9</th>\n",
       "      <td>Yan Chen</td>\n",
       "      <td>2</td>\n",
       "      <td>18</td>\n",
       "    </tr>\n",
       "    <tr>\n",
       "      <th>10</th>\n",
       "      <td>Yan Chen</td>\n",
       "      <td>2</td>\n",
       "      <td>20</td>\n",
       "    </tr>\n",
       "    <tr>\n",
       "      <th>11</th>\n",
       "      <td>Na Dou</td>\n",
       "      <td>2</td>\n",
       "      <td>89</td>\n",
       "    </tr>\n",
       "    <tr>\n",
       "      <th>12</th>\n",
       "      <td>Na Dou</td>\n",
       "      <td>2</td>\n",
       "      <td>49863133400</td>\n",
       "    </tr>\n",
       "  </tbody>\n",
       "</table>\n",
       "</div>"
      ],
      "text/plain": [
       "           full_name  no_of_ids    author_id\n",
       "0           Suhui Ma          2           46\n",
       "1           Suhui Ma          2  49863886900\n",
       "2           Suhui Ma          2           46\n",
       "3     Anders Hovland          2          190\n",
       "4     Anders Hovland          2          199\n",
       "5    Changxiang Chen          2  53864637600\n",
       "6    Changxiang Chen          2           45\n",
       "7   Tamara B. Harris          2  57220774479\n",
       "8   Tamara B. Harris          2  35375662400\n",
       "9           Yan Chen          2           18\n",
       "10          Yan Chen          2           20\n",
       "11            Na Dou          2           89\n",
       "12            Na Dou          2  49863133400"
      ]
     },
     "execution_count": 24,
     "metadata": {},
     "output_type": "execute_result"
    }
   ],
   "source": [
    "auth_name_id = name_df.drop_duplicates().groupby(\"full_name\").count().sort_values(by='author_id', ascending = False)\n",
    "auth_name_id[auth_name_id[\"author_id\"]>1].rename(columns={\"author_id\" : \"no_of_ids\"}).reset_index().merge(name_df, on = \"full_name\")"
   ]
  },
  {
   "cell_type": "markdown",
   "id": "d91bc6e2",
   "metadata": {},
   "source": [
    "Corrected the under-splitting manually by replacing the author_id by the largest author_id present for the authors\n",
    "\n",
    "    Suhui Ma : 49863886900\n",
    "    Anders Hovland : 199\n",
    "    Changxiang Chen : 53864637600\n",
    "    Tamara B. Harris : 57220774479\n",
    "    Yan Chen : 20\n",
    "    Na Dou : 49863133400"
   ]
  },
  {
   "cell_type": "markdown",
   "id": "012c2185",
   "metadata": {},
   "source": [
    "### Final check after corrections"
   ]
  },
  {
   "cell_type": "code",
   "execution_count": 28,
   "id": "ccf01250",
   "metadata": {},
   "outputs": [
    {
     "data": {
      "text/html": [
       "<div>\n",
       "<style scoped>\n",
       "    .dataframe tbody tr th:only-of-type {\n",
       "        vertical-align: middle;\n",
       "    }\n",
       "\n",
       "    .dataframe tbody tr th {\n",
       "        vertical-align: top;\n",
       "    }\n",
       "\n",
       "    .dataframe thead th {\n",
       "        text-align: right;\n",
       "    }\n",
       "</style>\n",
       "<table border=\"1\" class=\"dataframe\">\n",
       "  <thead>\n",
       "    <tr style=\"text-align: right;\">\n",
       "      <th></th>\n",
       "      <th>no_of_ids</th>\n",
       "      <th>full_name</th>\n",
       "      <th>author_id</th>\n",
       "    </tr>\n",
       "  </thead>\n",
       "  <tbody>\n",
       "  </tbody>\n",
       "</table>\n",
       "</div>"
      ],
      "text/plain": [
       "Empty DataFrame\n",
       "Columns: [no_of_ids, full_name, author_id]\n",
       "Index: []"
      ]
     },
     "execution_count": 28,
     "metadata": {},
     "output_type": "execute_result"
    }
   ],
   "source": [
    "author_data = pd.read_csv(r\"C:/Users/mansj/IQL/data/exrx_author_final.csv\", encoding=\"UTF-8\")\n",
    "name_df = pd.DataFrame(data = {'full_name':author_data.author_given_name + \" \" + author_data.author_surname,\n",
    "                               'author_id':author_data.author_id})\n",
    "auth_name_id = name_df.drop_duplicates().groupby(\"full_name\").count().sort_values(by='author_id', ascending = False)\n",
    "auth_name_id[auth_name_id[\"author_id\"]>1].rename(columns={\"author_id\" : \"no_of_ids\"}).reset_index().merge(name_df, on = \"full_name\")"
   ]
  },
  {
   "cell_type": "code",
   "execution_count": null,
   "id": "39b709e7",
   "metadata": {},
   "outputs": [],
   "source": []
  }
 ],
 "metadata": {
  "kernelspec": {
   "display_name": "Python 3",
   "language": "python",
   "name": "python3"
  },
  "language_info": {
   "codemirror_mode": {
    "name": "ipython",
    "version": 3
   },
   "file_extension": ".py",
   "mimetype": "text/x-python",
   "name": "python",
   "nbconvert_exporter": "python",
   "pygments_lexer": "ipython3",
   "version": "3.8.8"
  }
 },
 "nbformat": 4,
 "nbformat_minor": 5
}
