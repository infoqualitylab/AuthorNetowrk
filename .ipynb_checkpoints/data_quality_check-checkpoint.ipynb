{
 "cells": [
  {
   "cell_type": "markdown",
   "id": "a60f681c",
   "metadata": {},
   "source": [
    "# Data Quality Check\n"
   ]
  },
  {
   "cell_type": "code",
   "execution_count": 4,
   "id": "ef43a94e",
   "metadata": {},
   "outputs": [],
   "source": [
    "import pandas as pd"
   ]
  },
  {
   "cell_type": "code",
   "execution_count": 5,
   "id": "4122f675",
   "metadata": {},
   "outputs": [
    {
     "ename": "OSError",
     "evalue": "[Errno 22] Invalid argument: 'DataQuality\\raw_data\\\\salt_author_info.csv'",
     "output_type": "error",
     "traceback": [
      "\u001b[1;31m---------------------------------------------------------------------------\u001b[0m",
      "\u001b[1;31mOSError\u001b[0m                                   Traceback (most recent call last)",
      "\u001b[1;32m~\\AppData\\Local\\Temp/ipykernel_16136/2448829706.py\u001b[0m in \u001b[0;36m<module>\u001b[1;34m\u001b[0m\n\u001b[1;32m----> 1\u001b[1;33m \u001b[0mauthor\u001b[0m \u001b[1;33m=\u001b[0m \u001b[0mpd\u001b[0m\u001b[1;33m.\u001b[0m\u001b[0mread_csv\u001b[0m\u001b[1;33m(\u001b[0m\u001b[1;34m\"DataQuality\\raw_data\\salt_author_info.csv\"\u001b[0m\u001b[1;33m)\u001b[0m\u001b[1;33m\u001b[0m\u001b[1;33m\u001b[0m\u001b[0m\n\u001b[0m\u001b[0;32m      2\u001b[0m \u001b[0mattr_list\u001b[0m \u001b[1;33m=\u001b[0m \u001b[0mpd\u001b[0m\u001b[1;33m.\u001b[0m\u001b[0mread_csv\u001b[0m\u001b[1;33m(\u001b[0m\u001b[1;34m\"DataQuality\\raw_data\\Article_attr.csv\"\u001b[0m\u001b[1;33m)\u001b[0m\u001b[1;33m\u001b[0m\u001b[1;33m\u001b[0m\u001b[0m\n\u001b[0;32m      3\u001b[0m \u001b[0marticle_list\u001b[0m \u001b[1;33m=\u001b[0m \u001b[0mpd\u001b[0m\u001b[1;33m.\u001b[0m\u001b[0mread_csv\u001b[0m\u001b[1;33m(\u001b[0m\u001b[1;34m\"DataQuality\\raw_data\\Article_list.csv\"\u001b[0m\u001b[1;33m)\u001b[0m\u001b[1;33m\u001b[0m\u001b[1;33m\u001b[0m\u001b[0m\n",
      "\u001b[1;32m~\\anaconda3\\envs\\ML_env\\lib\\site-packages\\pandas\\util\\_decorators.py\u001b[0m in \u001b[0;36mwrapper\u001b[1;34m(*args, **kwargs)\u001b[0m\n\u001b[0;32m    309\u001b[0m                     \u001b[0mstacklevel\u001b[0m\u001b[1;33m=\u001b[0m\u001b[0mstacklevel\u001b[0m\u001b[1;33m,\u001b[0m\u001b[1;33m\u001b[0m\u001b[1;33m\u001b[0m\u001b[0m\n\u001b[0;32m    310\u001b[0m                 )\n\u001b[1;32m--> 311\u001b[1;33m             \u001b[1;32mreturn\u001b[0m \u001b[0mfunc\u001b[0m\u001b[1;33m(\u001b[0m\u001b[1;33m*\u001b[0m\u001b[0margs\u001b[0m\u001b[1;33m,\u001b[0m \u001b[1;33m**\u001b[0m\u001b[0mkwargs\u001b[0m\u001b[1;33m)\u001b[0m\u001b[1;33m\u001b[0m\u001b[1;33m\u001b[0m\u001b[0m\n\u001b[0m\u001b[0;32m    312\u001b[0m \u001b[1;33m\u001b[0m\u001b[0m\n\u001b[0;32m    313\u001b[0m         \u001b[1;32mreturn\u001b[0m \u001b[0mwrapper\u001b[0m\u001b[1;33m\u001b[0m\u001b[1;33m\u001b[0m\u001b[0m\n",
      "\u001b[1;32m~\\anaconda3\\envs\\ML_env\\lib\\site-packages\\pandas\\io\\parsers\\readers.py\u001b[0m in \u001b[0;36mread_csv\u001b[1;34m(filepath_or_buffer, sep, delimiter, header, names, index_col, usecols, squeeze, prefix, mangle_dupe_cols, dtype, engine, converters, true_values, false_values, skipinitialspace, skiprows, skipfooter, nrows, na_values, keep_default_na, na_filter, verbose, skip_blank_lines, parse_dates, infer_datetime_format, keep_date_col, date_parser, dayfirst, cache_dates, iterator, chunksize, compression, thousands, decimal, lineterminator, quotechar, quoting, doublequote, escapechar, comment, encoding, encoding_errors, dialect, error_bad_lines, warn_bad_lines, on_bad_lines, delim_whitespace, low_memory, memory_map, float_precision, storage_options)\u001b[0m\n\u001b[0;32m    584\u001b[0m     \u001b[0mkwds\u001b[0m\u001b[1;33m.\u001b[0m\u001b[0mupdate\u001b[0m\u001b[1;33m(\u001b[0m\u001b[0mkwds_defaults\u001b[0m\u001b[1;33m)\u001b[0m\u001b[1;33m\u001b[0m\u001b[1;33m\u001b[0m\u001b[0m\n\u001b[0;32m    585\u001b[0m \u001b[1;33m\u001b[0m\u001b[0m\n\u001b[1;32m--> 586\u001b[1;33m     \u001b[1;32mreturn\u001b[0m \u001b[0m_read\u001b[0m\u001b[1;33m(\u001b[0m\u001b[0mfilepath_or_buffer\u001b[0m\u001b[1;33m,\u001b[0m \u001b[0mkwds\u001b[0m\u001b[1;33m)\u001b[0m\u001b[1;33m\u001b[0m\u001b[1;33m\u001b[0m\u001b[0m\n\u001b[0m\u001b[0;32m    587\u001b[0m \u001b[1;33m\u001b[0m\u001b[0m\n\u001b[0;32m    588\u001b[0m \u001b[1;33m\u001b[0m\u001b[0m\n",
      "\u001b[1;32m~\\anaconda3\\envs\\ML_env\\lib\\site-packages\\pandas\\io\\parsers\\readers.py\u001b[0m in \u001b[0;36m_read\u001b[1;34m(filepath_or_buffer, kwds)\u001b[0m\n\u001b[0;32m    480\u001b[0m \u001b[1;33m\u001b[0m\u001b[0m\n\u001b[0;32m    481\u001b[0m     \u001b[1;31m# Create the parser.\u001b[0m\u001b[1;33m\u001b[0m\u001b[1;33m\u001b[0m\u001b[1;33m\u001b[0m\u001b[0m\n\u001b[1;32m--> 482\u001b[1;33m     \u001b[0mparser\u001b[0m \u001b[1;33m=\u001b[0m \u001b[0mTextFileReader\u001b[0m\u001b[1;33m(\u001b[0m\u001b[0mfilepath_or_buffer\u001b[0m\u001b[1;33m,\u001b[0m \u001b[1;33m**\u001b[0m\u001b[0mkwds\u001b[0m\u001b[1;33m)\u001b[0m\u001b[1;33m\u001b[0m\u001b[1;33m\u001b[0m\u001b[0m\n\u001b[0m\u001b[0;32m    483\u001b[0m \u001b[1;33m\u001b[0m\u001b[0m\n\u001b[0;32m    484\u001b[0m     \u001b[1;32mif\u001b[0m \u001b[0mchunksize\u001b[0m \u001b[1;32mor\u001b[0m \u001b[0miterator\u001b[0m\u001b[1;33m:\u001b[0m\u001b[1;33m\u001b[0m\u001b[1;33m\u001b[0m\u001b[0m\n",
      "\u001b[1;32m~\\anaconda3\\envs\\ML_env\\lib\\site-packages\\pandas\\io\\parsers\\readers.py\u001b[0m in \u001b[0;36m__init__\u001b[1;34m(self, f, engine, **kwds)\u001b[0m\n\u001b[0;32m    809\u001b[0m             \u001b[0mself\u001b[0m\u001b[1;33m.\u001b[0m\u001b[0moptions\u001b[0m\u001b[1;33m[\u001b[0m\u001b[1;34m\"has_index_names\"\u001b[0m\u001b[1;33m]\u001b[0m \u001b[1;33m=\u001b[0m \u001b[0mkwds\u001b[0m\u001b[1;33m[\u001b[0m\u001b[1;34m\"has_index_names\"\u001b[0m\u001b[1;33m]\u001b[0m\u001b[1;33m\u001b[0m\u001b[1;33m\u001b[0m\u001b[0m\n\u001b[0;32m    810\u001b[0m \u001b[1;33m\u001b[0m\u001b[0m\n\u001b[1;32m--> 811\u001b[1;33m         \u001b[0mself\u001b[0m\u001b[1;33m.\u001b[0m\u001b[0m_engine\u001b[0m \u001b[1;33m=\u001b[0m \u001b[0mself\u001b[0m\u001b[1;33m.\u001b[0m\u001b[0m_make_engine\u001b[0m\u001b[1;33m(\u001b[0m\u001b[0mself\u001b[0m\u001b[1;33m.\u001b[0m\u001b[0mengine\u001b[0m\u001b[1;33m)\u001b[0m\u001b[1;33m\u001b[0m\u001b[1;33m\u001b[0m\u001b[0m\n\u001b[0m\u001b[0;32m    812\u001b[0m \u001b[1;33m\u001b[0m\u001b[0m\n\u001b[0;32m    813\u001b[0m     \u001b[1;32mdef\u001b[0m \u001b[0mclose\u001b[0m\u001b[1;33m(\u001b[0m\u001b[0mself\u001b[0m\u001b[1;33m)\u001b[0m\u001b[1;33m:\u001b[0m\u001b[1;33m\u001b[0m\u001b[1;33m\u001b[0m\u001b[0m\n",
      "\u001b[1;32m~\\anaconda3\\envs\\ML_env\\lib\\site-packages\\pandas\\io\\parsers\\readers.py\u001b[0m in \u001b[0;36m_make_engine\u001b[1;34m(self, engine)\u001b[0m\n\u001b[0;32m   1038\u001b[0m             )\n\u001b[0;32m   1039\u001b[0m         \u001b[1;31m# error: Too many arguments for \"ParserBase\"\u001b[0m\u001b[1;33m\u001b[0m\u001b[1;33m\u001b[0m\u001b[1;33m\u001b[0m\u001b[0m\n\u001b[1;32m-> 1040\u001b[1;33m         \u001b[1;32mreturn\u001b[0m \u001b[0mmapping\u001b[0m\u001b[1;33m[\u001b[0m\u001b[0mengine\u001b[0m\u001b[1;33m]\u001b[0m\u001b[1;33m(\u001b[0m\u001b[0mself\u001b[0m\u001b[1;33m.\u001b[0m\u001b[0mf\u001b[0m\u001b[1;33m,\u001b[0m \u001b[1;33m**\u001b[0m\u001b[0mself\u001b[0m\u001b[1;33m.\u001b[0m\u001b[0moptions\u001b[0m\u001b[1;33m)\u001b[0m  \u001b[1;31m# type: ignore[call-arg]\u001b[0m\u001b[1;33m\u001b[0m\u001b[1;33m\u001b[0m\u001b[0m\n\u001b[0m\u001b[0;32m   1041\u001b[0m \u001b[1;33m\u001b[0m\u001b[0m\n\u001b[0;32m   1042\u001b[0m     \u001b[1;32mdef\u001b[0m \u001b[0m_failover_to_python\u001b[0m\u001b[1;33m(\u001b[0m\u001b[0mself\u001b[0m\u001b[1;33m)\u001b[0m\u001b[1;33m:\u001b[0m\u001b[1;33m\u001b[0m\u001b[1;33m\u001b[0m\u001b[0m\n",
      "\u001b[1;32m~\\anaconda3\\envs\\ML_env\\lib\\site-packages\\pandas\\io\\parsers\\c_parser_wrapper.py\u001b[0m in \u001b[0;36m__init__\u001b[1;34m(self, src, **kwds)\u001b[0m\n\u001b[0;32m     49\u001b[0m \u001b[1;33m\u001b[0m\u001b[0m\n\u001b[0;32m     50\u001b[0m         \u001b[1;31m# open handles\u001b[0m\u001b[1;33m\u001b[0m\u001b[1;33m\u001b[0m\u001b[1;33m\u001b[0m\u001b[0m\n\u001b[1;32m---> 51\u001b[1;33m         \u001b[0mself\u001b[0m\u001b[1;33m.\u001b[0m\u001b[0m_open_handles\u001b[0m\u001b[1;33m(\u001b[0m\u001b[0msrc\u001b[0m\u001b[1;33m,\u001b[0m \u001b[0mkwds\u001b[0m\u001b[1;33m)\u001b[0m\u001b[1;33m\u001b[0m\u001b[1;33m\u001b[0m\u001b[0m\n\u001b[0m\u001b[0;32m     52\u001b[0m         \u001b[1;32massert\u001b[0m \u001b[0mself\u001b[0m\u001b[1;33m.\u001b[0m\u001b[0mhandles\u001b[0m \u001b[1;32mis\u001b[0m \u001b[1;32mnot\u001b[0m \u001b[1;32mNone\u001b[0m\u001b[1;33m\u001b[0m\u001b[1;33m\u001b[0m\u001b[0m\n\u001b[0;32m     53\u001b[0m \u001b[1;33m\u001b[0m\u001b[0m\n",
      "\u001b[1;32m~\\anaconda3\\envs\\ML_env\\lib\\site-packages\\pandas\\io\\parsers\\base_parser.py\u001b[0m in \u001b[0;36m_open_handles\u001b[1;34m(self, src, kwds)\u001b[0m\n\u001b[0;32m    227\u001b[0m             \u001b[0mmemory_map\u001b[0m\u001b[1;33m=\u001b[0m\u001b[0mkwds\u001b[0m\u001b[1;33m.\u001b[0m\u001b[0mget\u001b[0m\u001b[1;33m(\u001b[0m\u001b[1;34m\"memory_map\"\u001b[0m\u001b[1;33m,\u001b[0m \u001b[1;32mFalse\u001b[0m\u001b[1;33m)\u001b[0m\u001b[1;33m,\u001b[0m\u001b[1;33m\u001b[0m\u001b[1;33m\u001b[0m\u001b[0m\n\u001b[0;32m    228\u001b[0m             \u001b[0mstorage_options\u001b[0m\u001b[1;33m=\u001b[0m\u001b[0mkwds\u001b[0m\u001b[1;33m.\u001b[0m\u001b[0mget\u001b[0m\u001b[1;33m(\u001b[0m\u001b[1;34m\"storage_options\"\u001b[0m\u001b[1;33m,\u001b[0m \u001b[1;32mNone\u001b[0m\u001b[1;33m)\u001b[0m\u001b[1;33m,\u001b[0m\u001b[1;33m\u001b[0m\u001b[1;33m\u001b[0m\u001b[0m\n\u001b[1;32m--> 229\u001b[1;33m             \u001b[0merrors\u001b[0m\u001b[1;33m=\u001b[0m\u001b[0mkwds\u001b[0m\u001b[1;33m.\u001b[0m\u001b[0mget\u001b[0m\u001b[1;33m(\u001b[0m\u001b[1;34m\"encoding_errors\"\u001b[0m\u001b[1;33m,\u001b[0m \u001b[1;34m\"strict\"\u001b[0m\u001b[1;33m)\u001b[0m\u001b[1;33m,\u001b[0m\u001b[1;33m\u001b[0m\u001b[1;33m\u001b[0m\u001b[0m\n\u001b[0m\u001b[0;32m    230\u001b[0m         )\n\u001b[0;32m    231\u001b[0m \u001b[1;33m\u001b[0m\u001b[0m\n",
      "\u001b[1;32m~\\anaconda3\\envs\\ML_env\\lib\\site-packages\\pandas\\io\\common.py\u001b[0m in \u001b[0;36mget_handle\u001b[1;34m(path_or_buf, mode, encoding, compression, memory_map, is_text, errors, storage_options)\u001b[0m\n\u001b[0;32m    705\u001b[0m                 \u001b[0mencoding\u001b[0m\u001b[1;33m=\u001b[0m\u001b[0mioargs\u001b[0m\u001b[1;33m.\u001b[0m\u001b[0mencoding\u001b[0m\u001b[1;33m,\u001b[0m\u001b[1;33m\u001b[0m\u001b[1;33m\u001b[0m\u001b[0m\n\u001b[0;32m    706\u001b[0m                 \u001b[0merrors\u001b[0m\u001b[1;33m=\u001b[0m\u001b[0merrors\u001b[0m\u001b[1;33m,\u001b[0m\u001b[1;33m\u001b[0m\u001b[1;33m\u001b[0m\u001b[0m\n\u001b[1;32m--> 707\u001b[1;33m                 \u001b[0mnewline\u001b[0m\u001b[1;33m=\u001b[0m\u001b[1;34m\"\"\u001b[0m\u001b[1;33m,\u001b[0m\u001b[1;33m\u001b[0m\u001b[1;33m\u001b[0m\u001b[0m\n\u001b[0m\u001b[0;32m    708\u001b[0m             )\n\u001b[0;32m    709\u001b[0m         \u001b[1;32melse\u001b[0m\u001b[1;33m:\u001b[0m\u001b[1;33m\u001b[0m\u001b[1;33m\u001b[0m\u001b[0m\n",
      "\u001b[1;31mOSError\u001b[0m: [Errno 22] Invalid argument: 'DataQuality\\raw_data\\\\salt_author_info.csv'"
     ]
    }
   ],
   "source": [
    "author = pd.read_csv(\"DataQuality\\raw_data\\salt_author_info.csv\")\n",
    "attr_list = pd.read_csv(\"DataQuality\\raw_data\\Article_attr.csv\")\n",
    "article_list = pd.read_csv(\"DataQuality\\raw_data\\Article_list.csv\")"
   ]
  },
  {
   "cell_type": "code",
   "execution_count": 44,
   "id": "e41a4cf1",
   "metadata": {},
   "outputs": [
    {
     "data": {
      "text/html": [
       "<div>\n",
       "<style scoped>\n",
       "    .dataframe tbody tr th:only-of-type {\n",
       "        vertical-align: middle;\n",
       "    }\n",
       "\n",
       "    .dataframe tbody tr th {\n",
       "        vertical-align: top;\n",
       "    }\n",
       "\n",
       "    .dataframe thead th {\n",
       "        text-align: right;\n",
       "    }\n",
       "</style>\n",
       "<table border=\"1\" class=\"dataframe\">\n",
       "  <thead>\n",
       "    <tr style=\"text-align: right;\">\n",
       "      <th></th>\n",
       "      <th>ID</th>\n",
       "      <th>paper assigned ID</th>\n",
       "      <th>Type</th>\n",
       "      <th>Study Groupings</th>\n",
       "      <th>Title</th>\n",
       "      <th>year</th>\n",
       "      <th>Attitude</th>\n",
       "      <th>Doi</th>\n",
       "      <th>Retracted (Y/N)</th>\n",
       "    </tr>\n",
       "  </thead>\n",
       "  <tbody>\n",
       "    <tr>\n",
       "      <th>0</th>\n",
       "      <td>1</td>\n",
       "      <td>Hooper2002</td>\n",
       "      <td>Systematic Review</td>\n",
       "      <td>NaN</td>\n",
       "      <td>Systematic review of long term effects of advi...</td>\n",
       "      <td>2002</td>\n",
       "      <td>inconclusive</td>\n",
       "      <td>10.1136/bmj.325.7365.628</td>\n",
       "      <td>NaN</td>\n",
       "    </tr>\n",
       "    <tr>\n",
       "      <th>1</th>\n",
       "      <td>2</td>\n",
       "      <td>Hooper2003</td>\n",
       "      <td>Systematic Review</td>\n",
       "      <td>NaN</td>\n",
       "      <td>Reduced dietary salt for prevention of cardiov...</td>\n",
       "      <td>2003</td>\n",
       "      <td>inconclusive</td>\n",
       "      <td>10.1002/14651858.CD003656</td>\n",
       "      <td>NaN</td>\n",
       "    </tr>\n",
       "    <tr>\n",
       "      <th>2</th>\n",
       "      <td>3</td>\n",
       "      <td>Hooper2004</td>\n",
       "      <td>Systematic Review</td>\n",
       "      <td>NaN</td>\n",
       "      <td>Advice to reduce dietary salt for prevention o...</td>\n",
       "      <td>2004</td>\n",
       "      <td>inconclusive</td>\n",
       "      <td>10.1002/14651858.CD003656.pub2</td>\n",
       "      <td>NaN</td>\n",
       "    </tr>\n",
       "    <tr>\n",
       "      <th>3</th>\n",
       "      <td>4</td>\n",
       "      <td>Strazzullo2009</td>\n",
       "      <td>Systematic Review</td>\n",
       "      <td>NaN</td>\n",
       "      <td>Salt intake, stroke, and cardiovascular diseas...</td>\n",
       "      <td>2009</td>\n",
       "      <td>for</td>\n",
       "      <td>10.1136/bmj.b4567</td>\n",
       "      <td>NaN</td>\n",
       "    </tr>\n",
       "    <tr>\n",
       "      <th>4</th>\n",
       "      <td>5</td>\n",
       "      <td>Taylor2011a</td>\n",
       "      <td>Systematic Review</td>\n",
       "      <td>NaN</td>\n",
       "      <td>Reduced dietary salt for the prevention of car...</td>\n",
       "      <td>2011</td>\n",
       "      <td>inconclusive</td>\n",
       "      <td>10.1038/ajh.2011.115</td>\n",
       "      <td>NaN</td>\n",
       "    </tr>\n",
       "  </tbody>\n",
       "</table>\n",
       "</div>"
      ],
      "text/plain": [
       "   ID paper assigned ID               Type Study Groupings  \\\n",
       "0   1        Hooper2002  Systematic Review             NaN   \n",
       "1   2        Hooper2003  Systematic Review             NaN   \n",
       "2   3        Hooper2004  Systematic Review             NaN   \n",
       "3   4    Strazzullo2009  Systematic Review             NaN   \n",
       "4   5       Taylor2011a  Systematic Review             NaN   \n",
       "\n",
       "                                               Title  year      Attitude  \\\n",
       "0  Systematic review of long term effects of advi...  2002  inconclusive   \n",
       "1  Reduced dietary salt for prevention of cardiov...  2003  inconclusive   \n",
       "2  Advice to reduce dietary salt for prevention o...  2004  inconclusive   \n",
       "3  Salt intake, stroke, and cardiovascular diseas...  2009           for   \n",
       "4  Reduced dietary salt for the prevention of car...  2011  inconclusive   \n",
       "\n",
       "                              Doi Retracted (Y/N)  \n",
       "0        10.1136/bmj.325.7365.628             NaN  \n",
       "1       10.1002/14651858.CD003656             NaN  \n",
       "2  10.1002/14651858.CD003656.pub2             NaN  \n",
       "3               10.1136/bmj.b4567             NaN  \n",
       "4            10.1038/ajh.2011.115             NaN  "
      ]
     },
     "execution_count": 44,
     "metadata": {},
     "output_type": "execute_result"
    }
   ],
   "source": [
    "article_list.head()"
   ]
  },
  {
   "cell_type": "code",
   "execution_count": 45,
   "id": "583097c6",
   "metadata": {},
   "outputs": [
    {
     "data": {
      "text/plain": [
       "82"
      ]
     },
     "execution_count": 45,
     "metadata": {},
     "output_type": "execute_result"
    }
   ],
   "source": [
    "len(article_list['ID'].unique())"
   ]
  },
  {
   "cell_type": "code",
   "execution_count": null,
   "id": "4a9d8e45",
   "metadata": {},
   "outputs": [],
   "source": [
    "article_list['ID'].unique()"
   ]
  },
  {
   "cell_type": "code",
   "execution_count": 46,
   "id": "bd1850c3",
   "metadata": {},
   "outputs": [
    {
     "data": {
      "text/plain": [
       "82"
      ]
     },
     "execution_count": 46,
     "metadata": {},
     "output_type": "execute_result"
    }
   ],
   "source": [
    "len(author['ID'].sort_values().unique())"
   ]
  },
  {
   "cell_type": "code",
   "execution_count": 65,
   "id": "880bb39d",
   "metadata": {},
   "outputs": [
    {
     "data": {
      "text/plain": [
       "array([ 1,  2,  3,  4,  5,  7,  9, 12, 13, 26, 27, 30, 31, 33, 34, 38, 39,\n",
       "       40, 41, 42, 43, 45, 47, 48, 49, 50, 51, 52, 53, 54, 55, 58, 59, 61,\n",
       "       62, 63, 64, 65, 66, 67, 68, 70, 71, 73, 74, 75, 76, 77, 78, 79, 80,\n",
       "       81, 82, 83, 84, 85, 87, 88, 89, 90, 92,  6, 11, 46, 56, 57, 69, 14,\n",
       "       28, 60, 86, 91, 93,  8, 10, 29, 32, 35, 36, 37, 44, 72],\n",
       "      dtype=int64)"
      ]
     },
     "execution_count": 65,
     "metadata": {},
     "output_type": "execute_result"
    }
   ],
   "source": [
    "author['ID'].unique()"
   ]
  },
  {
   "cell_type": "code",
   "execution_count": 59,
   "id": "0fe442ad",
   "metadata": {},
   "outputs": [
    {
     "data": {
      "text/plain": [
       "82"
      ]
     },
     "execution_count": 59,
     "metadata": {},
     "output_type": "execute_result"
    }
   ],
   "source": [
    "len(author['ID'].sort_values().unique())"
   ]
  },
  {
   "cell_type": "code",
   "execution_count": 48,
   "id": "7f4fc72f",
   "metadata": {},
   "outputs": [
    {
     "data": {
      "text/plain": [
       "82"
      ]
     },
     "execution_count": 48,
     "metadata": {},
     "output_type": "execute_result"
    }
   ],
   "source": [
    "left_df = author[['ID','original_title']].drop_duplicates().sort_values(by='ID')\n",
    "len(left_df)"
   ]
  },
  {
   "cell_type": "code",
   "execution_count": 49,
   "id": "7ea77587",
   "metadata": {},
   "outputs": [
    {
     "data": {
      "text/plain": [
       "82"
      ]
     },
     "execution_count": 49,
     "metadata": {},
     "output_type": "execute_result"
    }
   ],
   "source": [
    "right_df = article_list[['ID','Title']]\n",
    "len(right_df)"
   ]
  },
  {
   "cell_type": "code",
   "execution_count": 50,
   "id": "a0227dbe",
   "metadata": {},
   "outputs": [],
   "source": [
    "merged_df = left_df.merge(right_df, on='ID')"
   ]
  },
  {
   "cell_type": "code",
   "execution_count": 51,
   "id": "2a69efca",
   "metadata": {},
   "outputs": [
    {
     "data": {
      "text/html": [
       "<div>\n",
       "<style scoped>\n",
       "    .dataframe tbody tr th:only-of-type {\n",
       "        vertical-align: middle;\n",
       "    }\n",
       "\n",
       "    .dataframe tbody tr th {\n",
       "        vertical-align: top;\n",
       "    }\n",
       "\n",
       "    .dataframe thead th {\n",
       "        text-align: right;\n",
       "    }\n",
       "</style>\n",
       "<table border=\"1\" class=\"dataframe\">\n",
       "  <thead>\n",
       "    <tr style=\"text-align: right;\">\n",
       "      <th></th>\n",
       "      <th>ID</th>\n",
       "      <th>original_title</th>\n",
       "      <th>Title</th>\n",
       "    </tr>\n",
       "  </thead>\n",
       "  <tbody>\n",
       "    <tr>\n",
       "      <th>0</th>\n",
       "      <td>1</td>\n",
       "      <td>Systematic review of long term effects of advi...</td>\n",
       "      <td>Systematic review of long term effects of advi...</td>\n",
       "    </tr>\n",
       "    <tr>\n",
       "      <th>1</th>\n",
       "      <td>2</td>\n",
       "      <td>Reduced dietary salt for prevention of cardiov...</td>\n",
       "      <td>Reduced dietary salt for prevention of cardiov...</td>\n",
       "    </tr>\n",
       "    <tr>\n",
       "      <th>2</th>\n",
       "      <td>3</td>\n",
       "      <td>Advice to reduce dietary salt for prevention o...</td>\n",
       "      <td>Advice to reduce dietary salt for prevention o...</td>\n",
       "    </tr>\n",
       "    <tr>\n",
       "      <th>3</th>\n",
       "      <td>4</td>\n",
       "      <td>Salt intake, stroke, and cardiovascular diseas...</td>\n",
       "      <td>Salt intake, stroke, and cardiovascular diseas...</td>\n",
       "    </tr>\n",
       "    <tr>\n",
       "      <th>4</th>\n",
       "      <td>5</td>\n",
       "      <td>Reduced dietary salt for the prevention of car...</td>\n",
       "      <td>Reduced dietary salt for the prevention of car...</td>\n",
       "    </tr>\n",
       "  </tbody>\n",
       "</table>\n",
       "</div>"
      ],
      "text/plain": [
       "   ID                                     original_title  \\\n",
       "0   1  Systematic review of long term effects of advi...   \n",
       "1   2  Reduced dietary salt for prevention of cardiov...   \n",
       "2   3  Advice to reduce dietary salt for prevention o...   \n",
       "3   4  Salt intake, stroke, and cardiovascular diseas...   \n",
       "4   5  Reduced dietary salt for the prevention of car...   \n",
       "\n",
       "                                               Title  \n",
       "0  Systematic review of long term effects of advi...  \n",
       "1  Reduced dietary salt for prevention of cardiov...  \n",
       "2  Advice to reduce dietary salt for prevention o...  \n",
       "3  Salt intake, stroke, and cardiovascular diseas...  \n",
       "4  Reduced dietary salt for the prevention of car...  "
      ]
     },
     "execution_count": 51,
     "metadata": {},
     "output_type": "execute_result"
    }
   ],
   "source": [
    "merged_df.head(5)"
   ]
  },
  {
   "cell_type": "code",
   "execution_count": 52,
   "id": "a16da500",
   "metadata": {},
   "outputs": [
    {
     "name": "stdout",
     "output_type": "stream",
     "text": [
      "Titles for article  1  match.\n",
      "Titles for article  2  match.\n",
      "Titles for article  3  match.\n",
      "Titles for article  4  match.\n",
      "Titles for article  5  match.\n",
      "Titles for article  6  match.\n",
      "Titles for article  7  match.\n",
      "Titles for article  8  match.\n",
      "Titles for article  9  match.\n",
      "Titles for article  10  match.\n",
      "Titles for article  11  match.\n",
      "Titles for article  12  match.\n",
      "Titles for article  13  match.\n",
      "Titles for article  14  match.\n",
      "Titles for article  26  match.\n",
      "Titles for article  27  match.\n",
      "Titles for article  28  match.\n",
      "Titles for article  29  match.\n",
      "Titles for article  30  match.\n",
      "Titles for article  31  match.\n",
      "Titles for article  32  match.\n",
      "Titles for article  33  match.\n",
      "Titles for article  34  match.\n",
      "Titles for article  35  match.\n",
      "Titles for article  36  DO NOT match.\n",
      "\n",
      "Title in the article list:  Workshop on Sodium and Blood Pressure\n",
      "\n",
      "Title in the author list:  Multiple Risk Factor Intervention Trial follow-up\n",
      "Titles for article  37  match.\n",
      "Titles for article  38  match.\n",
      "Titles for article  39  match.\n",
      "Titles for article  40  match.\n",
      "Titles for article  41  match.\n",
      "Titles for article  42  match.\n",
      "Titles for article  43  match.\n",
      "Titles for article  44  match.\n",
      "Titles for article  45  match.\n",
      "Titles for article  46  match.\n",
      "Titles for article  47  match.\n",
      "Titles for article  48  match.\n",
      "Titles for article  49  match.\n",
      "Titles for article  50  match.\n",
      "Titles for article  51  match.\n",
      "Titles for article  52  match.\n",
      "Titles for article  53  match.\n",
      "Titles for article  54  match.\n",
      "Titles for article  55  match.\n",
      "Titles for article  56  match.\n",
      "Titles for article  57  match.\n",
      "Titles for article  58  match.\n",
      "Titles for article  59  match.\n",
      "Titles for article  60  match.\n",
      "Titles for article  61  match.\n",
      "Titles for article  62  match.\n",
      "Titles for article  63  match.\n",
      "Titles for article  64  match.\n",
      "Titles for article  65  match.\n",
      "Titles for article  66  match.\n",
      "Titles for article  67  match.\n",
      "Titles for article  68  match.\n",
      "Titles for article  69  match.\n",
      "Titles for article  70  match.\n",
      "Titles for article  71  match.\n",
      "Titles for article  72  match.\n",
      "Titles for article  73  match.\n",
      "Titles for article  74  match.\n",
      "Titles for article  75  match.\n",
      "Titles for article  76  match.\n",
      "Titles for article  77  match.\n",
      "Titles for article  78  match.\n",
      "Titles for article  79  match.\n",
      "Titles for article  80  match.\n",
      "Titles for article  81  match.\n",
      "Titles for article  82  match.\n",
      "Titles for article  83  match.\n",
      "Titles for article  84  match.\n",
      "Titles for article  85  match.\n",
      "Titles for article  86  match.\n",
      "Titles for article  87  match.\n",
      "Titles for article  88  match.\n",
      "Titles for article  89  match.\n",
      "Titles for article  90  match.\n",
      "Titles for article  91  match.\n",
      "Titles for article  92  match.\n",
      "Titles for article  93  match.\n"
     ]
    }
   ],
   "source": [
    "for i in range(len(merged_df)):\n",
    "    if merged_df.loc[i,'Title'] != merged_df.loc[i,'original_title']:\n",
    "        print('Titles for article ', merged_df.loc[i,'ID'], ' DO NOT match.')\n",
    "        print('\\nTitle in the article list: ', merged_df.loc[i,'Title'])\n",
    "        print('\\nTitle in the author list: ', merged_df.loc[i,'original_title'])\n",
    "    else:\n",
    "        print('Titles for article ', merged_df.loc[i,'ID'], ' match.')"
   ]
  },
  {
   "cell_type": "code",
   "execution_count": null,
   "id": "b92ff2f5",
   "metadata": {},
   "outputs": [],
   "source": [
    "## only article 36 did not match. The reason was the original dataset (deposited in the data bank), mistook the workshop name for title\n",
    "\n",
    "# Cohen J. Multiple Risk Factor Intervention Trial follow-up. Workshop on Sodium and\n",
    "# Blood Pressure. Bethesda, MD, National Heart, Lung, and Blood Institute. 1999\n",
    "\n",
    "# Titles for article  36  DO NOT match.\n",
    "\n",
    "# Title in the article list:  Workshop on Sodium and Blood Pressure\n",
    "\n",
    "# Title in the author list:  Multiple Risk Factor Intervention Trial follow-up"
   ]
  },
  {
   "cell_type": "code",
   "execution_count": 63,
   "id": "cf2ef97f",
   "metadata": {},
   "outputs": [
    {
     "data": {
      "text/plain": [
       "array([ 1,  2,  3,  4,  5,  6,  7,  8,  9, 10, 11, 12, 13, 14, 26, 27, 28,\n",
       "       29, 30, 31, 32, 33, 34, 35, 36, 37, 38, 39, 40, 41, 42, 43, 44, 45,\n",
       "       46, 47, 48, 49, 50, 51, 52, 53, 54, 55, 56, 57, 58, 59, 60, 61, 62,\n",
       "       63, 64, 65, 66, 67, 68, 69, 70, 71, 72, 73, 74, 75, 76, 77, 78, 79,\n",
       "       80, 81, 82, 83, 84, 85, 86, 87, 88, 89, 90, 91, 92, 93],\n",
       "      dtype=int64)"
      ]
     },
     "execution_count": 63,
     "metadata": {},
     "output_type": "execute_result"
    }
   ],
   "source": [
    "attr_list['ID'].to_numpy()"
   ]
  },
  {
   "cell_type": "code",
   "execution_count": 64,
   "id": "7e825c72",
   "metadata": {},
   "outputs": [
    {
     "data": {
      "text/plain": [
       "82"
      ]
     },
     "execution_count": 64,
     "metadata": {},
     "output_type": "execute_result"
    }
   ],
   "source": [
    "len(attr_list['ID'].to_numpy())"
   ]
  },
  {
   "cell_type": "code",
   "execution_count": null,
   "id": "3f985087",
   "metadata": {},
   "outputs": [],
   "source": []
  }
 ],
 "metadata": {
  "kernelspec": {
   "display_name": "Python 3 (ipykernel)",
   "language": "python",
   "name": "python3"
  },
  "language_info": {
   "codemirror_mode": {
    "name": "ipython",
    "version": 3
   },
   "file_extension": ".py",
   "mimetype": "text/x-python",
   "name": "python",
   "nbconvert_exporter": "python",
   "pygments_lexer": "ipython3",
   "version": "3.7.11"
  }
 },
 "nbformat": 4,
 "nbformat_minor": 5
}
