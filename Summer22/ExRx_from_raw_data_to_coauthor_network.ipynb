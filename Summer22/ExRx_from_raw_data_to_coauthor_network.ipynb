{
 "cells": [
  {
   "cell_type": "code",
   "execution_count": 49,
   "id": "9bb8eb2b",
   "metadata": {},
   "outputs": [],
   "source": [
    "import pandas as pd\n",
    "import networkx as nx\n",
    "import numpy as np"
   ]
  },
  {
   "cell_type": "code",
   "execution_count": 50,
   "id": "637fc6d1",
   "metadata": {},
   "outputs": [],
   "source": [
    "author_df = pd.read_csv('data/exrx_author_final.csv')\n",
    "report_df = pd.read_csv('data/article_list.csv')"
   ]
  },
  {
   "cell_type": "code",
   "execution_count": 51,
   "id": "1a52b6f6",
   "metadata": {},
   "outputs": [],
   "source": [
    "# filter author_df\n",
    "author_df = author_df[author_df['report_id'].isin(report_df['Our ID'].to_list())]"
   ]
  },
  {
   "cell_type": "code",
   "execution_count": 52,
   "id": "dc5fb948",
   "metadata": {},
   "outputs": [],
   "source": [
    "# extract the ids of systematic review report (SRR)\n",
    "srr_id_list = report_df.loc[report_df['Our Item Type'] == \"ReviewArticle\"]['Our ID'].to_list()"
   ]
  },
  {
   "cell_type": "code",
   "execution_count": 53,
   "id": "cb2f8495",
   "metadata": {},
   "outputs": [],
   "source": [
    "# extract the ids of primary study reports (PSRs)\n",
    "psr_id_list = report_df.loc[report_df['Our Item Type'] == \"includedItem\"]['Our ID'].to_list()"
   ]
  },
  {
   "cell_type": "code",
   "execution_count": 54,
   "id": "d75c44d1",
   "metadata": {},
   "outputs": [],
   "source": [
    "# create an author dictionary\n",
    "author_df['author_full_name'] = author_df['author_given_name'] + ' ' + author_df['author_surname']\n",
    "author_info = author_df[['author_id', 'author_full_name']].groupby('author_id').aggregate('max')\n",
    "author_id = author_info.index.to_list()\n",
    "author_name = author_info['author_full_name'].to_list()\n",
    "author_dict = {author_id[i]:author_name[i] for i in range(len(author_id))}"
   ]
  },
  {
   "cell_type": "code",
   "execution_count": 55,
   "id": "54390f7c",
   "metadata": {},
   "outputs": [],
   "source": [
    "# adding to author_info dataframe with the number of SRRs and PSRs authored, and compute the percentage of SRRs\n",
    "author_info = author_df[['author_id', 'report_id']].groupby('author_id')['report_id'].apply(list)\n",
    "author_info = pd.DataFrame(author_info)\n",
    "author_info['no_of_srrs'] = author_info['report_id'].apply(lambda x: sum([y in srr_id_list for y in x]))\n",
    "author_info['no_of_psrs'] = author_info['report_id'].apply(lambda x: sum([y in psr_id_list for y in x]))\n",
    "author_info['percent_srrs'] = author_info['no_of_srrs'] / (author_info['no_of_srrs'] + author_info['no_of_psrs'])\n",
    "author_info['author_full_name'] = [author_dict[idx] for idx in author_info.index]\n",
    "author_info['author_full_name'] = [author_dict[idx] for idx in author_info.index]"
   ]
  },
  {
   "cell_type": "code",
   "execution_count": 56,
   "id": "284d1c57",
   "metadata": {},
   "outputs": [],
   "source": [
    "report_id = report_df['Our ID'].to_list()"
   ]
  },
  {
   "cell_type": "code",
   "execution_count": 57,
   "id": "f80a2045",
   "metadata": {},
   "outputs": [],
   "source": [
    "# edge_list\n",
    "report_node_set = author_df['report_id'].to_list()\n",
    "author_node_set = author_df['author_id'].to_list()\n",
    "edge_list = [(report_node_set[i], author_node_set[i]) for i in range(len(report_node_set))]"
   ]
  },
  {
   "cell_type": "code",
   "execution_count": 58,
   "id": "0d5ae2fc",
   "metadata": {},
   "outputs": [],
   "source": [
    "# create two co-author matrix, one for SRRs and one for PSRs\n",
    "\n",
    "# create blank a matrix (author(row names) * report (column names))\n",
    "srr_df = pd.DataFrame(np.zeros((len(author_id), len(report_id))),\n",
    "                 columns=report_id,\n",
    "                 index=author_id)\n",
    "\n",
    "psr_df = pd.DataFrame(np.zeros((len(author_id), len(report_id))),\n",
    "                      columns=report_id,\n",
    "                      index=author_id)\n",
    "\n",
    "\n",
    "# create the author * report matrix\n",
    "for i in range(len(edge_list)):\n",
    "    if edge_list[i][0] in srr_id_list:\n",
    "        row_index = edge_list[i][1]\n",
    "        column_index = edge_list[i][0]\n",
    "        srr_df[column_index][row_index] = 1\n",
    "    elif edge_list[i][0] in psr_id_list:\n",
    "        row_index = edge_list[i][1]\n",
    "        column_index = edge_list[i][0]\n",
    "        psr_df[column_index][row_index] = 1\n",
    "\n",
    "# using matrix algebra to create the co-author network, weight is the nature of collaboration (100% review to 0% review)\n",
    "srr_coauthor_adj_mat = np.matrix(srr_df)*np.matrix(srr_df).transpose()\n",
    "psr_coauthor_adj_mat = np.matrix(psr_df)*np.matrix(psr_df).transpose()\n",
    "\n",
    "# create two edgelists\n",
    "srr_coauthor_adj_mat = pd.DataFrame(srr_coauthor_adj_mat, columns=author_id, index=author_id)\n",
    "psr_coauthor_adj_mat = pd.DataFrame(psr_coauthor_adj_mat, columns=author_id, index=author_id)\n",
    "srr_edgelist_df = pd.DataFrame(srr_coauthor_adj_mat.stack().reset_index()).rename(columns={'level_0': 'source', 'level_1':'target', 0:'no_of_srrs_coauthored'})\n",
    "psr_edgelist_df = pd.DataFrame(psr_coauthor_adj_mat.stack().reset_index()).rename(columns={'level_0': 'source', 'level_1':'target', 0:'no_of_psrs_coauthored'})"
   ]
  },
  {
   "cell_type": "code",
   "execution_count": 31,
   "id": "c840662f",
   "metadata": {},
   "outputs": [
    {
     "data": {
      "text/html": [
       "<div>\n",
       "<style scoped>\n",
       "    .dataframe tbody tr th:only-of-type {\n",
       "        vertical-align: middle;\n",
       "    }\n",
       "\n",
       "    .dataframe tbody tr th {\n",
       "        vertical-align: top;\n",
       "    }\n",
       "\n",
       "    .dataframe thead th {\n",
       "        text-align: right;\n",
       "    }\n",
       "</style>\n",
       "<table border=\"1\" class=\"dataframe\">\n",
       "  <thead>\n",
       "    <tr style=\"text-align: right;\">\n",
       "      <th></th>\n",
       "      <th>source</th>\n",
       "      <th>target</th>\n",
       "      <th>no_of_srrs_coauthored</th>\n",
       "    </tr>\n",
       "  </thead>\n",
       "  <tbody>\n",
       "    <tr>\n",
       "      <th>305136</th>\n",
       "      <td>163</td>\n",
       "      <td>163</td>\n",
       "      <td>1.0</td>\n",
       "    </tr>\n",
       "    <tr>\n",
       "      <th>305137</th>\n",
       "      <td>163</td>\n",
       "      <td>164</td>\n",
       "      <td>1.0</td>\n",
       "    </tr>\n",
       "    <tr>\n",
       "      <th>305138</th>\n",
       "      <td>163</td>\n",
       "      <td>165</td>\n",
       "      <td>1.0</td>\n",
       "    </tr>\n",
       "    <tr>\n",
       "      <th>305161</th>\n",
       "      <td>163</td>\n",
       "      <td>190</td>\n",
       "      <td>1.0</td>\n",
       "    </tr>\n",
       "    <tr>\n",
       "      <th>307091</th>\n",
       "      <td>164</td>\n",
       "      <td>163</td>\n",
       "      <td>1.0</td>\n",
       "    </tr>\n",
       "    <tr>\n",
       "      <th>...</th>\n",
       "      <td>...</td>\n",
       "      <td>...</td>\n",
       "      <td>...</td>\n",
       "    </tr>\n",
       "    <tr>\n",
       "      <th>3821060</th>\n",
       "      <td>57327765900</td>\n",
       "      <td>14016488400</td>\n",
       "      <td>1.0</td>\n",
       "    </tr>\n",
       "    <tr>\n",
       "      <th>3821158</th>\n",
       "      <td>57327765900</td>\n",
       "      <td>21734345600</td>\n",
       "      <td>1.0</td>\n",
       "    </tr>\n",
       "    <tr>\n",
       "      <th>3821721</th>\n",
       "      <td>57327765900</td>\n",
       "      <td>56218826200</td>\n",
       "      <td>1.0</td>\n",
       "    </tr>\n",
       "    <tr>\n",
       "      <th>3821968</th>\n",
       "      <td>57327765900</td>\n",
       "      <td>57205168661</td>\n",
       "      <td>1.0</td>\n",
       "    </tr>\n",
       "    <tr>\n",
       "      <th>3822024</th>\n",
       "      <td>57327765900</td>\n",
       "      <td>57327765900</td>\n",
       "      <td>1.0</td>\n",
       "    </tr>\n",
       "  </tbody>\n",
       "</table>\n",
       "<p>943 rows × 3 columns</p>\n",
       "</div>"
      ],
      "text/plain": [
       "              source       target  no_of_srrs_coauthored\n",
       "305136           163          163                    1.0\n",
       "305137           163          164                    1.0\n",
       "305138           163          165                    1.0\n",
       "305161           163          190                    1.0\n",
       "307091           164          163                    1.0\n",
       "...              ...          ...                    ...\n",
       "3821060  57327765900  14016488400                    1.0\n",
       "3821158  57327765900  21734345600                    1.0\n",
       "3821721  57327765900  56218826200                    1.0\n",
       "3821968  57327765900  57205168661                    1.0\n",
       "3822024  57327765900  57327765900                    1.0\n",
       "\n",
       "[943 rows x 3 columns]"
      ]
     },
     "execution_count": 31,
     "metadata": {},
     "output_type": "execute_result"
    }
   ],
   "source": [
    "srr_edgelist_df[srr_edgelist_df['no_of_srrs_coauthored'] != 0]"
   ]
  },
  {
   "cell_type": "code",
   "execution_count": 59,
   "id": "6b85bd7a",
   "metadata": {},
   "outputs": [],
   "source": [
    "# create a matrix (author(row names) * report (column names))\n",
    "author_report_df = pd.DataFrame(np.zeros((len(author_id), len(report_id))),\n",
    "                 columns=report_id,\n",
    "                 index=author_id)\n",
    "\n",
    "for i in range(len(edge_list)):\n",
    "    row_index = edge_list[i][1]\n",
    "    column_index = edge_list[i][0]\n",
    "    author_report_df[column_index][row_index] = 1\n",
    "\n",
    "# using matrix algebra to create the co-author network\n",
    "coauthor_mat = np.matrix(author_report_df)*np.matrix(author_report_df).transpose()\n",
    "\n",
    "# create a new df to hold the adjacency matrix\n",
    "coauthor_adj_mat = pd.DataFrame(coauthor_mat, columns=author_id, index=author_id)\n",
    "total_edgelist_df = pd.DataFrame(coauthor_adj_mat.stack().reset_index()).rename(columns={'level_0': 'source', 'level_1':'target', 0:'no_of_reports_coauthored'})"
   ]
  },
  {
   "cell_type": "code",
   "execution_count": 60,
   "id": "85e44612",
   "metadata": {},
   "outputs": [
    {
     "data": {
      "text/html": [
       "<div>\n",
       "<style scoped>\n",
       "    .dataframe tbody tr th:only-of-type {\n",
       "        vertical-align: middle;\n",
       "    }\n",
       "\n",
       "    .dataframe tbody tr th {\n",
       "        vertical-align: top;\n",
       "    }\n",
       "\n",
       "    .dataframe thead th {\n",
       "        text-align: right;\n",
       "    }\n",
       "</style>\n",
       "<table border=\"1\" class=\"dataframe\">\n",
       "  <thead>\n",
       "    <tr style=\"text-align: right;\">\n",
       "      <th></th>\n",
       "      <th>source</th>\n",
       "      <th>target</th>\n",
       "      <th>no_of_srrs_coauthored</th>\n",
       "    </tr>\n",
       "  </thead>\n",
       "  <tbody>\n",
       "    <tr>\n",
       "      <th>0</th>\n",
       "      <td>1</td>\n",
       "      <td>1</td>\n",
       "      <td>0.0</td>\n",
       "    </tr>\n",
       "    <tr>\n",
       "      <th>1</th>\n",
       "      <td>1</td>\n",
       "      <td>2</td>\n",
       "      <td>0.0</td>\n",
       "    </tr>\n",
       "    <tr>\n",
       "      <th>2</th>\n",
       "      <td>1</td>\n",
       "      <td>3</td>\n",
       "      <td>0.0</td>\n",
       "    </tr>\n",
       "    <tr>\n",
       "      <th>3</th>\n",
       "      <td>1</td>\n",
       "      <td>4</td>\n",
       "      <td>0.0</td>\n",
       "    </tr>\n",
       "    <tr>\n",
       "      <th>4</th>\n",
       "      <td>1</td>\n",
       "      <td>5</td>\n",
       "      <td>0.0</td>\n",
       "    </tr>\n",
       "  </tbody>\n",
       "</table>\n",
       "</div>"
      ],
      "text/plain": [
       "   source  target  no_of_srrs_coauthored\n",
       "0       1       1                    0.0\n",
       "1       1       2                    0.0\n",
       "2       1       3                    0.0\n",
       "3       1       4                    0.0\n",
       "4       1       5                    0.0"
      ]
     },
     "execution_count": 60,
     "metadata": {},
     "output_type": "execute_result"
    }
   ],
   "source": [
    "srr_edgelist_df.head(5)"
   ]
  },
  {
   "cell_type": "code",
   "execution_count": 61,
   "id": "b1a2b8cc",
   "metadata": {},
   "outputs": [
    {
     "data": {
      "text/html": [
       "<div>\n",
       "<style scoped>\n",
       "    .dataframe tbody tr th:only-of-type {\n",
       "        vertical-align: middle;\n",
       "    }\n",
       "\n",
       "    .dataframe tbody tr th {\n",
       "        vertical-align: top;\n",
       "    }\n",
       "\n",
       "    .dataframe thead th {\n",
       "        text-align: right;\n",
       "    }\n",
       "</style>\n",
       "<table border=\"1\" class=\"dataframe\">\n",
       "  <thead>\n",
       "    <tr style=\"text-align: right;\">\n",
       "      <th></th>\n",
       "      <th>source</th>\n",
       "      <th>target</th>\n",
       "      <th>no_of_psrs_coauthored</th>\n",
       "    </tr>\n",
       "  </thead>\n",
       "  <tbody>\n",
       "    <tr>\n",
       "      <th>0</th>\n",
       "      <td>1</td>\n",
       "      <td>1</td>\n",
       "      <td>1.0</td>\n",
       "    </tr>\n",
       "    <tr>\n",
       "      <th>1</th>\n",
       "      <td>1</td>\n",
       "      <td>2</td>\n",
       "      <td>0.0</td>\n",
       "    </tr>\n",
       "    <tr>\n",
       "      <th>2</th>\n",
       "      <td>1</td>\n",
       "      <td>3</td>\n",
       "      <td>0.0</td>\n",
       "    </tr>\n",
       "    <tr>\n",
       "      <th>3</th>\n",
       "      <td>1</td>\n",
       "      <td>4</td>\n",
       "      <td>0.0</td>\n",
       "    </tr>\n",
       "    <tr>\n",
       "      <th>4</th>\n",
       "      <td>1</td>\n",
       "      <td>5</td>\n",
       "      <td>0.0</td>\n",
       "    </tr>\n",
       "  </tbody>\n",
       "</table>\n",
       "</div>"
      ],
      "text/plain": [
       "   source  target  no_of_psrs_coauthored\n",
       "0       1       1                    1.0\n",
       "1       1       2                    0.0\n",
       "2       1       3                    0.0\n",
       "3       1       4                    0.0\n",
       "4       1       5                    0.0"
      ]
     },
     "execution_count": 61,
     "metadata": {},
     "output_type": "execute_result"
    }
   ],
   "source": [
    "psr_edgelist_df.head(5)"
   ]
  },
  {
   "cell_type": "code",
   "execution_count": 62,
   "id": "e39f3c2c",
   "metadata": {},
   "outputs": [
    {
     "data": {
      "text/html": [
       "<div>\n",
       "<style scoped>\n",
       "    .dataframe tbody tr th:only-of-type {\n",
       "        vertical-align: middle;\n",
       "    }\n",
       "\n",
       "    .dataframe tbody tr th {\n",
       "        vertical-align: top;\n",
       "    }\n",
       "\n",
       "    .dataframe thead th {\n",
       "        text-align: right;\n",
       "    }\n",
       "</style>\n",
       "<table border=\"1\" class=\"dataframe\">\n",
       "  <thead>\n",
       "    <tr style=\"text-align: right;\">\n",
       "      <th></th>\n",
       "      <th>source</th>\n",
       "      <th>target</th>\n",
       "      <th>no_of_reports_coauthored</th>\n",
       "    </tr>\n",
       "  </thead>\n",
       "  <tbody>\n",
       "    <tr>\n",
       "      <th>0</th>\n",
       "      <td>1</td>\n",
       "      <td>1</td>\n",
       "      <td>1.0</td>\n",
       "    </tr>\n",
       "    <tr>\n",
       "      <th>1</th>\n",
       "      <td>1</td>\n",
       "      <td>2</td>\n",
       "      <td>0.0</td>\n",
       "    </tr>\n",
       "    <tr>\n",
       "      <th>2</th>\n",
       "      <td>1</td>\n",
       "      <td>3</td>\n",
       "      <td>0.0</td>\n",
       "    </tr>\n",
       "    <tr>\n",
       "      <th>3</th>\n",
       "      <td>1</td>\n",
       "      <td>4</td>\n",
       "      <td>0.0</td>\n",
       "    </tr>\n",
       "    <tr>\n",
       "      <th>4</th>\n",
       "      <td>1</td>\n",
       "      <td>5</td>\n",
       "      <td>0.0</td>\n",
       "    </tr>\n",
       "  </tbody>\n",
       "</table>\n",
       "</div>"
      ],
      "text/plain": [
       "   source  target  no_of_reports_coauthored\n",
       "0       1       1                       1.0\n",
       "1       1       2                       0.0\n",
       "2       1       3                       0.0\n",
       "3       1       4                       0.0\n",
       "4       1       5                       0.0"
      ]
     },
     "execution_count": 62,
     "metadata": {},
     "output_type": "execute_result"
    }
   ],
   "source": [
    "total_edgelist_df.head(5)"
   ]
  },
  {
   "cell_type": "code",
   "execution_count": 63,
   "id": "ebc14759",
   "metadata": {},
   "outputs": [
    {
     "data": {
      "text/html": [
       "<div>\n",
       "<style scoped>\n",
       "    .dataframe tbody tr th:only-of-type {\n",
       "        vertical-align: middle;\n",
       "    }\n",
       "\n",
       "    .dataframe tbody tr th {\n",
       "        vertical-align: top;\n",
       "    }\n",
       "\n",
       "    .dataframe thead th {\n",
       "        text-align: right;\n",
       "    }\n",
       "</style>\n",
       "<table border=\"1\" class=\"dataframe\">\n",
       "  <thead>\n",
       "    <tr style=\"text-align: right;\">\n",
       "      <th></th>\n",
       "      <th>source</th>\n",
       "      <th>target</th>\n",
       "      <th>no_of_reports_coauthored</th>\n",
       "      <th>no_of_srrs_coauthored</th>\n",
       "      <th>no_of_psrs_coauthored</th>\n",
       "    </tr>\n",
       "  </thead>\n",
       "  <tbody>\n",
       "    <tr>\n",
       "      <th>0</th>\n",
       "      <td>1</td>\n",
       "      <td>1</td>\n",
       "      <td>1.0</td>\n",
       "      <td>0.0</td>\n",
       "      <td>1.0</td>\n",
       "    </tr>\n",
       "    <tr>\n",
       "      <th>1</th>\n",
       "      <td>1</td>\n",
       "      <td>2</td>\n",
       "      <td>0.0</td>\n",
       "      <td>0.0</td>\n",
       "      <td>0.0</td>\n",
       "    </tr>\n",
       "    <tr>\n",
       "      <th>2</th>\n",
       "      <td>1</td>\n",
       "      <td>3</td>\n",
       "      <td>0.0</td>\n",
       "      <td>0.0</td>\n",
       "      <td>0.0</td>\n",
       "    </tr>\n",
       "    <tr>\n",
       "      <th>3</th>\n",
       "      <td>1</td>\n",
       "      <td>4</td>\n",
       "      <td>0.0</td>\n",
       "      <td>0.0</td>\n",
       "      <td>0.0</td>\n",
       "    </tr>\n",
       "    <tr>\n",
       "      <th>4</th>\n",
       "      <td>1</td>\n",
       "      <td>5</td>\n",
       "      <td>0.0</td>\n",
       "      <td>0.0</td>\n",
       "      <td>0.0</td>\n",
       "    </tr>\n",
       "  </tbody>\n",
       "</table>\n",
       "</div>"
      ],
      "text/plain": [
       "   source  target  no_of_reports_coauthored  no_of_srrs_coauthored  \\\n",
       "0       1       1                       1.0                    0.0   \n",
       "1       1       2                       0.0                    0.0   \n",
       "2       1       3                       0.0                    0.0   \n",
       "3       1       4                       0.0                    0.0   \n",
       "4       1       5                       0.0                    0.0   \n",
       "\n",
       "   no_of_psrs_coauthored  \n",
       "0                    1.0  \n",
       "1                    0.0  \n",
       "2                    0.0  \n",
       "3                    0.0  \n",
       "4                    0.0  "
      ]
     },
     "execution_count": 63,
     "metadata": {},
     "output_type": "execute_result"
    }
   ],
   "source": [
    "# merge the three dataframes\n",
    "edgelist_df = total_edgelist_df.merge(right=srr_edgelist_df, on=['source', 'target']).merge(right=psr_edgelist_df, on=['source', 'target'])\n",
    "edgelist_df.head(5)"
   ]
  },
  {
   "cell_type": "code",
   "execution_count": 64,
   "id": "f8baf6f8",
   "metadata": {},
   "outputs": [
    {
     "data": {
      "text/plain": [
       "(15992, 5)"
      ]
     },
     "execution_count": 64,
     "metadata": {},
     "output_type": "execute_result"
    }
   ],
   "source": [
    "# trim off the entries where no_of_reports_coauthored == 0\n",
    "edgelist_df = edgelist_df[edgelist_df['no_of_reports_coauthored'] != 0]\n",
    "edgelist_df.shape"
   ]
  },
  {
   "cell_type": "code",
   "execution_count": 65,
   "id": "463a0b32",
   "metadata": {},
   "outputs": [
    {
     "data": {
      "text/plain": [
       "(14096, 5)"
      ]
     },
     "execution_count": 65,
     "metadata": {},
     "output_type": "execute_result"
    }
   ],
   "source": [
    "# trim off self loop (source == target)\n",
    "edgelist_df = edgelist_df[edgelist_df['source'] != edgelist_df['target']]\n",
    "edgelist_df.shape"
   ]
  },
  {
   "cell_type": "code",
   "execution_count": 66,
   "id": "b5b207ff",
   "metadata": {},
   "outputs": [
    {
     "data": {
      "text/html": [
       "<div>\n",
       "<style scoped>\n",
       "    .dataframe tbody tr th:only-of-type {\n",
       "        vertical-align: middle;\n",
       "    }\n",
       "\n",
       "    .dataframe tbody tr th {\n",
       "        vertical-align: top;\n",
       "    }\n",
       "\n",
       "    .dataframe thead th {\n",
       "        text-align: right;\n",
       "    }\n",
       "</style>\n",
       "<table border=\"1\" class=\"dataframe\">\n",
       "  <thead>\n",
       "    <tr style=\"text-align: right;\">\n",
       "      <th></th>\n",
       "      <th>source</th>\n",
       "      <th>target</th>\n",
       "      <th>no_of_reports_coauthored</th>\n",
       "      <th>no_of_srrs_coauthored</th>\n",
       "      <th>no_of_psrs_coauthored</th>\n",
       "    </tr>\n",
       "  </thead>\n",
       "  <tbody>\n",
       "    <tr>\n",
       "      <th>1898</th>\n",
       "      <td>2</td>\n",
       "      <td>3</td>\n",
       "      <td>1.0</td>\n",
       "      <td>0.0</td>\n",
       "      <td>1.0</td>\n",
       "    </tr>\n",
       "    <tr>\n",
       "      <th>1899</th>\n",
       "      <td>2</td>\n",
       "      <td>4</td>\n",
       "      <td>1.0</td>\n",
       "      <td>0.0</td>\n",
       "      <td>1.0</td>\n",
       "    </tr>\n",
       "    <tr>\n",
       "      <th>1900</th>\n",
       "      <td>2</td>\n",
       "      <td>5</td>\n",
       "      <td>1.0</td>\n",
       "      <td>0.0</td>\n",
       "      <td>1.0</td>\n",
       "    </tr>\n",
       "    <tr>\n",
       "      <th>3793</th>\n",
       "      <td>3</td>\n",
       "      <td>2</td>\n",
       "      <td>1.0</td>\n",
       "      <td>0.0</td>\n",
       "      <td>1.0</td>\n",
       "    </tr>\n",
       "    <tr>\n",
       "      <th>3795</th>\n",
       "      <td>3</td>\n",
       "      <td>4</td>\n",
       "      <td>1.0</td>\n",
       "      <td>0.0</td>\n",
       "      <td>1.0</td>\n",
       "    </tr>\n",
       "  </tbody>\n",
       "</table>\n",
       "</div>"
      ],
      "text/plain": [
       "      source  target  no_of_reports_coauthored  no_of_srrs_coauthored  \\\n",
       "1898       2       3                       1.0                    0.0   \n",
       "1899       2       4                       1.0                    0.0   \n",
       "1900       2       5                       1.0                    0.0   \n",
       "3793       3       2                       1.0                    0.0   \n",
       "3795       3       4                       1.0                    0.0   \n",
       "\n",
       "      no_of_psrs_coauthored  \n",
       "1898                    1.0  \n",
       "1899                    1.0  \n",
       "1900                    1.0  \n",
       "3793                    1.0  \n",
       "3795                    1.0  "
      ]
     },
     "execution_count": 66,
     "metadata": {},
     "output_type": "execute_result"
    }
   ],
   "source": [
    "edgelist_df.head(5)"
   ]
  },
  {
   "cell_type": "code",
   "execution_count": 67,
   "id": "7ea1dcbd",
   "metadata": {},
   "outputs": [
    {
     "data": {
      "text/html": [
       "<div>\n",
       "<style scoped>\n",
       "    .dataframe tbody tr th:only-of-type {\n",
       "        vertical-align: middle;\n",
       "    }\n",
       "\n",
       "    .dataframe tbody tr th {\n",
       "        vertical-align: top;\n",
       "    }\n",
       "\n",
       "    .dataframe thead th {\n",
       "        text-align: right;\n",
       "    }\n",
       "</style>\n",
       "<table border=\"1\" class=\"dataframe\">\n",
       "  <thead>\n",
       "    <tr style=\"text-align: right;\">\n",
       "      <th></th>\n",
       "      <th>source</th>\n",
       "      <th>target</th>\n",
       "      <th>no_of_reports_coauthored</th>\n",
       "      <th>no_of_srrs_coauthored</th>\n",
       "      <th>no_of_psrs_coauthored</th>\n",
       "      <th>percent_srrs</th>\n",
       "    </tr>\n",
       "  </thead>\n",
       "  <tbody>\n",
       "    <tr>\n",
       "      <th>1898</th>\n",
       "      <td>2</td>\n",
       "      <td>3</td>\n",
       "      <td>1.0</td>\n",
       "      <td>0.0</td>\n",
       "      <td>1.0</td>\n",
       "      <td>0.0</td>\n",
       "    </tr>\n",
       "    <tr>\n",
       "      <th>1899</th>\n",
       "      <td>2</td>\n",
       "      <td>4</td>\n",
       "      <td>1.0</td>\n",
       "      <td>0.0</td>\n",
       "      <td>1.0</td>\n",
       "      <td>0.0</td>\n",
       "    </tr>\n",
       "    <tr>\n",
       "      <th>1900</th>\n",
       "      <td>2</td>\n",
       "      <td>5</td>\n",
       "      <td>1.0</td>\n",
       "      <td>0.0</td>\n",
       "      <td>1.0</td>\n",
       "      <td>0.0</td>\n",
       "    </tr>\n",
       "    <tr>\n",
       "      <th>3793</th>\n",
       "      <td>3</td>\n",
       "      <td>2</td>\n",
       "      <td>1.0</td>\n",
       "      <td>0.0</td>\n",
       "      <td>1.0</td>\n",
       "      <td>0.0</td>\n",
       "    </tr>\n",
       "    <tr>\n",
       "      <th>3795</th>\n",
       "      <td>3</td>\n",
       "      <td>4</td>\n",
       "      <td>1.0</td>\n",
       "      <td>0.0</td>\n",
       "      <td>1.0</td>\n",
       "      <td>0.0</td>\n",
       "    </tr>\n",
       "  </tbody>\n",
       "</table>\n",
       "</div>"
      ],
      "text/plain": [
       "      source  target  no_of_reports_coauthored  no_of_srrs_coauthored  \\\n",
       "1898       2       3                       1.0                    0.0   \n",
       "1899       2       4                       1.0                    0.0   \n",
       "1900       2       5                       1.0                    0.0   \n",
       "3793       3       2                       1.0                    0.0   \n",
       "3795       3       4                       1.0                    0.0   \n",
       "\n",
       "      no_of_psrs_coauthored  percent_srrs  \n",
       "1898                    1.0           0.0  \n",
       "1899                    1.0           0.0  \n",
       "1900                    1.0           0.0  \n",
       "3793                    1.0           0.0  \n",
       "3795                    1.0           0.0  "
      ]
     },
     "execution_count": 67,
     "metadata": {},
     "output_type": "execute_result"
    }
   ],
   "source": [
    "# compute percentage\n",
    "edgelist_df['percent_srrs'] = edgelist_df['no_of_srrs_coauthored']/edgelist_df['no_of_reports_coauthored']\n",
    "edgelist_df.head(5)"
   ]
  },
  {
   "cell_type": "code",
   "execution_count": 68,
   "id": "927495df",
   "metadata": {},
   "outputs": [
    {
     "data": {
      "text/plain": [
       "<AxesSubplot:>"
      ]
     },
     "execution_count": 68,
     "metadata": {},
     "output_type": "execute_result"
    },
    {
     "data": {
      "image/png": "[encoded data removed]",
      "text/plain": [
       "<Figure size 432x288 with 1 Axes>"
      ]
     },
     "metadata": {
      "needs_background": "light"
     },
     "output_type": "display_data"
    }
   ],
   "source": [
    "# visualize histogram of the percent_srrs among edges\n",
    "edgelist_df['percent_srrs'].hist(bins=100)"
   ]
  },
  {
   "cell_type": "code",
   "execution_count": 69,
   "id": "a5602efd",
   "metadata": {},
   "outputs": [
    {
     "data": {
      "text/plain": [
       "<AxesSubplot:>"
      ]
     },
     "execution_count": 69,
     "metadata": {},
     "output_type": "execute_result"
    },
    {
     "data": {
      "image/png": "[encoded data removed]",
      "text/plain": [
       "<Figure size 432x288 with 1 Axes>"
      ]
     },
     "metadata": {
      "needs_background": "light"
     },
     "output_type": "display_data"
    }
   ],
   "source": [
    "# visualize histogram of the percent_srr among articles\n",
    "author_info['percent_srrs'].hist(bins=100)"
   ]
  },
  {
   "cell_type": "code",
   "execution_count": 70,
   "id": "d6d2de2f",
   "metadata": {},
   "outputs": [],
   "source": [
    "# pacakge data for visualization\n",
    "edgelist_df.to_csv(\"ExRx_coauthor_network_edgelist.csv\", index=False)\n",
    "author_info.to_csv(\"ExRx_coauthor_network_attribute_list.csv\", index=True)"
   ]
  },
  {
   "cell_type": "code",
   "execution_count": null,
   "id": "d505024d",
   "metadata": {},
   "outputs": [],
   "source": []
  }
 ],
 "metadata": {
  "kernelspec": {
   "display_name": "Python 3 (ipykernel)",
   "language": "python",
   "name": "python3"
  },
  "language_info": {
   "codemirror_mode": {
    "name": "ipython",
    "version": 3
   },
   "file_extension": ".py",
   "mimetype": "text/x-python",
   "name": "python",
   "nbconvert_exporter": "python",
   "pygments_lexer": "ipython3",
   "version": "3.9.7"
  }
 },
 "nbformat": 4,
 "nbformat_minor": 5
}
