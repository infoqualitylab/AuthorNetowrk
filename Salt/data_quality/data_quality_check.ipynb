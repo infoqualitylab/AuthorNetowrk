{
 "cells": [
  {
   "cell_type": "markdown",
   "id": "578ff7a7",
   "metadata": {},
   "source": [
    "## items to check\n",
    "\n",
    "- number of articles\n",
    "- number of authors\n",
    "- check under-splitting: different authors share the same id -- id labeling mistake\n",
    "- check over-splitting: the same author have different author_ids"
   ]
  },
  {
   "cell_type": "code",
   "execution_count": 34,
   "id": "cf209652",
   "metadata": {},
   "outputs": [],
   "source": [
    "import pandas as pd"
   ]
  },
  {
   "cell_type": "code",
   "execution_count": 19,
   "id": "d8966479",
   "metadata": {},
   "outputs": [],
   "source": [
    "my_data = pd.read_csv(\"C:\\\\Users\\\\yuanx\\\\Documents\\\\GitHub\\\\author_network_analysis\\\\Salt\\\\data\\\\salt_cont_author.csv\", \n",
    "                      na_values=\"NA\", encoding=\"UTF-8\")"
   ]
  },
  {
   "cell_type": "code",
   "execution_count": 35,
   "id": "fc8a3e69",
   "metadata": {},
   "outputs": [
    {
     "data": {
      "text/html": [
       "<div>\n",
       "<style scoped>\n",
       "    .dataframe tbody tr th:only-of-type {\n",
       "        vertical-align: middle;\n",
       "    }\n",
       "\n",
       "    .dataframe tbody tr th {\n",
       "        vertical-align: top;\n",
       "    }\n",
       "\n",
       "    .dataframe thead th {\n",
       "        text-align: right;\n",
       "    }\n",
       "</style>\n",
       "<table border=\"1\" class=\"dataframe\">\n",
       "  <thead>\n",
       "    <tr style=\"text-align: right;\">\n",
       "      <th></th>\n",
       "      <th>ID</th>\n",
       "      <th>title</th>\n",
       "      <th>author_given_name</th>\n",
       "      <th>author_surname</th>\n",
       "      <th>author_id</th>\n",
       "      <th>organizational_author</th>\n",
       "      <th>manual</th>\n",
       "    </tr>\n",
       "  </thead>\n",
       "  <tbody>\n",
       "    <tr>\n",
       "      <th>0</th>\n",
       "      <td>1</td>\n",
       "      <td>Systematic review of long term effects of advi...</td>\n",
       "      <td>Lee</td>\n",
       "      <td>Hooper</td>\n",
       "      <td>57202855325</td>\n",
       "      <td>NaN</td>\n",
       "      <td>False</td>\n",
       "    </tr>\n",
       "    <tr>\n",
       "      <th>1</th>\n",
       "      <td>1</td>\n",
       "      <td>Systematic review of long term effects of advi...</td>\n",
       "      <td>Christopher</td>\n",
       "      <td>Bartlett</td>\n",
       "      <td>57194377301</td>\n",
       "      <td>NaN</td>\n",
       "      <td>False</td>\n",
       "    </tr>\n",
       "    <tr>\n",
       "      <th>2</th>\n",
       "      <td>1</td>\n",
       "      <td>Systematic review of long term effects of advi...</td>\n",
       "      <td>George Davey</td>\n",
       "      <td>Smith</td>\n",
       "      <td>35354080500</td>\n",
       "      <td>NaN</td>\n",
       "      <td>False</td>\n",
       "    </tr>\n",
       "    <tr>\n",
       "      <th>3</th>\n",
       "      <td>1</td>\n",
       "      <td>Systematic review of long term effects of advi...</td>\n",
       "      <td>Shah</td>\n",
       "      <td>Ebrahim</td>\n",
       "      <td>7102093023</td>\n",
       "      <td>NaN</td>\n",
       "      <td>False</td>\n",
       "    </tr>\n",
       "    <tr>\n",
       "      <th>4</th>\n",
       "      <td>2</td>\n",
       "      <td>Reduced dietary salt for prevention of cardiov...</td>\n",
       "      <td>L.</td>\n",
       "      <td>Hooper</td>\n",
       "      <td>57202855325</td>\n",
       "      <td>NaN</td>\n",
       "      <td>False</td>\n",
       "    </tr>\n",
       "  </tbody>\n",
       "</table>\n",
       "</div>"
      ],
      "text/plain": [
       "   ID                                              title author_given_name  \\\n",
       "0   1  Systematic review of long term effects of advi...               Lee   \n",
       "1   1  Systematic review of long term effects of advi...       Christopher   \n",
       "2   1  Systematic review of long term effects of advi...      George Davey   \n",
       "3   1  Systematic review of long term effects of advi...              Shah   \n",
       "4   2  Reduced dietary salt for prevention of cardiov...                L.   \n",
       "\n",
       "  author_surname    author_id organizational_author  manual  \n",
       "0         Hooper  57202855325                   NaN   False  \n",
       "1       Bartlett  57194377301                   NaN   False  \n",
       "2          Smith  35354080500                   NaN   False  \n",
       "3        Ebrahim   7102093023                   NaN   False  \n",
       "4         Hooper  57202855325                   NaN   False  "
      ]
     },
     "execution_count": 35,
     "metadata": {},
     "output_type": "execute_result"
    }
   ],
   "source": [
    "my_data.head(5)"
   ]
  },
  {
   "cell_type": "code",
   "execution_count": 36,
   "id": "3538ca99",
   "metadata": {},
   "outputs": [
    {
     "data": {
      "text/plain": [
       "82"
      ]
     },
     "execution_count": 36,
     "metadata": {},
     "output_type": "execute_result"
    }
   ],
   "source": [
    "len(my_data.ID.sort_values().unique()) # total article 82"
   ]
  },
  {
   "cell_type": "code",
   "execution_count": 37,
   "id": "f26a7324",
   "metadata": {},
   "outputs": [
    {
     "data": {
      "text/plain": [
       "593"
      ]
     },
     "execution_count": 37,
     "metadata": {},
     "output_type": "execute_result"
    }
   ],
   "source": [
    "len(my_data.author_id.sort_values().unique()) # total authors 593"
   ]
  },
  {
   "cell_type": "markdown",
   "id": "837c6e8f",
   "metadata": {},
   "source": [
    "## Check under-splitting"
   ]
  },
  {
   "cell_type": "code",
   "execution_count": 38,
   "id": "fcbaa654",
   "metadata": {
    "scrolled": true
   },
   "outputs": [],
   "source": [
    "full_name = my_data.author_given_name + \" \" + my_data.author_surname\n",
    "name_id_df = pd.DataFrame(data = {'full_name': my_data.author_given_name + \" \" + my_data.author_surname,\n",
    "                                 'author_id': my_data.author_id})"
   ]
  },
  {
   "cell_type": "code",
   "execution_count": 43,
   "id": "e907ee91",
   "metadata": {},
   "outputs": [
    {
     "data": {
      "text/html": [
       "<div>\n",
       "<style scoped>\n",
       "    .dataframe tbody tr th:only-of-type {\n",
       "        vertical-align: middle;\n",
       "    }\n",
       "\n",
       "    .dataframe tbody tr th {\n",
       "        vertical-align: top;\n",
       "    }\n",
       "\n",
       "    .dataframe thead th {\n",
       "        text-align: right;\n",
       "    }\n",
       "</style>\n",
       "<table border=\"1\" class=\"dataframe\">\n",
       "  <thead>\n",
       "    <tr style=\"text-align: right;\">\n",
       "      <th></th>\n",
       "      <th>full_name</th>\n",
       "      <th>author_id</th>\n",
       "    </tr>\n",
       "  </thead>\n",
       "  <tbody>\n",
       "    <tr>\n",
       "      <th>0</th>\n",
       "      <td>Lee Hooper</td>\n",
       "      <td>57202855325</td>\n",
       "    </tr>\n",
       "    <tr>\n",
       "      <th>1</th>\n",
       "      <td>Christopher Bartlett</td>\n",
       "      <td>57194377301</td>\n",
       "    </tr>\n",
       "    <tr>\n",
       "      <th>2</th>\n",
       "      <td>George Davey Smith</td>\n",
       "      <td>35354080500</td>\n",
       "    </tr>\n",
       "    <tr>\n",
       "      <th>3</th>\n",
       "      <td>Shah Ebrahim</td>\n",
       "      <td>7102093023</td>\n",
       "    </tr>\n",
       "    <tr>\n",
       "      <th>4</th>\n",
       "      <td>L. Hooper</td>\n",
       "      <td>57202855325</td>\n",
       "    </tr>\n",
       "    <tr>\n",
       "      <th>...</th>\n",
       "      <td>...</td>\n",
       "      <td>...</td>\n",
       "    </tr>\n",
       "    <tr>\n",
       "      <th>778</th>\n",
       "      <td>Ivan Mills</td>\n",
       "      <td>108</td>\n",
       "    </tr>\n",
       "    <tr>\n",
       "      <th>779</th>\n",
       "      <td>Margo Woods</td>\n",
       "      <td>110</td>\n",
       "    </tr>\n",
       "    <tr>\n",
       "      <th>780</th>\n",
       "      <td>Elaine Blethen</td>\n",
       "      <td>112</td>\n",
       "    </tr>\n",
       "    <tr>\n",
       "      <th>781</th>\n",
       "      <td>Ann LaBrode</td>\n",
       "      <td>199</td>\n",
       "    </tr>\n",
       "    <tr>\n",
       "      <th>782</th>\n",
       "      <td>Andrea Dommeyer</td>\n",
       "      <td>107</td>\n",
       "    </tr>\n",
       "  </tbody>\n",
       "</table>\n",
       "<p>783 rows × 2 columns</p>\n",
       "</div>"
      ],
      "text/plain": [
       "                full_name    author_id\n",
       "0              Lee Hooper  57202855325\n",
       "1    Christopher Bartlett  57194377301\n",
       "2      George Davey Smith  35354080500\n",
       "3            Shah Ebrahim   7102093023\n",
       "4               L. Hooper  57202855325\n",
       "..                    ...          ...\n",
       "778            Ivan Mills          108\n",
       "779           Margo Woods          110\n",
       "780        Elaine Blethen          112\n",
       "781           Ann LaBrode          199\n",
       "782       Andrea Dommeyer          107\n",
       "\n",
       "[783 rows x 2 columns]"
      ]
     },
     "execution_count": 43,
     "metadata": {},
     "output_type": "execute_result"
    }
   ],
   "source": [
    "name_id_df"
   ]
  },
  {
   "cell_type": "code",
   "execution_count": 41,
   "id": "41ebf371",
   "metadata": {},
   "outputs": [
    {
     "data": {
      "text/plain": [
       "627"
      ]
     },
     "execution_count": 41,
     "metadata": {},
     "output_type": "execute_result"
    }
   ],
   "source": [
    "len(name_id_df.drop_duplicates())"
   ]
  },
  {
   "cell_type": "code",
   "execution_count": 56,
   "id": "8023e72c",
   "metadata": {},
   "outputs": [
    {
     "data": {
      "text/plain": [
       "627"
      ]
     },
     "execution_count": 56,
     "metadata": {},
     "output_type": "execute_result"
    }
   ],
   "source": [
    "len(name_id_df.drop_duplicates())"
   ]
  },
  {
   "cell_type": "code",
   "execution_count": null,
   "id": "33e4d33a",
   "metadata": {},
   "outputs": [],
   "source": [
    "check_df_1 = name_id_df.groupby(\"author_id\").count()\n",
    "check_df_1[check_df_1['full_name']>1].rename(columns={\"full_name\": \"no_of_names\"}).reset_index().merge(name_id_df, on='author_id').drop_duplicates().to_csv(\"under_splitting_checking.csv\", index=False)"
   ]
  },
  {
   "attachments": {},
   "cell_type": "markdown",
   "id": "5a4f6369",
   "metadata": {},
   "source": [
    "## Correct under-splitting\n",
    "\n",
    "Discovered two under-splitting: 32 and 33\n",
    "\n",
    "32\t3\tJeannie McKenzie  \n",
    "32\t3\tN. Carole Milas\n",
    "\n",
    "33\t3\tRobert W. Jeffery  \n",
    "33\t3\tMonica E. Yamamoto  \n",
    "\n",
    "33\t3\tMonica Yamamoto  \n",
    "\n",
    "### corrected them mannually  \n",
    "- Jeannie McKenzie change from 32 to 200  \n",
    "- Robert W. Jeffery change from 33 to 201"
   ]
  },
  {
   "cell_type": "markdown",
   "id": "a680ba8a",
   "metadata": {},
   "source": [
    "## Check over-splitting"
   ]
  },
  {
   "cell_type": "code",
   "execution_count": 57,
   "id": "95d16bd9",
   "metadata": {},
   "outputs": [],
   "source": [
    "check_df_2 = name_id_df.drop_duplicates().groupby(\"full_name\").count().sort_values(by='author_id', ascending=False)"
   ]
  },
  {
   "cell_type": "code",
   "execution_count": 58,
   "id": "3fb5d3e5",
   "metadata": {},
   "outputs": [],
   "source": [
    "check_df_2.rename(columns={\"author_id\": \"no_of_ids\"},inplace=True)"
   ]
  },
  {
   "cell_type": "code",
   "execution_count": 59,
   "id": "6d7e91ea",
   "metadata": {},
   "outputs": [
    {
     "data": {
      "text/html": [
       "<div>\n",
       "<style scoped>\n",
       "    .dataframe tbody tr th:only-of-type {\n",
       "        vertical-align: middle;\n",
       "    }\n",
       "\n",
       "    .dataframe tbody tr th {\n",
       "        vertical-align: top;\n",
       "    }\n",
       "\n",
       "    .dataframe thead th {\n",
       "        text-align: right;\n",
       "    }\n",
       "</style>\n",
       "<table border=\"1\" class=\"dataframe\">\n",
       "  <thead>\n",
       "    <tr style=\"text-align: right;\">\n",
       "      <th></th>\n",
       "      <th>full_name</th>\n",
       "      <th>no_of_ids</th>\n",
       "      <th>author_id</th>\n",
       "    </tr>\n",
       "  </thead>\n",
       "  <tbody>\n",
       "    <tr>\n",
       "      <th>0</th>\n",
       "      <td>George Davey Smith</td>\n",
       "      <td>2</td>\n",
       "      <td>35354080500</td>\n",
       "    </tr>\n",
       "    <tr>\n",
       "      <th>1</th>\n",
       "      <td>George Davey Smith</td>\n",
       "      <td>2</td>\n",
       "      <td>57220145221</td>\n",
       "    </tr>\n",
       "    <tr>\n",
       "      <th>2</th>\n",
       "      <td>Shah Ebrahim</td>\n",
       "      <td>2</td>\n",
       "      <td>7102093023</td>\n",
       "    </tr>\n",
       "    <tr>\n",
       "      <th>3</th>\n",
       "      <td>Shah Ebrahim</td>\n",
       "      <td>2</td>\n",
       "      <td>56500020000</td>\n",
       "    </tr>\n",
       "    <tr>\n",
       "      <th>4</th>\n",
       "      <td>Paul K. Whelton</td>\n",
       "      <td>2</td>\n",
       "      <td>7103041111</td>\n",
       "    </tr>\n",
       "    <tr>\n",
       "      <th>5</th>\n",
       "      <td>Paul K. Whelton</td>\n",
       "      <td>2</td>\n",
       "      <td>7102422991</td>\n",
       "    </tr>\n",
       "  </tbody>\n",
       "</table>\n",
       "</div>"
      ],
      "text/plain": [
       "            full_name  no_of_ids    author_id\n",
       "0  George Davey Smith          2  35354080500\n",
       "1  George Davey Smith          2  57220145221\n",
       "2        Shah Ebrahim          2   7102093023\n",
       "3        Shah Ebrahim          2  56500020000\n",
       "4     Paul K. Whelton          2   7103041111\n",
       "5     Paul K. Whelton          2   7102422991"
      ]
     },
     "execution_count": 59,
     "metadata": {},
     "output_type": "execute_result"
    }
   ],
   "source": [
    "check_df_2[check_df_2['no_of_ids']>1].reset_index().merge(name_id_df, on='full_name').drop_duplicates()"
   ]
  },
  {
   "cell_type": "markdown",
   "id": "eef4391c",
   "metadata": {},
   "source": [
    "## Over-splitting correction\n",
    "\n",
    "For each over splitting, replace the larger author_id with smallest author_id\n",
    "\n",
    "George Davey Smith: all 57220145221 to 35354080500  \n",
    "Sah Ebrahim: all 56500020000 to 7102093023  \n",
    "Paul K. Whelton: all 7102422991 to 7103041111\n",
    "\n"
   ]
  },
  {
   "cell_type": "markdown",
   "id": "6cfc113e",
   "metadata": {},
   "source": [
    "## Final check after corrections"
   ]
  },
  {
   "cell_type": "code",
   "execution_count": 60,
   "id": "bcf73520",
   "metadata": {},
   "outputs": [],
   "source": [
    "my_data = pd.read_csv(\"C:\\\\Users\\\\yuanx\\\\Documents\\\\GitHub\\\\author_network_analysis\\\\Salt\\\\data\\\\salt_cont_author.csv\", \n",
    "                      na_values=\"NA\", encoding=\"UTF-8\")\n",
    "\n",
    "full_name = my_data.author_given_name + \" \" + my_data.author_surname\n",
    "name_id_df = pd.DataFrame(data = {'full_name': my_data.author_given_name + \" \" + my_data.author_surname,\n",
    "                                 'author_id': my_data.author_id})"
   ]
  },
  {
   "cell_type": "code",
   "execution_count": 63,
   "id": "d0f6a233",
   "metadata": {},
   "outputs": [],
   "source": [
    "check_df_1 = name_id_df.groupby(\"author_id\").count()\n",
    "check_df_1[check_df_1['full_name']>1].rename(columns={\"full_name\": \"no_of_names\"}).reset_index().merge(name_id_df, on='author_id').drop_duplicates().to_csv(\"after_correction.csv\", index=False)"
   ]
  },
  {
   "cell_type": "code",
   "execution_count": 62,
   "id": "286eaaa1",
   "metadata": {},
   "outputs": [
    {
     "data": {
      "text/html": [
       "<div>\n",
       "<style scoped>\n",
       "    .dataframe tbody tr th:only-of-type {\n",
       "        vertical-align: middle;\n",
       "    }\n",
       "\n",
       "    .dataframe tbody tr th {\n",
       "        vertical-align: top;\n",
       "    }\n",
       "\n",
       "    .dataframe thead th {\n",
       "        text-align: right;\n",
       "    }\n",
       "</style>\n",
       "<table border=\"1\" class=\"dataframe\">\n",
       "  <thead>\n",
       "    <tr style=\"text-align: right;\">\n",
       "      <th></th>\n",
       "      <th>no_of_ids</th>\n",
       "      <th>full_name</th>\n",
       "      <th>author_id</th>\n",
       "    </tr>\n",
       "  </thead>\n",
       "  <tbody>\n",
       "  </tbody>\n",
       "</table>\n",
       "</div>"
      ],
      "text/plain": [
       "Empty DataFrame\n",
       "Columns: [no_of_ids, full_name, author_id]\n",
       "Index: []"
      ]
     },
     "execution_count": 62,
     "metadata": {},
     "output_type": "execute_result"
    }
   ],
   "source": [
    "check_df_2 = name_id_df.drop_duplicates().groupby(\"full_name\").count().sort_values(by='author_id', ascending=False)\n",
    "check_df_2.rename(columns={\"author_id\": \"no_of_ids\"},inplace=True)\n",
    "check_df_2[check_df_2['no_of_ids']>1].reset_index().merge(name_id_df, on='full_name').drop_duplicates()"
   ]
  },
  {
   "cell_type": "code",
   "execution_count": null,
   "id": "28d261f6",
   "metadata": {},
   "outputs": [],
   "source": []
  }
 ],
 "metadata": {
  "kernelspec": {
   "display_name": "Python 3 (ipykernel)",
   "language": "python",
   "name": "python3"
  },
  "language_info": {
   "codemirror_mode": {
    "name": "ipython",
    "version": 3
   },
   "file_extension": ".py",
   "mimetype": "text/x-python",
   "name": "python",
   "nbconvert_exporter": "python",
   "pygments_lexer": "ipython3",
   "version": "3.9.7"
  }
 },
 "nbformat": 4,
 "nbformat_minor": 5
}
