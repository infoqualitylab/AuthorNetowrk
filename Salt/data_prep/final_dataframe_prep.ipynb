{
 "cells": [
  {
   "cell_type": "code",
   "execution_count": 119,
   "id": "834a344e",
   "metadata": {},
   "outputs": [],
   "source": [
    "import pandas as pd\n",
    "import numpy as np"
   ]
  },
  {
   "cell_type": "code",
   "execution_count": 120,
   "id": "f69f7e8a",
   "metadata": {},
   "outputs": [],
   "source": [
    "# add article_list\n",
    "article_list = pd.read_csv(\"raw_data/Article_list.csv\")"
   ]
  },
  {
   "cell_type": "code",
   "execution_count": 121,
   "id": "d84eb644",
   "metadata": {},
   "outputs": [],
   "source": [
    "data = pd.read_csv('raw_data/salt_cont_auth_updated_hyper_tension.csv')"
   ]
  },
  {
   "cell_type": "code",
   "execution_count": 122,
   "id": "17d5a137",
   "metadata": {},
   "outputs": [
    {
     "data": {
      "text/plain": [
       "array([ 8, 10, 29, 32, 35, 36, 37, 44, 72], dtype=int64)"
      ]
     },
     "execution_count": 122,
     "metadata": {},
     "output_type": "execute_result"
    }
   ],
   "source": [
    "data.loc[data['manual']== True ,'ID'].sort_values().unique()"
   ]
  },
  {
   "cell_type": "markdown",
   "id": "c3cf248b",
   "metadata": {},
   "source": [
    "Note: Article 8, 10, 29, 32, 35, 36, 37, 44, and 72 are maunally scraped."
   ]
  },
  {
   "cell_type": "code",
   "execution_count": 123,
   "id": "a20645b1",
   "metadata": {},
   "outputs": [
    {
     "data": {
      "text/html": [
       "<div>\n",
       "<style scoped>\n",
       "    .dataframe tbody tr th:only-of-type {\n",
       "        vertical-align: middle;\n",
       "    }\n",
       "\n",
       "    .dataframe tbody tr th {\n",
       "        vertical-align: top;\n",
       "    }\n",
       "\n",
       "    .dataframe thead th {\n",
       "        text-align: right;\n",
       "    }\n",
       "</style>\n",
       "<table border=\"1\" class=\"dataframe\">\n",
       "  <thead>\n",
       "    <tr style=\"text-align: right;\">\n",
       "      <th></th>\n",
       "      <th>ID</th>\n",
       "      <th>title</th>\n",
       "      <th>author_given_name</th>\n",
       "      <th>author_surname</th>\n",
       "      <th>author_id</th>\n",
       "      <th>organizational_author</th>\n",
       "      <th>manual</th>\n",
       "    </tr>\n",
       "  </thead>\n",
       "  <tbody>\n",
       "    <tr>\n",
       "      <th>0</th>\n",
       "      <td>6</td>\n",
       "      <td>Reduced dietary salt for the prevention of car...</td>\n",
       "      <td>Rod S.</td>\n",
       "      <td>Taylor</td>\n",
       "      <td>55628530729</td>\n",
       "      <td>NaN</td>\n",
       "      <td>False</td>\n",
       "    </tr>\n",
       "    <tr>\n",
       "      <th>1</th>\n",
       "      <td>6</td>\n",
       "      <td>Reduced dietary salt for the prevention of car...</td>\n",
       "      <td>Kate E.</td>\n",
       "      <td>Ashton</td>\n",
       "      <td>26644694600</td>\n",
       "      <td>NaN</td>\n",
       "      <td>False</td>\n",
       "    </tr>\n",
       "    <tr>\n",
       "      <th>2</th>\n",
       "      <td>6</td>\n",
       "      <td>Reduced dietary salt for the prevention of car...</td>\n",
       "      <td>Tiffany</td>\n",
       "      <td>Moxham</td>\n",
       "      <td>26657630700</td>\n",
       "      <td>NaN</td>\n",
       "      <td>False</td>\n",
       "    </tr>\n",
       "    <tr>\n",
       "      <th>3</th>\n",
       "      <td>6</td>\n",
       "      <td>Reduced dietary salt for the prevention of car...</td>\n",
       "      <td>Lee</td>\n",
       "      <td>Hooper</td>\n",
       "      <td>57202855325</td>\n",
       "      <td>NaN</td>\n",
       "      <td>False</td>\n",
       "    </tr>\n",
       "    <tr>\n",
       "      <th>4</th>\n",
       "      <td>6</td>\n",
       "      <td>Reduced dietary salt for the prevention of car...</td>\n",
       "      <td>Shah</td>\n",
       "      <td>Ebrahim</td>\n",
       "      <td>56500020000</td>\n",
       "      <td>NaN</td>\n",
       "      <td>False</td>\n",
       "    </tr>\n",
       "  </tbody>\n",
       "</table>\n",
       "</div>"
      ],
      "text/plain": [
       "   ID                                              title author_given_name  \\\n",
       "0   6  Reduced dietary salt for the prevention of car...            Rod S.   \n",
       "1   6  Reduced dietary salt for the prevention of car...           Kate E.   \n",
       "2   6  Reduced dietary salt for the prevention of car...           Tiffany   \n",
       "3   6  Reduced dietary salt for the prevention of car...               Lee   \n",
       "4   6  Reduced dietary salt for the prevention of car...              Shah   \n",
       "\n",
       "  author_surname    author_id  organizational_author  manual  \n",
       "0         Taylor  55628530729                    NaN   False  \n",
       "1         Ashton  26644694600                    NaN   False  \n",
       "2         Moxham  26657630700                    NaN   False  \n",
       "3         Hooper  57202855325                    NaN   False  \n",
       "4        Ebrahim  56500020000                    NaN   False  "
      ]
     },
     "execution_count": 123,
     "metadata": {},
     "output_type": "execute_result"
    }
   ],
   "source": [
    "# prepare the two output for concatenation\n",
    "output_2 = pd.read_csv(\"raw_data/output_doi_2022-03-08-09-42-05.csv\")\n",
    "output_2 = article_list[['ID', 'Title']].merge(output_2, on='ID')\n",
    "output_2.rename(columns={\"Title\":\"title\"},inplace=True)\n",
    "output_2.head(5)\n",
    "output_2['organizational_author'] = np.nan\n",
    "output_2['manual'] = False\n",
    "output_2.head(5)"
   ]
  },
  {
   "cell_type": "code",
   "execution_count": 124,
   "id": "05131b6c",
   "metadata": {},
   "outputs": [
    {
     "data": {
      "text/html": [
       "<div>\n",
       "<style scoped>\n",
       "    .dataframe tbody tr th:only-of-type {\n",
       "        vertical-align: middle;\n",
       "    }\n",
       "\n",
       "    .dataframe tbody tr th {\n",
       "        vertical-align: top;\n",
       "    }\n",
       "\n",
       "    .dataframe thead th {\n",
       "        text-align: right;\n",
       "    }\n",
       "</style>\n",
       "<table border=\"1\" class=\"dataframe\">\n",
       "  <thead>\n",
       "    <tr style=\"text-align: right;\">\n",
       "      <th></th>\n",
       "      <th>ID</th>\n",
       "      <th>title</th>\n",
       "      <th>author_given_name</th>\n",
       "      <th>author_surname</th>\n",
       "      <th>author_id</th>\n",
       "      <th>organizational_author</th>\n",
       "      <th>manual</th>\n",
       "    </tr>\n",
       "  </thead>\n",
       "  <tbody>\n",
       "    <tr>\n",
       "      <th>0</th>\n",
       "      <td>1</td>\n",
       "      <td>Systematic review of long term effects of advi...</td>\n",
       "      <td>Lee</td>\n",
       "      <td>Hooper</td>\n",
       "      <td>57202855325</td>\n",
       "      <td>NaN</td>\n",
       "      <td>False</td>\n",
       "    </tr>\n",
       "    <tr>\n",
       "      <th>1</th>\n",
       "      <td>1</td>\n",
       "      <td>Systematic review of long term effects of advi...</td>\n",
       "      <td>Christopher</td>\n",
       "      <td>Bartlett</td>\n",
       "      <td>57194377301</td>\n",
       "      <td>NaN</td>\n",
       "      <td>False</td>\n",
       "    </tr>\n",
       "    <tr>\n",
       "      <th>2</th>\n",
       "      <td>1</td>\n",
       "      <td>Systematic review of long term effects of advi...</td>\n",
       "      <td>George Davey</td>\n",
       "      <td>Smith</td>\n",
       "      <td>35354080500</td>\n",
       "      <td>NaN</td>\n",
       "      <td>False</td>\n",
       "    </tr>\n",
       "    <tr>\n",
       "      <th>3</th>\n",
       "      <td>1</td>\n",
       "      <td>Systematic review of long term effects of advi...</td>\n",
       "      <td>Shah</td>\n",
       "      <td>Ebrahim</td>\n",
       "      <td>7102093023</td>\n",
       "      <td>NaN</td>\n",
       "      <td>False</td>\n",
       "    </tr>\n",
       "    <tr>\n",
       "      <th>4</th>\n",
       "      <td>2</td>\n",
       "      <td>Reduced dietary salt for prevention of cardiov...</td>\n",
       "      <td>L.</td>\n",
       "      <td>Hooper</td>\n",
       "      <td>57202855325</td>\n",
       "      <td>NaN</td>\n",
       "      <td>False</td>\n",
       "    </tr>\n",
       "  </tbody>\n",
       "</table>\n",
       "</div>"
      ],
      "text/plain": [
       "   ID                                              title author_given_name  \\\n",
       "0   1  Systematic review of long term effects of advi...               Lee   \n",
       "1   1  Systematic review of long term effects of advi...       Christopher   \n",
       "2   1  Systematic review of long term effects of advi...      George Davey   \n",
       "3   1  Systematic review of long term effects of advi...              Shah   \n",
       "4   2  Reduced dietary salt for prevention of cardiov...                L.   \n",
       "\n",
       "  author_surname    author_id  organizational_author  manual  \n",
       "0         Hooper  57202855325                    NaN   False  \n",
       "1       Bartlett  57194377301                    NaN   False  \n",
       "2          Smith  35354080500                    NaN   False  \n",
       "3        Ebrahim   7102093023                    NaN   False  \n",
       "4         Hooper  57202855325                    NaN   False  "
      ]
     },
     "execution_count": 124,
     "metadata": {},
     "output_type": "execute_result"
    }
   ],
   "source": [
    "output_1 = pd.read_csv(\"raw_data/output_2022-03-07-16-43-10.csv\")\n",
    "output_1.drop(columns=[\"scp_title\",\"title_match(true/false)\"], inplace=True)\n",
    "index_to_remove = output_1.index[output_1.ID.isin(list(output_2.ID.sort_values().unique()))]\n",
    "output_1.drop(index = index_to_remove, axis=0,inplace=True)\n",
    "output_1['organizational_author'] = np.nan\n",
    "output_1['manual'] = False\n",
    "output_1.rename(columns={\"original_title\":'title'}, inplace=True)\n",
    "output_1.head(5)"
   ]
  },
  {
   "cell_type": "code",
   "execution_count": 125,
   "id": "e541027f",
   "metadata": {},
   "outputs": [],
   "source": [
    "# concatenate two dataframes\n",
    "final_output = pd.concat([output_1,output_2],axis=0)"
   ]
  },
  {
   "cell_type": "code",
   "execution_count": 126,
   "id": "51cd21a0",
   "metadata": {},
   "outputs": [],
   "source": [
    "# prepare the concatenate the manually retrieved data\n",
    "manual_data = data[data['manual']].copy()\n",
    "manual_data.rename(columns={\"original_title\": \"title\"},inplace=True)"
   ]
  },
  {
   "cell_type": "code",
   "execution_count": 127,
   "id": "9706b1e1",
   "metadata": {},
   "outputs": [],
   "source": [
    "# final concatenation\n",
    "final_dataframe = pd.concat([final_output,manual_data],axis=0)"
   ]
  },
  {
   "cell_type": "code",
   "execution_count": 128,
   "id": "642dde2d",
   "metadata": {},
   "outputs": [
    {
     "data": {
      "text/plain": [
       "array([ 1,  2,  3,  4,  5,  6,  7,  8,  9, 10, 11, 12, 13, 14, 26, 27, 28,\n",
       "       29, 30, 31, 32, 33, 34, 35, 36, 37, 38, 39, 40, 41, 42, 43, 44, 45,\n",
       "       46, 47, 48, 49, 50, 51, 52, 53, 54, 55, 56, 57, 58, 59, 60, 61, 62,\n",
       "       63, 64, 65, 66, 67, 68, 69, 70, 71, 72, 73, 74, 75, 76, 77, 78, 79,\n",
       "       80, 81, 82, 83, 84, 85, 86, 87, 88, 89, 90, 91, 92, 93],\n",
       "      dtype=int64)"
      ]
     },
     "execution_count": 128,
     "metadata": {},
     "output_type": "execute_result"
    }
   ],
   "source": [
    "final_dataframe.ID.sort_values().unique()"
   ]
  },
  {
   "cell_type": "code",
   "execution_count": 129,
   "id": "3ce854b1",
   "metadata": {},
   "outputs": [
    {
     "data": {
      "text/plain": [
       "82"
      ]
     },
     "execution_count": 129,
     "metadata": {},
     "output_type": "execute_result"
    }
   ],
   "source": [
    "len(final_dataframe.ID.sort_values().unique())"
   ]
  },
  {
   "cell_type": "code",
   "execution_count": 130,
   "id": "43306dfd",
   "metadata": {},
   "outputs": [],
   "source": [
    "final_dataframe.to_csv(\"salt_cont_author.csv\",index=False, encoding='UTF-8')"
   ]
  }
 ],
 "metadata": {
  "kernelspec": {
   "display_name": "Python 3 (ipykernel)",
   "language": "python",
   "name": "python3"
  },
  "language_info": {
   "codemirror_mode": {
    "name": "ipython",
    "version": 3
   },
   "file_extension": ".py",
   "mimetype": "text/x-python",
   "name": "python",
   "nbconvert_exporter": "python",
   "pygments_lexer": "ipython3",
   "version": "3.7.11"
  }
 },
 "nbformat": 4,
 "nbformat_minor": 5
}
