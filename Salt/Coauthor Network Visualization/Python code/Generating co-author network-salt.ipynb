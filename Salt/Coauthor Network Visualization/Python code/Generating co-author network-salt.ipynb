{
 "cells": [
  {
   "cell_type": "code",
   "execution_count": 1,
   "id": "4b1c1aac",
   "metadata": {},
   "outputs": [],
   "source": [
    "import pandas as pd\n",
    "import os\n",
    "import networkx as nx\n",
    "import itertools\n",
    "from netwulf import visualize\n",
    "import netwulf as nw\n",
    "from collections import Counter\n",
    "import matplotlib.pyplot as plt"
   ]
  },
  {
   "cell_type": "code",
   "execution_count": 2,
   "id": "ac32b145",
   "metadata": {
    "scrolled": true
   },
   "outputs": [],
   "source": [
    "author_df = pd.read_csv(\"C:\\\\Users\\\\mansj\\\\IQL\\\\salt\\\\data\\\\salt_cont_author.csv\")"
   ]
  },
  {
   "cell_type": "markdown",
   "id": "536b08d4",
   "metadata": {},
   "source": [
    "#### Add column full_name "
   ]
  },
  {
   "cell_type": "code",
   "execution_count": 3,
   "id": "a53a5335",
   "metadata": {
    "scrolled": true
   },
   "outputs": [
    {
     "data": {
      "text/html": [
       "<div>\n",
       "<style scoped>\n",
       "    .dataframe tbody tr th:only-of-type {\n",
       "        vertical-align: middle;\n",
       "    }\n",
       "\n",
       "    .dataframe tbody tr th {\n",
       "        vertical-align: top;\n",
       "    }\n",
       "\n",
       "    .dataframe thead th {\n",
       "        text-align: right;\n",
       "    }\n",
       "</style>\n",
       "<table border=\"1\" class=\"dataframe\">\n",
       "  <thead>\n",
       "    <tr style=\"text-align: right;\">\n",
       "      <th></th>\n",
       "      <th>ID</th>\n",
       "      <th>title</th>\n",
       "      <th>author_given_name</th>\n",
       "      <th>author_surname</th>\n",
       "      <th>author_id</th>\n",
       "      <th>organizational_author</th>\n",
       "      <th>manual</th>\n",
       "      <th>full_name</th>\n",
       "    </tr>\n",
       "  </thead>\n",
       "  <tbody>\n",
       "    <tr>\n",
       "      <th>0</th>\n",
       "      <td>1</td>\n",
       "      <td>Systematic review of long term effects of advi...</td>\n",
       "      <td>Lee</td>\n",
       "      <td>Hooper</td>\n",
       "      <td>57202855325</td>\n",
       "      <td>NaN</td>\n",
       "      <td>False</td>\n",
       "      <td>Lee Hooper</td>\n",
       "    </tr>\n",
       "    <tr>\n",
       "      <th>1</th>\n",
       "      <td>1</td>\n",
       "      <td>Systematic review of long term effects of advi...</td>\n",
       "      <td>Christopher</td>\n",
       "      <td>Bartlett</td>\n",
       "      <td>57194377301</td>\n",
       "      <td>NaN</td>\n",
       "      <td>False</td>\n",
       "      <td>Christopher Bartlett</td>\n",
       "    </tr>\n",
       "    <tr>\n",
       "      <th>2</th>\n",
       "      <td>1</td>\n",
       "      <td>Systematic review of long term effects of advi...</td>\n",
       "      <td>George Davey</td>\n",
       "      <td>Smith</td>\n",
       "      <td>35354080500</td>\n",
       "      <td>NaN</td>\n",
       "      <td>False</td>\n",
       "      <td>George Davey Smith</td>\n",
       "    </tr>\n",
       "    <tr>\n",
       "      <th>3</th>\n",
       "      <td>1</td>\n",
       "      <td>Systematic review of long term effects of advi...</td>\n",
       "      <td>Shah</td>\n",
       "      <td>Ebrahim</td>\n",
       "      <td>7102093023</td>\n",
       "      <td>NaN</td>\n",
       "      <td>False</td>\n",
       "      <td>Shah Ebrahim</td>\n",
       "    </tr>\n",
       "    <tr>\n",
       "      <th>4</th>\n",
       "      <td>2</td>\n",
       "      <td>Reduced dietary salt for prevention of cardiov...</td>\n",
       "      <td>L.</td>\n",
       "      <td>Hooper</td>\n",
       "      <td>57202855325</td>\n",
       "      <td>NaN</td>\n",
       "      <td>False</td>\n",
       "      <td>L. Hooper</td>\n",
       "    </tr>\n",
       "  </tbody>\n",
       "</table>\n",
       "</div>"
      ],
      "text/plain": [
       "   ID                                              title author_given_name  \\\n",
       "0   1  Systematic review of long term effects of advi...               Lee   \n",
       "1   1  Systematic review of long term effects of advi...       Christopher   \n",
       "2   1  Systematic review of long term effects of advi...      George Davey   \n",
       "3   1  Systematic review of long term effects of advi...              Shah   \n",
       "4   2  Reduced dietary salt for prevention of cardiov...                L.   \n",
       "\n",
       "  author_surname    author_id organizational_author  manual  \\\n",
       "0         Hooper  57202855325                   NaN   False   \n",
       "1       Bartlett  57194377301                   NaN   False   \n",
       "2          Smith  35354080500                   NaN   False   \n",
       "3        Ebrahim   7102093023                   NaN   False   \n",
       "4         Hooper  57202855325                   NaN   False   \n",
       "\n",
       "              full_name  \n",
       "0            Lee Hooper  \n",
       "1  Christopher Bartlett  \n",
       "2    George Davey Smith  \n",
       "3          Shah Ebrahim  \n",
       "4             L. Hooper  "
      ]
     },
     "execution_count": 3,
     "metadata": {},
     "output_type": "execute_result"
    }
   ],
   "source": [
    "author_df[\"full_name\"] = author_df['author_given_name'] + \" \" + author_df['author_surname'].fillna('')\n",
    "author_df.head()"
   ]
  },
  {
   "cell_type": "markdown",
   "id": "e86d60f3",
   "metadata": {},
   "source": [
    "#### Author with same id have different names"
   ]
  },
  {
   "cell_type": "code",
   "execution_count": 4,
   "id": "87a11a35",
   "metadata": {},
   "outputs": [
    {
     "data": {
      "text/html": [
       "<div>\n",
       "<style scoped>\n",
       "    .dataframe tbody tr th:only-of-type {\n",
       "        vertical-align: middle;\n",
       "    }\n",
       "\n",
       "    .dataframe tbody tr th {\n",
       "        vertical-align: top;\n",
       "    }\n",
       "\n",
       "    .dataframe thead th {\n",
       "        text-align: right;\n",
       "    }\n",
       "</style>\n",
       "<table border=\"1\" class=\"dataframe\">\n",
       "  <thead>\n",
       "    <tr style=\"text-align: right;\">\n",
       "      <th></th>\n",
       "      <th>ID</th>\n",
       "      <th>title</th>\n",
       "      <th>author_given_name</th>\n",
       "      <th>author_surname</th>\n",
       "      <th>author_id</th>\n",
       "      <th>organizational_author</th>\n",
       "      <th>manual</th>\n",
       "      <th>full_name</th>\n",
       "    </tr>\n",
       "  </thead>\n",
       "  <tbody>\n",
       "    <tr>\n",
       "      <th>0</th>\n",
       "      <td>1</td>\n",
       "      <td>Systematic review of long term effects of advi...</td>\n",
       "      <td>Lee</td>\n",
       "      <td>Hooper</td>\n",
       "      <td>57202855325</td>\n",
       "      <td>NaN</td>\n",
       "      <td>False</td>\n",
       "      <td>Lee Hooper</td>\n",
       "    </tr>\n",
       "    <tr>\n",
       "      <th>4</th>\n",
       "      <td>2</td>\n",
       "      <td>Reduced dietary salt for prevention of cardiov...</td>\n",
       "      <td>L.</td>\n",
       "      <td>Hooper</td>\n",
       "      <td>57202855325</td>\n",
       "      <td>NaN</td>\n",
       "      <td>False</td>\n",
       "      <td>L. Hooper</td>\n",
       "    </tr>\n",
       "    <tr>\n",
       "      <th>8</th>\n",
       "      <td>3</td>\n",
       "      <td>Advice to reduce dietary salt for prevention o...</td>\n",
       "      <td>Lee</td>\n",
       "      <td>Hooper</td>\n",
       "      <td>57202855325</td>\n",
       "      <td>NaN</td>\n",
       "      <td>False</td>\n",
       "      <td>Lee Hooper</td>\n",
       "    </tr>\n",
       "    <tr>\n",
       "      <th>19</th>\n",
       "      <td>5</td>\n",
       "      <td>Reduced dietary salt for the prevention of car...</td>\n",
       "      <td>Lee</td>\n",
       "      <td>Hooper</td>\n",
       "      <td>57202855325</td>\n",
       "      <td>NaN</td>\n",
       "      <td>False</td>\n",
       "      <td>Lee Hooper</td>\n",
       "    </tr>\n",
       "    <tr>\n",
       "      <th>27</th>\n",
       "      <td>9</td>\n",
       "      <td>Effect of lower sodium intake on health: syste...</td>\n",
       "      <td>Lee</td>\n",
       "      <td>Hooper</td>\n",
       "      <td>57202855325</td>\n",
       "      <td>NaN</td>\n",
       "      <td>False</td>\n",
       "      <td>Lee Hooper</td>\n",
       "    </tr>\n",
       "    <tr>\n",
       "      <th>449</th>\n",
       "      <td>6</td>\n",
       "      <td>Reduced dietary salt for the prevention of car...</td>\n",
       "      <td>Lee</td>\n",
       "      <td>Hooper</td>\n",
       "      <td>57202855325</td>\n",
       "      <td>NaN</td>\n",
       "      <td>False</td>\n",
       "      <td>Lee Hooper</td>\n",
       "    </tr>\n",
       "  </tbody>\n",
       "</table>\n",
       "</div>"
      ],
      "text/plain": [
       "     ID                                              title author_given_name  \\\n",
       "0     1  Systematic review of long term effects of advi...               Lee   \n",
       "4     2  Reduced dietary salt for prevention of cardiov...                L.   \n",
       "8     3  Advice to reduce dietary salt for prevention o...               Lee   \n",
       "19    5  Reduced dietary salt for the prevention of car...               Lee   \n",
       "27    9  Effect of lower sodium intake on health: syste...               Lee   \n",
       "449   6  Reduced dietary salt for the prevention of car...               Lee   \n",
       "\n",
       "    author_surname    author_id organizational_author  manual   full_name  \n",
       "0           Hooper  57202855325                   NaN   False  Lee Hooper  \n",
       "4           Hooper  57202855325                   NaN   False   L. Hooper  \n",
       "8           Hooper  57202855325                   NaN   False  Lee Hooper  \n",
       "19          Hooper  57202855325                   NaN   False  Lee Hooper  \n",
       "27          Hooper  57202855325                   NaN   False  Lee Hooper  \n",
       "449         Hooper  57202855325                   NaN   False  Lee Hooper  "
      ]
     },
     "execution_count": 4,
     "metadata": {},
     "output_type": "execute_result"
    }
   ],
   "source": [
    "author_df[author_df.author_id == 57202855325]"
   ]
  },
  {
   "cell_type": "markdown",
   "id": "4f867166",
   "metadata": {},
   "source": [
    "#### Grouping on author_id to get the different author names"
   ]
  },
  {
   "cell_type": "code",
   "execution_count": 5,
   "id": "f0bddb48",
   "metadata": {},
   "outputs": [
    {
     "data": {
      "text/plain": [
       "full_name    [Lee Hooper, L. Hooper, Lee Hooper, Lee Hooper...\n",
       "Name: 57202855325, dtype: object"
      ]
     },
     "execution_count": 5,
     "metadata": {},
     "output_type": "execute_result"
    }
   ],
   "source": [
    "list_authors  = pd.DataFrame(author_df.groupby('author_id')['full_name'].apply(list))\n",
    "list_authors.loc[57202855325]"
   ]
  },
  {
   "cell_type": "markdown",
   "id": "c0594706",
   "metadata": {},
   "source": [
    "#### Convert it to a list and then to a dictionary to replace the author names with one common name\n"
   ]
  },
  {
   "cell_type": "code",
   "execution_count": 6,
   "id": "7bbd694d",
   "metadata": {},
   "outputs": [],
   "source": [
    "auth_list = list_authors.full_name.to_list()\n",
    "\n",
    "auth_dict = dict()\n",
    "\n",
    "for i in auth_list:\n",
    "    i = list(set(i))\n",
    "    if len(i) > 1:\n",
    "        auth_dict[i[0]] = i[1:]\n",
    "\n",
    "#### Function replaces the names of author with same id with the selected key in the dictionary\n",
    "def replace(auth_name, final_dict):\n",
    "    for k, v in final_dict.items():\n",
    "        if auth_name in v:\n",
    "            auth_name = k\n",
    "            \n",
    "    return auth_name\n",
    "    \n",
    "\n",
    "author_df.full_name = author_df.full_name.apply(lambda x : replace (x, auth_dict))"
   ]
  },
  {
   "cell_type": "markdown",
   "id": "2b478f30",
   "metadata": {},
   "source": [
    "#### Check if the author names are changed to one name"
   ]
  },
  {
   "cell_type": "code",
   "execution_count": 7,
   "id": "f24ac04c",
   "metadata": {},
   "outputs": [
    {
     "data": {
      "text/html": [
       "<div>\n",
       "<style scoped>\n",
       "    .dataframe tbody tr th:only-of-type {\n",
       "        vertical-align: middle;\n",
       "    }\n",
       "\n",
       "    .dataframe tbody tr th {\n",
       "        vertical-align: top;\n",
       "    }\n",
       "\n",
       "    .dataframe thead th {\n",
       "        text-align: right;\n",
       "    }\n",
       "</style>\n",
       "<table border=\"1\" class=\"dataframe\">\n",
       "  <thead>\n",
       "    <tr style=\"text-align: right;\">\n",
       "      <th></th>\n",
       "      <th>ID</th>\n",
       "      <th>title</th>\n",
       "      <th>author_given_name</th>\n",
       "      <th>author_surname</th>\n",
       "      <th>author_id</th>\n",
       "      <th>organizational_author</th>\n",
       "      <th>manual</th>\n",
       "      <th>full_name</th>\n",
       "    </tr>\n",
       "  </thead>\n",
       "  <tbody>\n",
       "    <tr>\n",
       "      <th>0</th>\n",
       "      <td>1</td>\n",
       "      <td>Systematic review of long term effects of advi...</td>\n",
       "      <td>Lee</td>\n",
       "      <td>Hooper</td>\n",
       "      <td>57202855325</td>\n",
       "      <td>NaN</td>\n",
       "      <td>False</td>\n",
       "      <td>L. Hooper</td>\n",
       "    </tr>\n",
       "    <tr>\n",
       "      <th>4</th>\n",
       "      <td>2</td>\n",
       "      <td>Reduced dietary salt for prevention of cardiov...</td>\n",
       "      <td>L.</td>\n",
       "      <td>Hooper</td>\n",
       "      <td>57202855325</td>\n",
       "      <td>NaN</td>\n",
       "      <td>False</td>\n",
       "      <td>L. Hooper</td>\n",
       "    </tr>\n",
       "    <tr>\n",
       "      <th>8</th>\n",
       "      <td>3</td>\n",
       "      <td>Advice to reduce dietary salt for prevention o...</td>\n",
       "      <td>Lee</td>\n",
       "      <td>Hooper</td>\n",
       "      <td>57202855325</td>\n",
       "      <td>NaN</td>\n",
       "      <td>False</td>\n",
       "      <td>L. Hooper</td>\n",
       "    </tr>\n",
       "    <tr>\n",
       "      <th>19</th>\n",
       "      <td>5</td>\n",
       "      <td>Reduced dietary salt for the prevention of car...</td>\n",
       "      <td>Lee</td>\n",
       "      <td>Hooper</td>\n",
       "      <td>57202855325</td>\n",
       "      <td>NaN</td>\n",
       "      <td>False</td>\n",
       "      <td>L. Hooper</td>\n",
       "    </tr>\n",
       "    <tr>\n",
       "      <th>27</th>\n",
       "      <td>9</td>\n",
       "      <td>Effect of lower sodium intake on health: syste...</td>\n",
       "      <td>Lee</td>\n",
       "      <td>Hooper</td>\n",
       "      <td>57202855325</td>\n",
       "      <td>NaN</td>\n",
       "      <td>False</td>\n",
       "      <td>L. Hooper</td>\n",
       "    </tr>\n",
       "    <tr>\n",
       "      <th>449</th>\n",
       "      <td>6</td>\n",
       "      <td>Reduced dietary salt for the prevention of car...</td>\n",
       "      <td>Lee</td>\n",
       "      <td>Hooper</td>\n",
       "      <td>57202855325</td>\n",
       "      <td>NaN</td>\n",
       "      <td>False</td>\n",
       "      <td>L. Hooper</td>\n",
       "    </tr>\n",
       "  </tbody>\n",
       "</table>\n",
       "</div>"
      ],
      "text/plain": [
       "     ID                                              title author_given_name  \\\n",
       "0     1  Systematic review of long term effects of advi...               Lee   \n",
       "4     2  Reduced dietary salt for prevention of cardiov...                L.   \n",
       "8     3  Advice to reduce dietary salt for prevention o...               Lee   \n",
       "19    5  Reduced dietary salt for the prevention of car...               Lee   \n",
       "27    9  Effect of lower sodium intake on health: syste...               Lee   \n",
       "449   6  Reduced dietary salt for the prevention of car...               Lee   \n",
       "\n",
       "    author_surname    author_id organizational_author  manual  full_name  \n",
       "0           Hooper  57202855325                   NaN   False  L. Hooper  \n",
       "4           Hooper  57202855325                   NaN   False  L. Hooper  \n",
       "8           Hooper  57202855325                   NaN   False  L. Hooper  \n",
       "19          Hooper  57202855325                   NaN   False  L. Hooper  \n",
       "27          Hooper  57202855325                   NaN   False  L. Hooper  \n",
       "449         Hooper  57202855325                   NaN   False  L. Hooper  "
      ]
     },
     "execution_count": 7,
     "metadata": {},
     "output_type": "execute_result"
    }
   ],
   "source": [
    "\n",
    "author_df[author_df.author_id == 57202855325]"
   ]
  },
  {
   "cell_type": "markdown",
   "id": "ff5fd31c",
   "metadata": {},
   "source": [
    "#### Check if the author with same id are replaced with a common name"
   ]
  },
  {
   "cell_type": "code",
   "execution_count": 8,
   "id": "2b287c38",
   "metadata": {},
   "outputs": [
    {
     "data": {
      "text/html": [
       "<div>\n",
       "<style scoped>\n",
       "    .dataframe tbody tr th:only-of-type {\n",
       "        vertical-align: middle;\n",
       "    }\n",
       "\n",
       "    .dataframe tbody tr th {\n",
       "        vertical-align: top;\n",
       "    }\n",
       "\n",
       "    .dataframe thead th {\n",
       "        text-align: right;\n",
       "    }\n",
       "</style>\n",
       "<table border=\"1\" class=\"dataframe\">\n",
       "  <thead>\n",
       "    <tr style=\"text-align: right;\">\n",
       "      <th></th>\n",
       "      <th>author_id</th>\n",
       "      <th>full_name_x</th>\n",
       "      <th>full_name_y</th>\n",
       "    </tr>\n",
       "  </thead>\n",
       "  <tbody>\n",
       "  </tbody>\n",
       "</table>\n",
       "</div>"
      ],
      "text/plain": [
       "Empty DataFrame\n",
       "Columns: [author_id, full_name_x, full_name_y]\n",
       "Index: []"
      ]
     },
     "execution_count": 8,
     "metadata": {},
     "output_type": "execute_result"
    }
   ],
   "source": [
    "id_df_1 = author_df[['author_id','full_name']]\n",
    "merged_df_1 = id_df_1.merge(id_df_1, how='left', left_on='author_id', right_on='author_id')\n",
    "auth_dict_1= merged_df_1[merged_df_1['full_name_x'] != merged_df_1['full_name_y']]\n",
    "auth_dict_1"
   ]
  },
  {
   "cell_type": "code",
   "execution_count": 9,
   "id": "ddb37aa8",
   "metadata": {},
   "outputs": [],
   "source": [
    "# Create the nodes and edges of the graph from the given dataframe by grouping on the paper ID\n",
    "G = nx.Graph()\n",
    "edges = pd.DataFrame(author_df.groupby('ID')['full_name'].apply(list))['full_name'].to_list()"
   ]
  },
  {
   "cell_type": "code",
   "execution_count": 10,
   "id": "f1f120b7",
   "metadata": {},
   "outputs": [],
   "source": [
    "# Counting the number of times the two authors have worked together on a paper\n",
    "new  = []\n",
    "for i in edges:\n",
    "    if len(i) >= 2:\n",
    "        for subset in itertools.combinations(i,2):\n",
    "            if len(subset) == 2:\n",
    "                new.append(subset)\n",
    "sorted_list = []\n",
    "for i in new:\n",
    "    sorted_list.append(tuple(sorted(list(i))))\n",
    "    \n",
    "count_auth = Counter(sorted_list)"
   ]
  },
  {
   "cell_type": "code",
   "execution_count": 11,
   "id": "684d0cd2",
   "metadata": {},
   "outputs": [],
   "source": [
    "# Adding the edges to the graph with the weights (number of times the authors have worked together)\n",
    "for k, v in count_auth.items():\n",
    "    G.add_edge(k[0], k[1],  weight = v,  length = v)\n",
    "G.remove_nodes_from(list(nx.isolates(G)))"
   ]
  },
  {
   "cell_type": "markdown",
   "id": "da0870e4",
   "metadata": {},
   "source": [
    "### Visualized with the help of netwulf. The network data tuned by the visualization is posted back to Python. \n",
    "- The visualization function returns two dictionaries.\n",
    "1. the first containing information about the stylized network.\n",
    "2. The second containing information about the visualization control configuration which can be used to reproduce the same visualization.\n"
   ]
  },
  {
   "cell_type": "code",
   "execution_count": 40,
   "id": "47c48b93",
   "metadata": {
    "scrolled": true
   },
   "outputs": [
    {
     "data": {
      "image/png": "[encoded data removed]",
      "text/plain": [
       "<Figure size 288x288 with 1 Axes>"
      ]
     },
     "metadata": {
      "needs_background": "light"
     },
     "output_type": "display_data"
    }
   ],
   "source": [
    "#Uncomment and run the below code to configure the visualization in a different way (different from the set config)\n",
    "\n",
    "styled_network, config = nw.visualize(G)"
   ]
  },
  {
   "cell_type": "code",
   "execution_count": 42,
   "id": "a27c85ef",
   "metadata": {},
   "outputs": [],
   "source": [
    "## Config that remains same for the generated visualizations\n",
    "config = {'zoom': 0.9313611111111111,\n",
    " 'node_charge': -29.54650673400674,\n",
    " 'node_gravity': 0.11840698653198653,\n",
    " 'link_distance': 15,\n",
    " 'link_distance_variation': 0,\n",
    " 'node_collision': True,\n",
    " 'wiggle_nodes': False,\n",
    " 'freeze_nodes': True,\n",
    " 'node_fill_color': '#0d866d',\n",
    " 'node_stroke_color': '#555555',\n",
    " 'node_label_color': '#560909',\n",
    " 'display_node_labels': False,\n",
    " 'scale_node_size_by_strength': True,\n",
    " 'node_size': 9.368160774410775,\n",
    " 'node_stroke_width': 1,\n",
    " 'node_size_variation': 0.27764520202020204,\n",
    " 'link_color': '#7c7c7c',\n",
    " 'link_width': 2,\n",
    " 'link_alpha': 0.5,\n",
    " 'link_width_variation': 0.5,\n",
    " 'display_singleton_nodes': True,\n",
    " 'min_link_weight_percentile': 0,\n",
    " 'max_link_weight_percentile': 1}"
   ]
  },
  {
   "cell_type": "markdown",
   "id": "7b902f97",
   "metadata": {},
   "source": [
    "#### Run the below code to generate the visualization.\n",
    "- The visualization will open in a new window\n",
    "- To revert back to the code, select the post to python option in the menu, located on the right side of the window."
   ]
  },
  {
   "cell_type": "code",
   "execution_count": null,
   "id": "47930e22",
   "metadata": {},
   "outputs": [],
   "source": [
    "nw.visualize(G, config=config)"
   ]
  },
  {
   "cell_type": "markdown",
   "id": "68840194",
   "metadata": {},
   "source": [
    "#### Visualizing the main connected component of the graph"
   ]
  },
  {
   "cell_type": "code",
   "execution_count": 18,
   "id": "ffaa02ca",
   "metadata": {},
   "outputs": [],
   "source": [
    "# giant = max(nx.connected_components(G), key=len)\n",
    "\n",
    "# giant_list = list(giant)\n",
    "\n",
    "# N = nx.Graph()\n",
    "\n",
    "# for node in G.nodes():\n",
    "#     if node in giant_list:\n",
    "#         for k, v in G.edges(node):\n",
    "#             N.add_edge(k,v, weight = G[k][v][\"weight\"])"
   ]
  },
  {
   "cell_type": "code",
   "execution_count": 19,
   "id": "2c913656",
   "metadata": {},
   "outputs": [],
   "source": [
    "# article_df = pd.read_csv(\"C://Users//mansj//IQL//salt//data/article_list.csv\")\n",
    "# article_df.head()\n",
    "\n",
    "# author_df.head()"
   ]
  },
  {
   "cell_type": "code",
   "execution_count": 20,
   "id": "537550a7",
   "metadata": {},
   "outputs": [],
   "source": [
    "top_four = sorted(nx.connected_components(G), key=len, reverse=True)[:4]\n",
    "\n",
    "top_list = []\n",
    "for i in top_four:\n",
    "    for j in i:\n",
    "        top_list.append(j)\n",
    "    \n",
    "T = nx.Graph()\n",
    "for node in G.nodes():\n",
    "    if node in top_list:\n",
    "        for k, v in G.edges(node):\n",
    "            T.add_edge(k,v, weight = G[k][v][\"weight\"])\n",
    "        "
   ]
  },
  {
   "cell_type": "code",
   "execution_count": 25,
   "id": "981d6e2f",
   "metadata": {
    "scrolled": true
   },
   "outputs": [
    {
     "data": {
      "image/png": "[encoded data removed]",
      "text/plain": [
       "<Figure size 288x288 with 1 Axes>"
      ]
     },
     "metadata": {
      "needs_background": "light"
     },
     "output_type": "display_data"
    }
   ],
   "source": [
    "styled_network, config = nw.visualize(T)"
   ]
  },
  {
   "cell_type": "code",
   "execution_count": 27,
   "id": "2b701ea7",
   "metadata": {},
   "outputs": [],
   "source": [
    "config_four = {'zoom': 1.2347685185185187,\n",
    " 'node_charge': -41.613846801346796,\n",
    " 'node_gravity': 0.21322180134680135,\n",
    " 'link_distance': 15,\n",
    " 'link_distance_variation': 0,\n",
    " 'node_collision': True,\n",
    " 'wiggle_nodes': False,\n",
    " 'freeze_nodes': False,\n",
    " 'node_fill_color': '#166fce',\n",
    " 'node_stroke_color': '#555555',\n",
    " 'node_label_color': '#000000',\n",
    " 'display_node_labels': False,\n",
    " 'scale_node_size_by_strength': True,\n",
    " 'node_size': 8.075231481481481,\n",
    " 'node_stroke_width': 1.011679292929293,\n",
    " 'node_size_variation': 0.5103724747474747,\n",
    " 'link_color': '#7c7c7c',\n",
    " 'link_width': 2,\n",
    " 'link_alpha': 0.5,\n",
    " 'link_width_variation': 0.5,\n",
    " 'display_singleton_nodes': True,\n",
    " 'min_link_weight_percentile': 0,\n",
    " 'max_link_weight_percentile': 1}"
   ]
  },
  {
   "cell_type": "markdown",
   "id": "b392b14f",
   "metadata": {},
   "source": [
    "### Visualized with the help of netwulf. The network data tuned by the visualization is posted back to Python. \n",
    "- The visualization function returns two dictionaries.\n",
    "1. the first containing information about the stylized network.\n",
    "2. The second containing information about the visualization control configuration which can be used to reproduce the same visualization.\n"
   ]
  },
  {
   "cell_type": "code",
   "execution_count": 30,
   "id": "7eb86337",
   "metadata": {},
   "outputs": [
    {
     "data": {
      "text/plain": [
       "(None, None)"
      ]
     },
     "execution_count": 30,
     "metadata": {},
     "output_type": "execute_result"
    }
   ],
   "source": [
    "#Uncomment and run the below code to configure the visualization in a different way\n",
    "nw.visualize(T, config=config_four)"
   ]
  },
  {
   "cell_type": "markdown",
   "id": "7349b825",
   "metadata": {},
   "source": [
    "#### Below configuration can be used to reproduce the final visualization created for the co-author network (main component - largest connected component)"
   ]
  },
  {
   "cell_type": "code",
   "execution_count": 128,
   "id": "9580651e",
   "metadata": {},
   "outputs": [],
   "source": [
    "# plt.figure(figsize=(300, 300))\n",
    "# edges = N.edges()\n",
    "# weights = [N[u][v]['weight'] for u,v in edges]\n",
    "# nx.draw(N, font_size = 30, with_labels = True, width = weights)\n",
    "# plt.savefig('main_component.jpg')"
   ]
  },
  {
   "cell_type": "markdown",
   "id": "d001b2e5",
   "metadata": {},
   "source": [
    "#### Top 10 authors with most number of co-authors"
   ]
  },
  {
   "cell_type": "code",
   "execution_count": 31,
   "id": "c88e6c32",
   "metadata": {},
   "outputs": [
    {
     "data": {
      "text/html": [
       "<div>\n",
       "<style scoped>\n",
       "    .dataframe tbody tr th:only-of-type {\n",
       "        vertical-align: middle;\n",
       "    }\n",
       "\n",
       "    .dataframe tbody tr th {\n",
       "        vertical-align: top;\n",
       "    }\n",
       "\n",
       "    .dataframe thead th {\n",
       "        text-align: right;\n",
       "    }\n",
       "</style>\n",
       "<table border=\"1\" class=\"dataframe\">\n",
       "  <thead>\n",
       "    <tr style=\"text-align: right;\">\n",
       "      <th></th>\n",
       "      <th>author_name</th>\n",
       "      <th>number_of_coauthors</th>\n",
       "    </tr>\n",
       "  </thead>\n",
       "  <tbody>\n",
       "    <tr>\n",
       "      <th>1</th>\n",
       "      <td>Paul K. Whelton</td>\n",
       "      <td>8</td>\n",
       "    </tr>\n",
       "    <tr>\n",
       "      <th>2</th>\n",
       "      <td>JA Cutler</td>\n",
       "      <td>8</td>\n",
       "    </tr>\n",
       "    <tr>\n",
       "      <th>3</th>\n",
       "      <td>Michael H. Alderman</td>\n",
       "      <td>7</td>\n",
       "    </tr>\n",
       "    <tr>\n",
       "      <th>4</th>\n",
       "      <td>Lawrence J. Appel</td>\n",
       "      <td>7</td>\n",
       "    </tr>\n",
       "    <tr>\n",
       "      <th>5</th>\n",
       "      <td>P DiPasquale</td>\n",
       "      <td>7</td>\n",
       "    </tr>\n",
       "    <tr>\n",
       "      <th>6</th>\n",
       "      <td>L. Hooper</td>\n",
       "      <td>6</td>\n",
       "    </tr>\n",
       "    <tr>\n",
       "      <th>7</th>\n",
       "      <td>S. Ebrahim</td>\n",
       "      <td>6</td>\n",
       "    </tr>\n",
       "    <tr>\n",
       "      <th>8</th>\n",
       "      <td>Hillel W. Cohen</td>\n",
       "      <td>6</td>\n",
       "    </tr>\n",
       "    <tr>\n",
       "      <th>9</th>\n",
       "      <td>Salvatore Paterna</td>\n",
       "      <td>6</td>\n",
       "    </tr>\n",
       "    <tr>\n",
       "      <th>10</th>\n",
       "      <td>Shiriki Kumanyika</td>\n",
       "      <td>5</td>\n",
       "    </tr>\n",
       "  </tbody>\n",
       "</table>\n",
       "</div>"
      ],
      "text/plain": [
       "            author_name  number_of_coauthors\n",
       "1       Paul K. Whelton                    8\n",
       "2             JA Cutler                    8\n",
       "3   Michael H. Alderman                    7\n",
       "4     Lawrence J. Appel                    7\n",
       "5          P DiPasquale                    7\n",
       "6             L. Hooper                    6\n",
       "7            S. Ebrahim                    6\n",
       "8       Hillel W. Cohen                    6\n",
       "9     Salvatore Paterna                    6\n",
       "10    Shiriki Kumanyika                    5"
      ]
     },
     "execution_count": 31,
     "metadata": {},
     "output_type": "execute_result"
    }
   ],
   "source": [
    "c_a = Counter(author_df[\"full_name\"].to_list())\n",
    "c_a = sorted(c_a.items(), key = lambda x : x[1], reverse=True)\n",
    "num_auth_df = pd.DataFrame(c_a, index = range(1,len(c_a)+1))\n",
    "num_auth_df.rename(columns={0 : \"author_name\", 1 : \"number_of_coauthors\"}, inplace=True)\n",
    "num_auth_df[:10]"
   ]
  },
  {
   "cell_type": "code",
   "execution_count": 32,
   "id": "6cf8b221",
   "metadata": {},
   "outputs": [],
   "source": [
    "# function to get the results of centrality (degree, betweenness, closeness) in the dataframe\n",
    "def df_table(centrality_name, column_name):\n",
    "    c_list = sorted(centrality_name.items(), key = lambda x : x[1], reverse=True)\n",
    "\n",
    "    c_dict = dict()\n",
    "    for i in c_list[:10]:\n",
    "        c_dict[i[0]] = round(i[1]*100,2)\n",
    "    final_df = pd.DataFrame(list(c_dict.items()), index = range(1,11))\n",
    "    final_df.rename(columns= {0 : \"author_name\", 1: column_name}, inplace = True)\n",
    "    return final_df"
   ]
  },
  {
   "cell_type": "code",
   "execution_count": 33,
   "id": "38716a48",
   "metadata": {},
   "outputs": [
    {
     "data": {
      "text/html": [
       "<div>\n",
       "<style scoped>\n",
       "    .dataframe tbody tr th:only-of-type {\n",
       "        vertical-align: middle;\n",
       "    }\n",
       "\n",
       "    .dataframe tbody tr th {\n",
       "        vertical-align: top;\n",
       "    }\n",
       "\n",
       "    .dataframe thead th {\n",
       "        text-align: right;\n",
       "    }\n",
       "</style>\n",
       "<table border=\"1\" class=\"dataframe\">\n",
       "  <thead>\n",
       "    <tr style=\"text-align: right;\">\n",
       "      <th></th>\n",
       "      <th>author_name</th>\n",
       "      <th>degree_centrality</th>\n",
       "    </tr>\n",
       "  </thead>\n",
       "  <tbody>\n",
       "    <tr>\n",
       "      <th>1</th>\n",
       "      <td>JA Cutler</td>\n",
       "      <td>32.83</td>\n",
       "    </tr>\n",
       "    <tr>\n",
       "      <th>2</th>\n",
       "      <td>Nemat O. Borhani</td>\n",
       "      <td>30.81</td>\n",
       "    </tr>\n",
       "    <tr>\n",
       "      <th>3</th>\n",
       "      <td>Arlene W. Caggiula</td>\n",
       "      <td>30.81</td>\n",
       "    </tr>\n",
       "    <tr>\n",
       "      <th>4</th>\n",
       "      <td>Paul K. Whelton</td>\n",
       "      <td>29.97</td>\n",
       "    </tr>\n",
       "    <tr>\n",
       "      <th>5</th>\n",
       "      <td>Lawrence J. Appel</td>\n",
       "      <td>29.46</td>\n",
       "    </tr>\n",
       "    <tr>\n",
       "      <th>6</th>\n",
       "      <td>Shiriki Kumanyika</td>\n",
       "      <td>29.12</td>\n",
       "    </tr>\n",
       "    <tr>\n",
       "      <th>7</th>\n",
       "      <td>William B. Applegate</td>\n",
       "      <td>28.96</td>\n",
       "    </tr>\n",
       "    <tr>\n",
       "      <th>8</th>\n",
       "      <td>Julie Buring</td>\n",
       "      <td>28.11</td>\n",
       "    </tr>\n",
       "    <tr>\n",
       "      <th>9</th>\n",
       "      <td>Nancy Cook</td>\n",
       "      <td>28.11</td>\n",
       "    </tr>\n",
       "    <tr>\n",
       "      <th>10</th>\n",
       "      <td>Eva Obarzanek</td>\n",
       "      <td>28.11</td>\n",
       "    </tr>\n",
       "  </tbody>\n",
       "</table>\n",
       "</div>"
      ],
      "text/plain": [
       "             author_name  degree_centrality\n",
       "1              JA Cutler              32.83\n",
       "2       Nemat O. Borhani              30.81\n",
       "3     Arlene W. Caggiula              30.81\n",
       "4        Paul K. Whelton              29.97\n",
       "5      Lawrence J. Appel              29.46\n",
       "6      Shiriki Kumanyika              29.12\n",
       "7   William B. Applegate              28.96\n",
       "8           Julie Buring              28.11\n",
       "9             Nancy Cook              28.11\n",
       "10         Eva Obarzanek              28.11"
      ]
     },
     "execution_count": 33,
     "metadata": {},
     "output_type": "execute_result"
    }
   ],
   "source": [
    "#degree centrality\n",
    "degree_unwe = nx.degree_centrality(G)\n",
    "degree_df = df_table(degree_unwe, \"degree_centrality\")\n",
    "degree_df"
   ]
  },
  {
   "cell_type": "code",
   "execution_count": 34,
   "id": "329c88f5",
   "metadata": {},
   "outputs": [
    {
     "data": {
      "text/html": [
       "<div>\n",
       "<style scoped>\n",
       "    .dataframe tbody tr th:only-of-type {\n",
       "        vertical-align: middle;\n",
       "    }\n",
       "\n",
       "    .dataframe tbody tr th {\n",
       "        vertical-align: top;\n",
       "    }\n",
       "\n",
       "    .dataframe thead th {\n",
       "        text-align: right;\n",
       "    }\n",
       "</style>\n",
       "<table border=\"1\" class=\"dataframe\">\n",
       "  <thead>\n",
       "    <tr style=\"text-align: right;\">\n",
       "      <th></th>\n",
       "      <th>author_name</th>\n",
       "      <th>betweenness_centrality</th>\n",
       "    </tr>\n",
       "  </thead>\n",
       "  <tbody>\n",
       "    <tr>\n",
       "      <th>1</th>\n",
       "      <td>JA Cutler</td>\n",
       "      <td>0.93</td>\n",
       "    </tr>\n",
       "    <tr>\n",
       "      <th>2</th>\n",
       "      <td>Paul K. Whelton</td>\n",
       "      <td>0.74</td>\n",
       "    </tr>\n",
       "    <tr>\n",
       "      <th>3</th>\n",
       "      <td>Lawrence J. Appel</td>\n",
       "      <td>0.38</td>\n",
       "    </tr>\n",
       "    <tr>\n",
       "      <th>4</th>\n",
       "      <td>Nemat O. Borhani</td>\n",
       "      <td>0.35</td>\n",
       "    </tr>\n",
       "    <tr>\n",
       "      <th>5</th>\n",
       "      <td>Arlene W. Caggiula</td>\n",
       "      <td>0.35</td>\n",
       "    </tr>\n",
       "    <tr>\n",
       "      <th>6</th>\n",
       "      <td>P DiPasquale</td>\n",
       "      <td>0.31</td>\n",
       "    </tr>\n",
       "    <tr>\n",
       "      <th>7</th>\n",
       "      <td>Rod S. Taylor</td>\n",
       "      <td>0.28</td>\n",
       "    </tr>\n",
       "    <tr>\n",
       "      <th>8</th>\n",
       "      <td>Janet Raines</td>\n",
       "      <td>0.24</td>\n",
       "    </tr>\n",
       "    <tr>\n",
       "      <th>9</th>\n",
       "      <td>L. Hooper</td>\n",
       "      <td>0.19</td>\n",
       "    </tr>\n",
       "    <tr>\n",
       "      <th>10</th>\n",
       "      <td>Shiriki Kumanyika</td>\n",
       "      <td>0.18</td>\n",
       "    </tr>\n",
       "  </tbody>\n",
       "</table>\n",
       "</div>"
      ],
      "text/plain": [
       "           author_name  betweenness_centrality\n",
       "1            JA Cutler                    0.93\n",
       "2      Paul K. Whelton                    0.74\n",
       "3    Lawrence J. Appel                    0.38\n",
       "4     Nemat O. Borhani                    0.35\n",
       "5   Arlene W. Caggiula                    0.35\n",
       "6         P DiPasquale                    0.31\n",
       "7        Rod S. Taylor                    0.28\n",
       "8         Janet Raines                    0.24\n",
       "9            L. Hooper                    0.19\n",
       "10   Shiriki Kumanyika                    0.18"
      ]
     },
     "execution_count": 34,
     "metadata": {},
     "output_type": "execute_result"
    }
   ],
   "source": [
    "#betweeness centrality\n",
    "betweeness_cent = nx.betweenness_centrality(G)\n",
    "between_df = df_table(betweeness_cent, \"betweenness_centrality\")\n",
    "between_df"
   ]
  },
  {
   "cell_type": "code",
   "execution_count": 35,
   "id": "074e6c14",
   "metadata": {
    "scrolled": true
   },
   "outputs": [
    {
     "data": {
      "text/html": [
       "<div>\n",
       "<style scoped>\n",
       "    .dataframe tbody tr th:only-of-type {\n",
       "        vertical-align: middle;\n",
       "    }\n",
       "\n",
       "    .dataframe tbody tr th {\n",
       "        vertical-align: top;\n",
       "    }\n",
       "\n",
       "    .dataframe thead th {\n",
       "        text-align: right;\n",
       "    }\n",
       "</style>\n",
       "<table border=\"1\" class=\"dataframe\">\n",
       "  <thead>\n",
       "    <tr style=\"text-align: right;\">\n",
       "      <th></th>\n",
       "      <th>author_name</th>\n",
       "      <th>closeness_centrality</th>\n",
       "    </tr>\n",
       "  </thead>\n",
       "  <tbody>\n",
       "    <tr>\n",
       "      <th>1</th>\n",
       "      <td>JA Cutler</td>\n",
       "      <td>32.87</td>\n",
       "    </tr>\n",
       "    <tr>\n",
       "      <th>2</th>\n",
       "      <td>Nemat O. Borhani</td>\n",
       "      <td>31.08</td>\n",
       "    </tr>\n",
       "    <tr>\n",
       "      <th>3</th>\n",
       "      <td>Arlene W. Caggiula</td>\n",
       "      <td>31.08</td>\n",
       "    </tr>\n",
       "    <tr>\n",
       "      <th>4</th>\n",
       "      <td>Paul K. Whelton</td>\n",
       "      <td>30.40</td>\n",
       "    </tr>\n",
       "    <tr>\n",
       "      <th>5</th>\n",
       "      <td>Lawrence J. Appel</td>\n",
       "      <td>30.00</td>\n",
       "    </tr>\n",
       "    <tr>\n",
       "      <th>6</th>\n",
       "      <td>Shiriki Kumanyika</td>\n",
       "      <td>29.74</td>\n",
       "    </tr>\n",
       "    <tr>\n",
       "      <th>7</th>\n",
       "      <td>William B. Applegate</td>\n",
       "      <td>29.61</td>\n",
       "    </tr>\n",
       "    <tr>\n",
       "      <th>8</th>\n",
       "      <td>Julie Buring</td>\n",
       "      <td>28.98</td>\n",
       "    </tr>\n",
       "    <tr>\n",
       "      <th>9</th>\n",
       "      <td>Nancy Cook</td>\n",
       "      <td>28.98</td>\n",
       "    </tr>\n",
       "    <tr>\n",
       "      <th>10</th>\n",
       "      <td>Eva Obarzanek</td>\n",
       "      <td>28.98</td>\n",
       "    </tr>\n",
       "  </tbody>\n",
       "</table>\n",
       "</div>"
      ],
      "text/plain": [
       "             author_name  closeness_centrality\n",
       "1              JA Cutler                 32.87\n",
       "2       Nemat O. Borhani                 31.08\n",
       "3     Arlene W. Caggiula                 31.08\n",
       "4        Paul K. Whelton                 30.40\n",
       "5      Lawrence J. Appel                 30.00\n",
       "6      Shiriki Kumanyika                 29.74\n",
       "7   William B. Applegate                 29.61\n",
       "8           Julie Buring                 28.98\n",
       "9             Nancy Cook                 28.98\n",
       "10         Eva Obarzanek                 28.98"
      ]
     },
     "execution_count": 35,
     "metadata": {},
     "output_type": "execute_result"
    }
   ],
   "source": [
    "#closeness centrality\n",
    "closeness_centrality = nx.closeness_centrality(G)\n",
    "closeness_df = df_table(closeness_centrality, \"closeness_centrality\")\n",
    "closeness_df"
   ]
  },
  {
   "cell_type": "code",
   "execution_count": 36,
   "id": "d8a036a3",
   "metadata": {},
   "outputs": [
    {
     "data": {
      "text/html": [
       "<div>\n",
       "<style scoped>\n",
       "    .dataframe tbody tr th:only-of-type {\n",
       "        vertical-align: middle;\n",
       "    }\n",
       "\n",
       "    .dataframe tbody tr th {\n",
       "        vertical-align: top;\n",
       "    }\n",
       "\n",
       "    .dataframe thead th {\n",
       "        text-align: right;\n",
       "    }\n",
       "</style>\n",
       "<table border=\"1\" class=\"dataframe\">\n",
       "  <thead>\n",
       "    <tr style=\"text-align: right;\">\n",
       "      <th></th>\n",
       "      <th>author_name</th>\n",
       "      <th>eigenvector_centrality</th>\n",
       "    </tr>\n",
       "  </thead>\n",
       "  <tbody>\n",
       "    <tr>\n",
       "      <th>1</th>\n",
       "      <td>JA Cutler</td>\n",
       "      <td>9.98</td>\n",
       "    </tr>\n",
       "    <tr>\n",
       "      <th>2</th>\n",
       "      <td>Nemat O. Borhani</td>\n",
       "      <td>9.95</td>\n",
       "    </tr>\n",
       "    <tr>\n",
       "      <th>3</th>\n",
       "      <td>Arlene W. Caggiula</td>\n",
       "      <td>9.95</td>\n",
       "    </tr>\n",
       "    <tr>\n",
       "      <th>4</th>\n",
       "      <td>Paul K. Whelton</td>\n",
       "      <td>9.91</td>\n",
       "    </tr>\n",
       "    <tr>\n",
       "      <th>5</th>\n",
       "      <td>Lawrence J. Appel</td>\n",
       "      <td>9.90</td>\n",
       "    </tr>\n",
       "    <tr>\n",
       "      <th>6</th>\n",
       "      <td>Shiriki Kumanyika</td>\n",
       "      <td>9.90</td>\n",
       "    </tr>\n",
       "    <tr>\n",
       "      <th>7</th>\n",
       "      <td>William B. Applegate</td>\n",
       "      <td>9.90</td>\n",
       "    </tr>\n",
       "    <tr>\n",
       "      <th>8</th>\n",
       "      <td>Julie Buring</td>\n",
       "      <td>9.88</td>\n",
       "    </tr>\n",
       "    <tr>\n",
       "      <th>9</th>\n",
       "      <td>Nancy Cook</td>\n",
       "      <td>9.88</td>\n",
       "    </tr>\n",
       "    <tr>\n",
       "      <th>10</th>\n",
       "      <td>Eva Obarzanek</td>\n",
       "      <td>9.88</td>\n",
       "    </tr>\n",
       "  </tbody>\n",
       "</table>\n",
       "</div>"
      ],
      "text/plain": [
       "             author_name  eigenvector_centrality\n",
       "1              JA Cutler                    9.98\n",
       "2       Nemat O. Borhani                    9.95\n",
       "3     Arlene W. Caggiula                    9.95\n",
       "4        Paul K. Whelton                    9.91\n",
       "5      Lawrence J. Appel                    9.90\n",
       "6      Shiriki Kumanyika                    9.90\n",
       "7   William B. Applegate                    9.90\n",
       "8           Julie Buring                    9.88\n",
       "9             Nancy Cook                    9.88\n",
       "10         Eva Obarzanek                    9.88"
      ]
     },
     "execution_count": 36,
     "metadata": {},
     "output_type": "execute_result"
    }
   ],
   "source": [
    "eigenvector_centrality = nx.eigenvector_centrality(G)\n",
    "eigen_list = sorted(eigenvector_centrality.items(), key = lambda x : x[1], reverse=True)\n",
    "\n",
    "eigen_dict = dict()\n",
    "for i in eigen_list[:10]:\n",
    "    eigen_dict[i[0]] = round(i[1]*100,2)\n",
    "final_df = pd.DataFrame(list(eigen_dict.items()), index = range(1,11))\n",
    "final_df.rename(columns= {0 : \"author_name\", 1: \"eigenvector_centrality\"}, inplace = True)\n",
    "final_df"
   ]
  },
  {
   "cell_type": "code",
   "execution_count": 38,
   "id": "766eac9b",
   "metadata": {},
   "outputs": [],
   "source": [
    "# effective_size = nx.effective_size(G)\n",
    "# effective_list = sorted(effective_size.items(), key = lambda x : x[1], reverse=True)\n",
    "\n",
    "# effective_dict = dict()\n",
    "# for i in effective_list[:10]:\n",
    "#     effective_dict[i[0]] = round(i[1],2)\n",
    "# final_ef_df = pd.DataFrame(list(effective_dict.items()), index = range(1,11))\n",
    "# final_ef_df.rename(columns= {0 : \"author_name\", 1: \"effective_size\"}, inplace = True)\n",
    "# final_ef_df\n"
   ]
  },
  {
   "cell_type": "code",
   "execution_count": 160,
   "id": "ec0f375a",
   "metadata": {},
   "outputs": [],
   "source": []
  }
 ],
 "metadata": {
  "kernelspec": {
   "display_name": "Python 3",
   "language": "python",
   "name": "python3"
  },
  "language_info": {
   "codemirror_mode": {
    "name": "ipython",
    "version": 3
   },
   "file_extension": ".py",
   "mimetype": "text/x-python",
   "name": "python",
   "nbconvert_exporter": "python",
   "pygments_lexer": "ipython3",
   "version": "3.8.8"
  }
 },
 "nbformat": 4,
 "nbformat_minor": 5
}
